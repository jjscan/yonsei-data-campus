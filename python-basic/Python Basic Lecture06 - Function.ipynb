{
 "cells": [
  {
   "cell_type": "markdown",
   "metadata": {},
   "source": [
    "![kdata](../img/kdata-logo.png)\n",
    "\n",
    "# Python Basic Lecture06 : 함수(Function)\n",
    "\n",
    "Date : 2019.07.03"
   ]
  },
  {
   "cell_type": "markdown",
   "metadata": {},
   "source": [
    "## 함수 호출\n",
    ": 이미 작성된 함수를 프로그램에서 실행 시키는 방법\n",
    "\n",
    "### 작업대상 함수 호출 법\n",
    "```python\n",
    ">>> player_list.append('김하온')\n",
    "# 작업대상.함수명(인자값)\n",
    "# 특정 '작업대상'만 실행 경우\n",
    "```\n",
    "\n",
    "### Built-in 함수 호출 법\n",
    "```python\n",
    ">>> print ('Hello world')\n",
    "# 함수명(인자값)\n",
    "# 범용적인 작업인 경우\n",
    "```"
   ]
  },
  {
   "cell_type": "markdown",
   "metadata": {},
   "source": [
    "> pow( ) 함수를 호출 후 반환값을 화면에 출력하세요"
   ]
  },
  {
   "cell_type": "code",
   "execution_count": 1,
   "metadata": {},
   "outputs": [
    {
     "name": "stdout",
     "output_type": "stream",
     "text": [
      "1024\n"
     ]
    }
   ],
   "source": [
    "value = pow(2,10)\n",
    "print(value)"
   ]
  },
  {
   "cell_type": "markdown",
   "metadata": {},
   "source": [
    "## 함수 만들기\n",
    ": `def`키워드와 `들여쓰기`\n",
    "\n",
    "```python\n",
    "def 함수이름(매개변수):\n",
    "    statement1\n",
    "    statement2\n",
    "    ...\n",
    "```\n",
    "- 함수이름 : 변수이름 만드는 규칙 따르기\n",
    "- 매개변수 : 함수 호출 시의 인자값을 받아오는 변수들을 `,` 로 구분해서 나열\n",
    "\n",
    "> 함수 만들기 완료 위치는: 더 이상 들여쓰기 안하면\n",
    "함수를 만든다고 실행되는 것이 아님, 함수 호출해야 실행됨!!!"
   ]
  },
  {
   "cell_type": "markdown",
   "metadata": {},
   "source": [
    "### 리턴값이 없는 경우"
   ]
  },
  {
   "cell_type": "code",
   "execution_count": 16,
   "metadata": {},
   "outputs": [
    {
     "name": "stdout",
     "output_type": "stream",
     "text": [
      "Maximum is 2\n"
     ]
    }
   ],
   "source": [
    "a = 1\n",
    "b = 2\n",
    "\n",
    "def print_max_num(a,b):\n",
    "    max = None\n",
    "    if a > b:\n",
    "        max = a\n",
    "    elif a < b:\n",
    "        max = b\n",
    "    else:\n",
    "        max = None\n",
    "        \n",
    "    if not max:\n",
    "        print('{} is equal to {}'.format(a,b))\n",
    "    else:\n",
    "        print('Maximum is {}'.format(max))\n",
    "        \n",
    "print_max_num(a,b)"
   ]
  },
  {
   "cell_type": "markdown",
   "metadata": {},
   "source": [
    "### 리턴값이 있는 경우"
   ]
  },
  {
   "cell_type": "code",
   "execution_count": 13,
   "metadata": {},
   "outputs": [
    {
     "name": "stdout",
     "output_type": "stream",
     "text": [
      "67\n"
     ]
    }
   ],
   "source": [
    "def get_max_num(a,b):\n",
    "    if a > b:\n",
    "        return a\n",
    "    elif a <= b:\n",
    "        return b\n",
    "\n",
    "print(get_max_num(55,67))"
   ]
  },
  {
   "cell_type": "code",
   "execution_count": 15,
   "metadata": {},
   "outputs": [
    {
     "data": {
      "text/plain": [
       "8"
      ]
     },
     "execution_count": 15,
     "metadata": {},
     "output_type": "execute_result"
    }
   ],
   "source": [
    "def simple_sum(a,b):\n",
    "    return a+b\n",
    "simple_sum(3,5)"
   ]
  },
  {
   "cell_type": "markdown",
   "metadata": {},
   "source": [
    "### 매개변수의 기본인자값"
   ]
  },
  {
   "cell_type": "code",
   "execution_count": 29,
   "metadata": {},
   "outputs": [
    {
     "name": "stdout",
     "output_type": "stream",
     "text": [
      "3333\n"
     ]
    }
   ],
   "source": [
    "# times 같은 경우는 따로 쓰지 않을 경우 1로 default\n",
    "def say(message, times = 1 ): \n",
    "    print( message * times )\n",
    "    \n",
    "say('3',4)"
   ]
  },
  {
   "cell_type": "markdown",
   "metadata": {},
   "source": [
    "> 기본인자값은 뒤에서부터만 줄 수 있음\n",
    "\n",
    "```\n",
    "def fun(a,b=10,c): # c에서부터 줘야함\n",
    "    print(a,b,c)\n",
    "    \n",
    "  File \"<ipython-input-31-cfc712ed44ad>\", line 1\n",
    "    def fun(a,b=10,c): # c에서부터 거꾸로 줘야함\n",
    "           ^\n",
    "SyntaxError: non-default argument follows default argument\n",
    "```"
   ]
  },
  {
   "cell_type": "code",
   "execution_count": 33,
   "metadata": {},
   "outputs": [
    {
     "name": "stdout",
     "output_type": "stream",
     "text": [
      "1 2 10\n"
     ]
    }
   ],
   "source": [
    "def fun(a,b,c=10): # c에서부터 줘야함\n",
    "    print(a,b,c)\n",
    "\n",
    "fun(1,2)"
   ]
  },
  {
   "cell_type": "markdown",
   "metadata": {},
   "source": [
    "### 인자 지정 호출\n",
    "인자를 다 알아야함"
   ]
  },
  {
   "cell_type": "code",
   "execution_count": 35,
   "metadata": {},
   "outputs": [
    {
     "name": "stdout",
     "output_type": "stream",
     "text": [
      "25\n",
      "25\n"
     ]
    }
   ],
   "source": [
    "def fun(num,p):\n",
    "    return num**p\n",
    "\n",
    "print( fun( p = 2, num = 5 ) )\n",
    "#print( fun( 5, p = 2, ) ) # SyntaxError!!\n",
    "print( fun( num = 5, p = 2 ) )"
   ]
  },
  {
   "cell_type": "markdown",
   "metadata": {},
   "source": [
    "### 가변 인자를 받아야할 경우 -> `*`\n",
    "tuple로 받음  \n",
    "인자값들의 합을 출력하는 함수 작성(인자의 개수는 가변적)  \n",
    "parameter 이름 앞의 `*` : 임의의 개수의 인자값들을 받아 tuple로 저장"
   ]
  },
  {
   "cell_type": "code",
   "execution_count": 45,
   "metadata": {},
   "outputs": [
    {
     "name": "stdout",
     "output_type": "stream",
     "text": [
      "<class 'tuple'>\n",
      "13\n",
      "<class 'tuple'>\n",
      "7\n",
      "<class 'tuple'>\n",
      "3\n",
      "<class 'tuple'>\n",
      "1\n",
      "<class 'tuple'>\n",
      "0\n"
     ]
    }
   ],
   "source": [
    "def test(*x): # Q: 리스트를 넣는거하고 머가 다르지?\n",
    "    print(type(x))\n",
    "    print(sum(x))\n",
    "    \n",
    "test(1,3,4,5)\n",
    "test(1,2,4)\n",
    "test(1,2)\n",
    "test(1)\n",
    "test() # 인자값이 아무것도 없어도 괜찮음"
   ]
  },
  {
   "cell_type": "code",
   "execution_count": 47,
   "metadata": {},
   "outputs": [
    {
     "data": {
      "text/plain": [
       "(1, 2)"
      ]
     },
     "execution_count": 47,
     "metadata": {},
     "output_type": "execute_result"
    }
   ],
   "source": [
    "divmod(6,4) # 몫과 나머지"
   ]
  },
  {
   "cell_type": "code",
   "execution_count": 48,
   "metadata": {},
   "outputs": [
    {
     "data": {
      "text/plain": [
       "(1, 2)"
      ]
     },
     "execution_count": 48,
     "metadata": {},
     "output_type": "execute_result"
    }
   ],
   "source": [
    "def mydivmod(x,y):\n",
    "    return x//y, x%y\n",
    "mydivmod(6,4)"
   ]
  },
  {
   "cell_type": "code",
   "execution_count": 55,
   "metadata": {},
   "outputs": [
    {
     "name": "stdout",
     "output_type": "stream",
     "text": [
      "(1, 2)\n",
      "(0, 4)\n"
     ]
    }
   ],
   "source": [
    "t = (6,4)\n",
    "\n",
    "print(mydivmod(*t)) # 그냥 *만 붙이면 해결된다\n",
    "print(mydivmod(y=t[0],x=t[1]))"
   ]
  },
  {
   "cell_type": "markdown",
   "metadata": {},
   "source": [
    "### 함수 호출 인자 정보로 dict를 -> `**`\n",
    "> 다음과 같이 호출할 때, 함수 fun에 a, bb, ccc 라는 parameter가\n",
    "없으면?\n",
    ">> fun ( a = 1, bb= 2, ccc = 3)"
   ]
  },
  {
   "cell_type": "code",
   "execution_count": 62,
   "metadata": {},
   "outputs": [
    {
     "name": "stdout",
     "output_type": "stream",
     "text": [
      "<class 'dict'>\n",
      "graph 는  1000 원\n",
      "apple 는  700 원\n",
      "orange 는  600 원\n"
     ]
    }
   ],
   "source": [
    "def price(**fruit): ## 함수를 만들때 *가 두개를 붙임\n",
    "    print(type(fruit))\n",
    "    for x in fruit :\n",
    "        print( x, '는 ', fruit[x], '원')\n",
    "\n",
    "        \n",
    "'''\n",
    "fruit = {'graph' = 1000,\n",
    "         'apple' = 700,\n",
    "         'orange' = 600}\n",
    "로 알아서 변환해서 넣어준다는 얘기임\n",
    "'''        \n",
    "price(graph = 1000, apple = 700, orange = 600)"
   ]
  },
  {
   "cell_type": "markdown",
   "metadata": {},
   "source": [
    "### Parameter이름 앞에 `*`, `**` 함께 사용"
   ]
  },
  {
   "cell_type": "code",
   "execution_count": 59,
   "metadata": {},
   "outputs": [],
   "source": [
    "def totalcost(*count, **fruit) :\n",
    "    sum = 0\n",
    "    i = 0\n",
    "    for x in fruit :\n",
    "        sum += fruit[x]*count[i]\n",
    "        print( x, count[i], \"개\", end = ' ' )\n",
    "        i += 1\n",
    "    print( \" ==> \", sum )"
   ]
  },
  {
   "cell_type": "code",
   "execution_count": 60,
   "metadata": {},
   "outputs": [
    {
     "name": "stdout",
     "output_type": "stream",
     "text": [
      "graph 2 개 apple 3 개 orange 1 개  ==>  4700\n"
     ]
    }
   ],
   "source": [
    "totalcost( 2, 3, 1, graph = 1000, apple = 700, orange = 600)"
   ]
  },
  {
   "cell_type": "markdown",
   "metadata": {},
   "source": [
    "### 함수의 결과값으로 여러 개 값 반환"
   ]
  },
  {
   "cell_type": "code",
   "execution_count": 66,
   "metadata": {},
   "outputs": [],
   "source": [
    "def min_max( t ) :\n",
    "    return min(t), max(t)"
   ]
  },
  {
   "cell_type": "code",
   "execution_count": 70,
   "metadata": {},
   "outputs": [
    {
     "name": "stdout",
     "output_type": "stream",
     "text": [
      "0\n",
      "10\n",
      "<class 'tuple'>\n"
     ]
    }
   ],
   "source": [
    "_min,_max = min_max( (3,5,2,1,9,10,0,6) )\n",
    "print(_min)\n",
    "print(_max)\n",
    "\n",
    "print( type( x ) )"
   ]
  },
  {
   "cell_type": "markdown",
   "metadata": {},
   "source": [
    "### 함수 내의 변수, parameter의 유효범위\n",
    "- 변수를 만든 위치에 따라 사용 가능한 문장의 범위가 결정됨\n",
    "- 함수 안에서 변수를 만들면, 해당 함수 안에서만 사용 가능"
   ]
  },
  {
   "cell_type": "code",
   "execution_count": 78,
   "metadata": {},
   "outputs": [
    {
     "name": "stdout",
     "output_type": "stream",
     "text": [
      "Before Function Called x :  50\n",
      "After Fuction call, x is  50\n",
      "Changed Local x to  2\n",
      "x is  50\n"
     ]
    }
   ],
   "source": [
    "x = 50\n",
    "def func(x):\n",
    "    print(\"After Fuction call, x is \",x)\n",
    "    x = 2\n",
    "    print('Changed Local x to ',x)\n",
    "    \n",
    "print('Before Function Called x : ',x)\n",
    "func(x) # 여기에서는 x값이 잠깐 바뀐거임\n",
    "print('x is ',x)"
   ]
  },
  {
   "cell_type": "markdown",
   "metadata": {},
   "source": [
    "#### global"
   ]
  },
  {
   "cell_type": "code",
   "execution_count": 80,
   "metadata": {},
   "outputs": [
    {
     "name": "stdout",
     "output_type": "stream",
     "text": [
      "Before Function Called x :  50\n",
      "After Fuction call, x is  50\n",
      "Changed Global x to  2\n",
      "x is  2\n"
     ]
    }
   ],
   "source": [
    "x = 50\n",
    "\n",
    "def func():\n",
    "    global x # 밖에 있는 변수를 쓸래!\n",
    "    print(\"After Fuction call, x is \",x)\n",
    "    x = 2\n",
    "    print('Changed Global x to ',x)\n",
    "\n",
    "print('Before Function Called x : ',x)\n",
    "func() \n",
    "print('x is ',x)"
   ]
  },
  {
   "cell_type": "markdown",
   "metadata": {},
   "source": [
    "### 예제\n",
    "```\n",
    "문항 - SW\n",
    "\n",
    "정수 인자의 값이 홀수이면 True, 아니면 False를 return 하는 함수 odd(x)를 정의하십시오.\n",
    "if 문을 사용하지 않습니다.\n",
    "\n",
    "정수 값을 입력받아 x 에 저장하고, \n",
    "odd 함수를 호출하여 반환값을 출력하는 문장도 작성합니다.\n",
    "언어 : python3\n",
    "입력 설명 :\n",
    "\n",
    "다음과 같이 정수값을 입력받습니다.\n",
    "===========================\n",
    "정수입력:   3\n",
    "출력 설명 :\n",
    "\n",
    "입력된 정수값에 따라 False나 True를 출력합니다.\n",
    "===========================\n",
    "True\n",
    "샘플 입력 :\n",
    "\n",
    "3\n",
    "샘플 출력 :\n",
    "\n",
    "True\n",
    "```"
   ]
  },
  {
   "cell_type": "code",
   "execution_count": 84,
   "metadata": {},
   "outputs": [
    {
     "name": "stdout",
     "output_type": "stream",
     "text": [
      "3\n"
     ]
    },
    {
     "data": {
      "text/plain": [
       "True"
      ]
     },
     "execution_count": 84,
     "metadata": {},
     "output_type": "execute_result"
    }
   ],
   "source": [
    "x = int(input())\n",
    "def odd(x):\n",
    "    '''\n",
    "    ans = [False,True]\n",
    "    return ans[x%2]\n",
    "    '''\n",
    "    return bool(x%2)\n",
    "odd(x)"
   ]
  },
  {
   "cell_type": "markdown",
   "metadata": {},
   "source": [
    "```\n",
    "함수 mod(m, n)을 다음과 같이 정의합니다. \n",
    "    매개변수 m과 n 에 전달된 값이 모두 양의 정수일 때,  m을  n으로 나눈 나머지 값을 반환합니다.\n",
    "    양의 정수가 아닌 경우, \"매개변수는 모두 양의 정수이어야 합니다.\" 라고 출력합니다.\n",
    "\n",
    "m 과 n 변수에 숫자를 입력받는 문장과, \n",
    "mod 함수를 m,n 값으로 호출하여 결과값을 출력하는 문장도 작성합니다.\n",
    "언어 : python3\n",
    "입력 설명 :\n",
    "\n",
    "다음과 같이 m과 n의 숫자를 입력받습니다.\n",
    "================================\n",
    "m: 199\n",
    "n: 17\n",
    "출력 설명 :\n",
    "\n",
    "음과 같이 m을 n으로 나눈 나머지를 출력합니다.\n",
    "====================================\n",
    "12\n",
    "샘플 입력 :\n",
    "\n",
    "199\n",
    "17\n",
    "샘플 출력 :\n",
    "\n",
    "12\n",
    "\n",
    "```"
   ]
  },
  {
   "cell_type": "code",
   "execution_count": 89,
   "metadata": {},
   "outputs": [
    {
     "name": "stdout",
     "output_type": "stream",
     "text": [
      "3,0.3\n",
      "입력된 수가 정수가 아닙니다.\n"
     ]
    }
   ],
   "source": [
    "m,n = eval(input())\n",
    "def mod(m,n):\n",
    "    if type(m)==int and type(n)==int:\n",
    "        if not (m>0 and n>0):\n",
    "            print('매개변수는 모두 양의 정수이어야 합니다.')\n",
    "            return\n",
    "        else:\n",
    "            return m%n\n",
    "    else:\n",
    "        print('입력된 수가 정수가 아닙니다.')\n",
    "        # return None 이 생략된거\n",
    "mod(m,n)"
   ]
  },
  {
   "cell_type": "markdown",
   "metadata": {},
   "source": [
    "```\n",
    "과일의 비타민 함유량을 다음과 같이 전달하는 함수 vitamin_c 는 각 과일 이름과 함유량을\n",
    "인자로 받아 dict로 저장하고, 이름과 함유량을 출력예와 같이 출력한후, 총함유량을 반환한다.\n",
    "이와 같은 함수 vitamin_c를 정의한다.\n",
    "\n",
    "다음과 같은 함수 vitamin_c 호출문도 작성한다.\n",
    "print(\"총 함유량:\" ,vitamin_c(citron=105,strawberry=94,quince=81,lemon=70,tangerine=39))\n",
    "print(\"총 함유량:\" ,vitamin_c(orange=43, kiwi=27, cherryTomato=21, appe=4))\n",
    "언어 : python3\n",
    "입력 설명 :\n",
    "\n",
    "프로그램의 입력값을 없습니다.\n",
    "출력 설명 :\n",
    "\n",
    "문제와 같이 호출문을 작성한 경우 다음과 같이 출력됩니다.\n",
    "================================\n",
    "----------------------------------\n",
    "Fruit Name      Vitamin C Content\n",
    "----------------------------------\n",
    "citron          105\n",
    "strawberry      94\n",
    "quince          81\n",
    "lemon           70\n",
    "tangerine       39\n",
    "----------------------------------\n",
    "총 함유량: 389\n",
    "----------------------------------\n",
    "Fruit Name      Vitamin C Content\n",
    "----------------------------------\n",
    "orange          43\n",
    "kiwi            27\n",
    "cherryTomato    21\n",
    "appe            4\n",
    "----------------------------------\n",
    "총 함유량: 95\n",
    "\n",
    "샘플 출력 :\n",
    "\n",
    "문제와 같이 호출문을 작성한 경우 다음과 같이 출력됩니다.\n",
    "================================\n",
    "----------------------------------\n",
    "Fruit Name      Vitamin C Content\n",
    "----------------------------------\n",
    "citron          105\n",
    "strawberry      94\n",
    "quince          81\n",
    "lemon           70\n",
    "tangerine       39\n",
    "----------------------------------\n",
    "총 함유량: 389\n",
    "----------------------------------\n",
    "Fruit Name      Vitamin C Content\n",
    "----------------------------------\n",
    "orange          43\n",
    "kiwi            27\n",
    "cherryTomato    21\n",
    "appe            4\n",
    "----------------------------------\n",
    "총 함유량: 95\n",
    "```"
   ]
  },
  {
   "cell_type": "code",
   "execution_count": 99,
   "metadata": {
    "scrolled": true
   },
   "outputs": [
    {
     "name": "stdout",
     "output_type": "stream",
     "text": [
      "----------------------------------\n",
      "Fruit Name      Vitamin C Content\n",
      "----------------------------------\n",
      "citron          105              \n",
      "strawberry      94               \n",
      "quince          81               \n",
      "lemon           70               \n",
      "tangerine       39               \n",
      "----------------------------------\n",
      "총 함유량: 389\n",
      "----------------------------------\n",
      "Fruit Name      Vitamin C Content\n",
      "----------------------------------\n",
      "orange          43               \n",
      "kiwi            27               \n",
      "cherryTomato    21               \n",
      "appe            4                \n",
      "----------------------------------\n",
      "총 함유량: 95\n"
     ]
    }
   ],
   "source": [
    "def vitamin_c(**fruit):\n",
    "    sum = 0\n",
    "    print('----------------------------------')\n",
    "    print('Fruit Name      Vitamin C Content')\n",
    "    print('----------------------------------')\n",
    "    for name,value in fruit.items():\n",
    "        print(\"{:<16}{:<17}\".format(name,value))\n",
    "        sum += value\n",
    "    print('----------------------------------')\n",
    "    return sum\n",
    "    \n",
    "print(\"총 함유량:\" ,vitamin_c(citron=105,strawberry=94,quince=81,lemon=70,tangerine=39))\n",
    "print(\"총 함유량:\" ,vitamin_c(orange=43, kiwi=27, cherryTomato=21, appe=4))"
   ]
  }
 ],
 "metadata": {
  "kernelspec": {
   "display_name": "Python 3",
   "language": "python",
   "name": "python3"
  },
  "language_info": {
   "codemirror_mode": {
    "name": "ipython",
    "version": 3
   },
   "file_extension": ".py",
   "mimetype": "text/x-python",
   "name": "python",
   "nbconvert_exporter": "python",
   "pygments_lexer": "ipython3",
   "version": "3.6.8"
  }
 },
 "nbformat": 4,
 "nbformat_minor": 2
}
