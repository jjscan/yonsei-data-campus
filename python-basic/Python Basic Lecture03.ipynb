{
 "cells": [
  {
   "cell_type": "markdown",
   "metadata": {},
   "source": [
    "![kdata](../img/kdata-logo.png)\n",
    "\n",
    "# Python Basic Lecture03\n",
    "\n",
    "Date : 2019.07.01"
   ]
  },
  {
   "cell_type": "markdown",
   "metadata": {},
   "source": [
    "## Data Structure\n",
    "\n",
    "### 1. 리스트(List)"
   ]
  },
  {
   "cell_type": "code",
   "execution_count": 13,
   "metadata": {},
   "outputs": [
    {
     "name": "stdout",
     "output_type": "stream",
     "text": [
      "[10, 20, 30]\n"
     ]
    }
   ],
   "source": [
    "x = [10,20,30] # 콤마(,)로 구분하자\n",
    "print(x)"
   ]
  },
  {
   "cell_type": "code",
   "execution_count": 14,
   "metadata": {
    "scrolled": true
   },
   "outputs": [
    {
     "name": "stdout",
     "output_type": "stream",
     "text": [
      "[100, 3.14, 'abc', True, [10, 20, 30]]\n"
     ]
    }
   ],
   "source": [
    "y = [100,3.14,'abc',True,x] # Type이 다 같을 필요가 없음! 즉, 어떤 type이든 상관없음\n",
    "print(y)"
   ]
  },
  {
   "cell_type": "code",
   "execution_count": 11,
   "metadata": {},
   "outputs": [],
   "source": [
    "band_list = [] # 빈 list"
   ]
  },
  {
   "cell_type": "code",
   "execution_count": 12,
   "metadata": {},
   "outputs": [
    {
     "name": "stdout",
     "output_type": "stream",
     "text": [
      "['호피폴라', '애프터문', '루시', '모네', '퍼플레인', '피플 온 더 브릿지']\n"
     ]
    }
   ],
   "source": [
    "band_list = ['호피폴라','애프터문','루시','모네','퍼플레인','피플 온 더 브릿지']\n",
    "print(band_list)"
   ]
  },
  {
   "cell_type": "code",
   "execution_count": 15,
   "metadata": {},
   "outputs": [
    {
     "data": {
      "text/plain": [
       "'호피폴라'"
      ]
     },
     "execution_count": 15,
     "metadata": {},
     "output_type": "execute_result"
    }
   ],
   "source": [
    "band_list[0] # 첫번째 원소"
   ]
  },
  {
   "cell_type": "code",
   "execution_count": 16,
   "metadata": {},
   "outputs": [
    {
     "name": "stdout",
     "output_type": "stream",
     "text": [
      "애프터문\n"
     ]
    }
   ],
   "source": [
    "print(band_list[1]) # print하면 따옴표 날아감"
   ]
  },
  {
   "cell_type": "code",
   "execution_count": 17,
   "metadata": {},
   "outputs": [
    {
     "name": "stdout",
     "output_type": "stream",
     "text": [
      "['Ha', 3]\n"
     ]
    }
   ],
   "source": [
    "list_in_list = [1,2,['Ha',3]]\n",
    "print(list_in_list[2])"
   ]
  },
  {
   "cell_type": "code",
   "execution_count": 18,
   "metadata": {},
   "outputs": [
    {
     "name": "stdout",
     "output_type": "stream",
     "text": [
      "Ha\n"
     ]
    }
   ],
   "source": [
    "print(list_in_list[2][0])"
   ]
  },
  {
   "cell_type": "code",
   "execution_count": 20,
   "metadata": {},
   "outputs": [
    {
     "data": {
      "text/plain": [
       "'피플 온 더 브릿지'"
      ]
     },
     "execution_count": 20,
     "metadata": {},
     "output_type": "execute_result"
    }
   ],
   "source": [
    "band_list[-1] # 거꾸로...-1은 마지막 원소"
   ]
  },
  {
   "cell_type": "markdown",
   "metadata": {},
   "source": [
    "band_list[-7] # 없으니까 Error\n",
    "```\n",
    "---------------------------------------------------------------------------\n",
    "IndexError                                Traceback (most recent call last)\n",
    "<ipython-input-21-b40931a885fc> in <module>\n",
    "----> 1 band_list[-7]\n",
    "\n",
    "IndexError: list index out of range\n",
    "\n",
    "```"
   ]
  },
  {
   "cell_type": "code",
   "execution_count": 40,
   "metadata": {},
   "outputs": [
    {
     "data": {
      "text/plain": [
       "[1, 2, 'No Limit', 5]"
      ]
     },
     "execution_count": 40,
     "metadata": {},
     "output_type": "execute_result"
    }
   ],
   "source": [
    "num_str_list = [1,2,'Ha','No Limit',5]\n",
    "del num_str_list[2]\n",
    "num_str_list # Ha가 사라짐"
   ]
  },
  {
   "cell_type": "code",
   "execution_count": 42,
   "metadata": {},
   "outputs": [
    {
     "data": {
      "text/plain": [
       "[1, 5]"
      ]
     },
     "execution_count": 42,
     "metadata": {},
     "output_type": "execute_result"
    }
   ],
   "source": [
    "num_str_list = [1,2,'Ha','No Limit',5]\n",
    "num_str_list[1:4] = [] # list의 일부 삭제, 1,2,3번째 원소들 없앰\n",
    "# del num_str_list[1:4]\n",
    "num_str_list"
   ]
  },
  {
   "cell_type": "code",
   "execution_count": 46,
   "metadata": {},
   "outputs": [
    {
     "name": "stdout",
     "output_type": "stream",
     "text": [
      "['호피폴라', '애프터문', '루시', '모네', '퍼플레인', '피플 온 더 브릿지']\n"
     ]
    },
    {
     "data": {
      "text/plain": [
       "['애프터문', '모네']"
      ]
     },
     "execution_count": 46,
     "metadata": {},
     "output_type": "execute_result"
    }
   ],
   "source": [
    "print(band_list)\n",
    "band_list[1:4:2] # 1번 원소부터 4번 원소전까지 2칸씩"
   ]
  },
  {
   "cell_type": "code",
   "execution_count": 48,
   "metadata": {},
   "outputs": [
    {
     "name": "stdout",
     "output_type": "stream",
     "text": [
      "['호피폴라', '루시', '퍼플레인']\n",
      "['호피폴라', '루시', '퍼플레인']\n"
     ]
    }
   ],
   "source": [
    "print(band_list[0:5:2]) # slicing한 결과는 새로운 리스트!!\n",
    "print(band_list[:5:2]) # 같은 소리임"
   ]
  },
  {
   "cell_type": "code",
   "execution_count": 49,
   "metadata": {},
   "outputs": [
    {
     "name": "stdout",
     "output_type": "stream",
     "text": [
      "['호피폴라', '모네']\n"
     ]
    }
   ],
   "source": [
    "print(band_list[::3])"
   ]
  },
  {
   "cell_type": "code",
   "execution_count": 52,
   "metadata": {},
   "outputs": [
    {
     "name": "stdout",
     "output_type": "stream",
     "text": [
      "[0, 1, 2, 3, 4, 5, 6, 7, 8, 9]\n",
      "[0, 1, 2, 3, 4, 5, 6, 7, 8]\n",
      "[1, 3, 5]\n"
     ]
    }
   ],
   "source": [
    "x = [ x for x in range(10) ]\n",
    "print(x[:])\n",
    "print(x[:-1])\n",
    "print(x[1:6:2])"
   ]
  },
  {
   "cell_type": "code",
   "execution_count": 54,
   "metadata": {},
   "outputs": [
    {
     "name": "stdout",
     "output_type": "stream",
     "text": [
      "['호피폴라', '루시', '모네', '퍼플레인', '피플 온 더 브릿지']\n",
      "['호피폴라', '애프터문', '루시', '모네', '퍼플레인', '피플 온 더 브릿지']\n",
      "['호피폴라', '루시', '모네', '퍼플레인', '피플 온 더 브릿지']\n"
     ]
    }
   ],
   "source": [
    "bands = ['호피폴라','애프터문','루시','모네','퍼플레인','피플 온 더 브릿지']\n",
    "b_list = bands\n",
    "c_list = bands[:] # bands의 값을 복사해서 새로운 변수에 할당했음\n",
    "del bands[1]\n",
    "print(b_list)\n",
    "print(c_list) # 애프터문이 살아있음 왜냐하면 새로운 리스트를 생성한 것이기 때문에\n",
    "print(bands)"
   ]
  },
  {
   "cell_type": "code",
   "execution_count": 59,
   "metadata": {},
   "outputs": [
    {
     "name": "stdout",
     "output_type": "stream",
     "text": [
      "0x10b44a408 0x10b44a408\n"
     ]
    },
    {
     "data": {
      "text/plain": [
       "True"
      ]
     },
     "execution_count": 59,
     "metadata": {},
     "output_type": "execute_result"
    }
   ],
   "source": [
    "print(hex(id(bands)),hex(id(b_list)))\n",
    "bands is b_list"
   ]
  },
  {
   "cell_type": "code",
   "execution_count": 60,
   "metadata": {},
   "outputs": [
    {
     "name": "stdout",
     "output_type": "stream",
     "text": [
      "0x10b44a408 0x10b44aec8\n"
     ]
    },
    {
     "data": {
      "text/plain": [
       "False"
      ]
     },
     "execution_count": 60,
     "metadata": {},
     "output_type": "execute_result"
    }
   ],
   "source": [
    "print(hex(id(bands)),hex(id(c_list)))\n",
    "bands is c_list # 애초에 메모리 주소에 다른 곳에 할당되어있는거였음"
   ]
  },
  {
   "cell_type": "code",
   "execution_count": 66,
   "metadata": {},
   "outputs": [
    {
     "data": {
      "text/plain": [
       "['루시', '애프터문', '호피폴라']"
      ]
     },
     "execution_count": 66,
     "metadata": {},
     "output_type": "execute_result"
    }
   ],
   "source": [
    "s_bands = ['호피폴라','애프터문','루시']\n",
    "s_bands[::2] = ['루시','호피폴라'] # slicing한 리스트와 대입하려는 리스트의 size가 같아야하는구나\n",
    "s_bands"
   ]
  },
  {
   "cell_type": "markdown",
   "metadata": {},
   "source": [
    "### 2. 튜플(Tuple)"
   ]
  },
  {
   "cell_type": "code",
   "execution_count": null,
   "metadata": {},
   "outputs": [],
   "source": []
  }
 ],
 "metadata": {
  "kernelspec": {
   "display_name": "Python 3",
   "language": "python",
   "name": "python3"
  },
  "language_info": {
   "codemirror_mode": {
    "name": "ipython",
    "version": 3
   },
   "file_extension": ".py",
   "mimetype": "text/x-python",
   "name": "python",
   "nbconvert_exporter": "python",
   "pygments_lexer": "ipython3",
   "version": "3.6.8"
  }
 },
 "nbformat": 4,
 "nbformat_minor": 2
}
