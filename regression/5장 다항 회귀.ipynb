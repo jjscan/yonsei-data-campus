{
 "cells": [
  {
   "cell_type": "markdown",
   "metadata": {},
   "source": [
    "# 다항 회귀\n",
    "\n",
    "## 다항회귀란?\n",
    "- 독립변수와 종속변수들 간의 관계를 다차 다항식으로 표현하는 회귀 방식\n",
    "- 예를 들어, 2개의 독립변수 X1, X2와 종속변수 Y의 관계를 아래와 같은 다항식으로 표현\n",
    "> $ Y = w_0 + w_1X_1 + w_2X_2 + w_3X_1X_2 + w_4X_1^2 + w_5X_2^2 $\n",
    "- 회귀식의 형태가 독립변수의 선형이 아니기 때문에 비선형 회귀라고 오해할 수 있으나, **다항 회귀는 선형 회귀**에 해당!\n",
    "- 선형 회귀와 비선형 회귀를 구분하는 기준은 **회귀 계수들의 형태가 선형인가 비선형인가의 여부**이다. (독립변수의 형태와는 상관 없다.)\n",
    "- 보다 엄밀하게, 다항 회귀를 선형화 할 수 있는(linearizable)회귀라고 명명\n",
    "- 회귀식의 독립변수들을 각각 새로운 변수로 치환해서 1차 방정식으로 표현\n",
    "> $ Y = w_0 + w_1Z_1 + w_2Z_2 + w_3Z_3 + w_4Z_4 + w_5Z_5 $\n",
    "- 따라서 다항 회귀는 다중 선형 회귀와 동일한 절차를 통해서 분석을 수행\n",
    "- 단, 비선형 함수를 선형적으로 적용시키는 과정이 선행되어야 함\n",
    "\n",
    "## 사이킷런에서 다항식 특성으로의 변환 수행\n",
    "\n",
    "### preprocessing 모듈에 있는 PolynomialFeatures를 이용하여 특성들을 다항식 형태로 변환하는 객체를 생성"
   ]
  },
  {
   "cell_type": "code",
   "execution_count": 2,
   "metadata": {
    "ExecuteTime": {
     "end_time": "2019-07-16T08:19:35.649343Z",
     "start_time": "2019-07-16T08:19:35.645451Z"
    }
   },
   "outputs": [],
   "source": [
    "import numpy as np\n",
    "import sklearn.preprocessing as pp\n",
    "\n",
    "# 원본 특성 데이터는 아래와 같이 [[0, 1] [2, 3]] 배열\n",
    "X = np.arange(4).reshape(2,2)\n",
    "\n",
    "# 매개변수 degree는 변환하려는 다항식의 차수이며, 기본값은 2\n",
    "poly = pp.PolynomialFeatures(degree=2)"
   ]
  },
  {
   "cell_type": "markdown",
   "metadata": {},
   "source": [
    "### 객체에 대해서 fit_transform 메소드를 이용하여 변환"
   ]
  },
  {
   "cell_type": "code",
   "execution_count": 3,
   "metadata": {
    "ExecuteTime": {
     "end_time": "2019-07-16T08:20:12.905905Z",
     "start_time": "2019-07-16T08:20:12.895062Z"
    }
   },
   "outputs": [
    {
     "name": "stdout",
     "output_type": "stream",
     "text": [
      "[[1. 0. 1. 0. 0. 1.]\n",
      " [1. 2. 3. 4. 6. 9.]]\n"
     ]
    }
   ],
   "source": [
    "# 매개변수는 원본 특성 집합\n",
    "# 반환 결과는 다항식 형태로 변환된 특성 집합\n",
    "X_poly = poly.fit_transform(X)\n",
    "print(X_poly)"
   ]
  },
  {
   "cell_type": "code",
   "execution_count": 5,
   "metadata": {
    "ExecuteTime": {
     "end_time": "2019-07-16T08:20:51.125394Z",
     "start_time": "2019-07-16T08:20:51.119956Z"
    },
    "scrolled": true
   },
   "outputs": [
    {
     "name": "stdout",
     "output_type": "stream",
     "text": [
      "[[1. 0. 1. 0. 0. 1.]\n",
      " [1. 2. 3. 4. 6. 9.]]\n"
     ]
    }
   ],
   "source": [
    "#  fit 및 transform을 각각 순서대로 호출해도 무방\n",
    "poly.fit(X)\n",
    "X_poly = poly.transform(X)\n",
    "print(X_poly)"
   ]
  },
  {
   "cell_type": "markdown",
   "metadata": {},
   "source": [
    "- 2차 다항식으로 변환된 결과는 원본 특성에 대해서 0차식,1차식, 2차식을 순서대로 나열한 것\n",
    "- 원래의 특성을 2차 다항식으로 변환하는 경우\n",
    "\n",
    "|원본|변환된 결과|\n",
    "|---|--------|\n",
    "|$X$|$1,X,X^2$|  \n",
    "|$X,Y$|$1,X,Y,X^2,XY,Y^2$|  \n",
    "|$X,Y,Z$|$1,X,Y,Z,X^2,XY,XZ,Y^2,YZ,Z^2$|  "
   ]
  },
  {
   "cell_type": "markdown",
   "metadata": {},
   "source": [
    "## 사이킷런으로 다항 회귀 수행\n",
    "\n",
    "### 데이터를 생성하여 확인"
   ]
  },
  {
   "cell_type": "code",
   "execution_count": 23,
   "metadata": {
    "ExecuteTime": {
     "end_time": "2019-07-17T04:58:52.020875Z",
     "start_time": "2019-07-17T04:58:51.896153Z"
    }
   },
   "outputs": [
    {
     "data": {
      "image/png": "[encoded data removed]",
      "text/plain": [
       "<Figure size 432x288 with 1 Axes>"
      ]
     },
     "metadata": {
      "needs_background": "light"
     },
     "output_type": "display_data"
    }
   ],
   "source": [
    "import numpy as np\n",
    "import matplotlib.pyplot as plt\n",
    "\n",
    "X = 6 * np.random.rand(100,1) - 3\n",
    "y = 0.5 * X ** 2 + 2  + np.random.randn(100,1)\n",
    "\n",
    "plt.scatter(X,y,color='red')\n",
    "plt.show()"
   ]
  },
  {
   "cell_type": "markdown",
   "metadata": {},
   "source": [
    "### 비교를 위해 단순 선형 회귀를 실행"
   ]
  },
  {
   "cell_type": "code",
   "execution_count": 24,
   "metadata": {
    "ExecuteTime": {
     "end_time": "2019-07-17T04:58:52.396692Z",
     "start_time": "2019-07-17T04:58:52.244191Z"
    }
   },
   "outputs": [
    {
     "data": {
      "text/plain": [
       "[<matplotlib.lines.Line2D at 0x1a22b47e80>]"
      ]
     },
     "execution_count": 24,
     "metadata": {},
     "output_type": "execute_result"
    },
    {
     "data": {
      "image/png": "[encoded data removed]",
      "text/plain": [
       "<Figure size 432x288 with 1 Axes>"
      ]
     },
     "metadata": {
      "needs_background": "light"
     },
     "output_type": "display_data"
    }
   ],
   "source": [
    "import sklearn.linear_model as lm\n",
    "\n",
    "X_test = np.arange(-3,3,0.01)[:,np.newaxis]\n",
    "\n",
    "X1_train = X\n",
    "y_train = y\n",
    "\n",
    "reg1 = lm.LinearRegression().fit(X1_train,y_train)\n",
    "\n",
    "X1_test = X_test\n",
    "y1_pred = reg1.predict(X1_test)\n",
    "\n",
    "plt.plot(X_test,y1_pred,color = 'blue',linestyle='--')"
   ]
  },
  {
   "cell_type": "markdown",
   "metadata": {},
   "source": [
    "### 2차항 형태로 다항 회귀를 실행"
   ]
  },
  {
   "cell_type": "code",
   "execution_count": 25,
   "metadata": {
    "ExecuteTime": {
     "end_time": "2019-07-17T04:58:52.715343Z",
     "start_time": "2019-07-17T04:58:52.592862Z"
    }
   },
   "outputs": [
    {
     "data": {
      "image/png": "[encoded data removed]",
      "text/plain": [
       "<Figure size 432x288 with 1 Axes>"
      ]
     },
     "metadata": {
      "needs_background": "light"
     },
     "output_type": "display_data"
    }
   ],
   "source": [
    "import sklearn.linear_model as lm\n",
    "import sklearn.preprocessing as pp\n",
    "\n",
    "X_test = np.arange(-3,3,0.01)[:,np.newaxis]\n",
    "\n",
    "poly = pp.PolynomialFeatures(degree=2)\n",
    "X2_train = poly.fit_transform(X)\n",
    "y_train = y\n",
    "\n",
    "reg2 = lm.LinearRegression().fit(X2_train,y_train)\n",
    "\n",
    "X2_test = poly.fit_transform(X_test)\n",
    "y2_pred = reg2.predict(X2_test)\n",
    "\n",
    "plt.plot(X_test,y2_pred,color='green')\n",
    "plt.show()"
   ]
  },
  {
   "cell_type": "markdown",
   "metadata": {},
   "source": [
    "### 7차항 형태로 다항 회귀를 실행"
   ]
  },
  {
   "cell_type": "code",
   "execution_count": 26,
   "metadata": {
    "ExecuteTime": {
     "end_time": "2019-07-17T04:58:53.400841Z",
     "start_time": "2019-07-17T04:58:53.277950Z"
    }
   },
   "outputs": [
    {
     "data": {
      "image/png": "[encoded data removed]",
      "text/plain": [
       "<Figure size 432x288 with 1 Axes>"
      ]
     },
     "metadata": {
      "needs_background": "light"
     },
     "output_type": "display_data"
    }
   ],
   "source": [
    "import sklearn.linear_model as lm\n",
    "import sklearn.preprocessing as pp\n",
    "\n",
    "X_test = np.arange(-3,3,0.01)[:,np.newaxis]\n",
    "\n",
    "poly = pp.PolynomialFeatures(degree=7)\n",
    "X7_train = poly.fit_transform(X)\n",
    "y_train = y\n",
    "\n",
    "reg7 = lm.LinearRegression().fit(X7_train,y_train)\n",
    "\n",
    "X7_test = poly.fit_transform(X_test)\n",
    "y7_pred = reg7.predict(X7_test)\n",
    "\n",
    "plt.plot(X_test,y7_pred,color='magenta',linestyle=\":\")\n",
    "plt.show()"
   ]
  },
  {
   "cell_type": "markdown",
   "metadata": {},
   "source": [
    "### 전체적인 결과를 확인"
   ]
  },
  {
   "cell_type": "code",
   "execution_count": 28,
   "metadata": {
    "ExecuteTime": {
     "end_time": "2019-07-17T04:59:43.261639Z",
     "start_time": "2019-07-17T04:59:43.133965Z"
    },
    "scrolled": true
   },
   "outputs": [
    {
     "data": {
      "image/png": "[encoded data removed]",
      "text/plain": [
       "<Figure size 432x288 with 1 Axes>"
      ]
     },
     "metadata": {
      "needs_background": "light"
     },
     "output_type": "display_data"
    }
   ],
   "source": [
    "plt.scatter(X,y,color='red')\n",
    "plt.plot(X_test,y1_pred,color = 'blue',linestyle='--')\n",
    "plt.plot(X_test,y2_pred,color='green')\n",
    "plt.plot(X_test,y7_pred,color='magenta',linestyle=\":\")\n",
    "plt.show()"
   ]
  },
  {
   "cell_type": "markdown",
   "metadata": {},
   "source": [
    "## 예제 : 보스턴 데이터"
   ]
  },
  {
   "cell_type": "code",
   "execution_count": 190,
   "metadata": {
    "ExecuteTime": {
     "end_time": "2019-07-17T06:08:37.766691Z",
     "start_time": "2019-07-17T06:08:37.761939Z"
    }
   },
   "outputs": [],
   "source": [
    "import numpy as np\n",
    "import pandas as pd\n",
    "import matplotlib.pyplot as plt\n",
    "import sklearn.datasets as d # boston 데이터 가져오기 위해서\n",
    "import sklearn.model_selection as ms # test,train 나누기 위해서\n",
    "import sklearn.linear_model as lm\n",
    "import sklearn.metrics as mt\n",
    "import sklearn.preprocessing as pp"
   ]
  },
  {
   "cell_type": "code",
   "execution_count": 191,
   "metadata": {
    "ExecuteTime": {
     "end_time": "2019-07-17T06:08:37.945011Z",
     "start_time": "2019-07-17T06:08:37.902618Z"
    }
   },
   "outputs": [
    {
     "data": {
      "text/html": [
       "<div>\n",
       "<style scoped>\n",
       "    .dataframe tbody tr th:only-of-type {\n",
       "        vertical-align: middle;\n",
       "    }\n",
       "\n",
       "    .dataframe tbody tr th {\n",
       "        vertical-align: top;\n",
       "    }\n",
       "\n",
       "    .dataframe thead th {\n",
       "        text-align: right;\n",
       "    }\n",
       "</style>\n",
       "<table border=\"1\" class=\"dataframe\">\n",
       "  <thead>\n",
       "    <tr style=\"text-align: right;\">\n",
       "      <th></th>\n",
       "      <th>CRIM</th>\n",
       "      <th>ZN</th>\n",
       "      <th>INDUS</th>\n",
       "      <th>CHAS</th>\n",
       "      <th>NOX</th>\n",
       "      <th>RM</th>\n",
       "      <th>AGE</th>\n",
       "      <th>DIS</th>\n",
       "      <th>RAD</th>\n",
       "      <th>TAX</th>\n",
       "      <th>PTRATIO</th>\n",
       "      <th>B</th>\n",
       "      <th>LSTAT</th>\n",
       "      <th>PRICE</th>\n",
       "    </tr>\n",
       "  </thead>\n",
       "  <tbody>\n",
       "    <tr>\n",
       "      <th>0</th>\n",
       "      <td>0.00632</td>\n",
       "      <td>18.0</td>\n",
       "      <td>2.31</td>\n",
       "      <td>0.0</td>\n",
       "      <td>0.538</td>\n",
       "      <td>6.575</td>\n",
       "      <td>65.2</td>\n",
       "      <td>4.0900</td>\n",
       "      <td>1.0</td>\n",
       "      <td>296.0</td>\n",
       "      <td>15.3</td>\n",
       "      <td>396.90</td>\n",
       "      <td>4.98</td>\n",
       "      <td>24.0</td>\n",
       "    </tr>\n",
       "    <tr>\n",
       "      <th>1</th>\n",
       "      <td>0.02731</td>\n",
       "      <td>0.0</td>\n",
       "      <td>7.07</td>\n",
       "      <td>0.0</td>\n",
       "      <td>0.469</td>\n",
       "      <td>6.421</td>\n",
       "      <td>78.9</td>\n",
       "      <td>4.9671</td>\n",
       "      <td>2.0</td>\n",
       "      <td>242.0</td>\n",
       "      <td>17.8</td>\n",
       "      <td>396.90</td>\n",
       "      <td>9.14</td>\n",
       "      <td>21.6</td>\n",
       "    </tr>\n",
       "    <tr>\n",
       "      <th>2</th>\n",
       "      <td>0.02729</td>\n",
       "      <td>0.0</td>\n",
       "      <td>7.07</td>\n",
       "      <td>0.0</td>\n",
       "      <td>0.469</td>\n",
       "      <td>7.185</td>\n",
       "      <td>61.1</td>\n",
       "      <td>4.9671</td>\n",
       "      <td>2.0</td>\n",
       "      <td>242.0</td>\n",
       "      <td>17.8</td>\n",
       "      <td>392.83</td>\n",
       "      <td>4.03</td>\n",
       "      <td>34.7</td>\n",
       "    </tr>\n",
       "    <tr>\n",
       "      <th>3</th>\n",
       "      <td>0.03237</td>\n",
       "      <td>0.0</td>\n",
       "      <td>2.18</td>\n",
       "      <td>0.0</td>\n",
       "      <td>0.458</td>\n",
       "      <td>6.998</td>\n",
       "      <td>45.8</td>\n",
       "      <td>6.0622</td>\n",
       "      <td>3.0</td>\n",
       "      <td>222.0</td>\n",
       "      <td>18.7</td>\n",
       "      <td>394.63</td>\n",
       "      <td>2.94</td>\n",
       "      <td>33.4</td>\n",
       "    </tr>\n",
       "    <tr>\n",
       "      <th>4</th>\n",
       "      <td>0.06905</td>\n",
       "      <td>0.0</td>\n",
       "      <td>2.18</td>\n",
       "      <td>0.0</td>\n",
       "      <td>0.458</td>\n",
       "      <td>7.147</td>\n",
       "      <td>54.2</td>\n",
       "      <td>6.0622</td>\n",
       "      <td>3.0</td>\n",
       "      <td>222.0</td>\n",
       "      <td>18.7</td>\n",
       "      <td>396.90</td>\n",
       "      <td>5.33</td>\n",
       "      <td>36.2</td>\n",
       "    </tr>\n",
       "  </tbody>\n",
       "</table>\n",
       "</div>"
      ],
      "text/plain": [
       "      CRIM    ZN  INDUS  CHAS    NOX     RM   AGE     DIS  RAD    TAX  \\\n",
       "0  0.00632  18.0   2.31   0.0  0.538  6.575  65.2  4.0900  1.0  296.0   \n",
       "1  0.02731   0.0   7.07   0.0  0.469  6.421  78.9  4.9671  2.0  242.0   \n",
       "2  0.02729   0.0   7.07   0.0  0.469  7.185  61.1  4.9671  2.0  242.0   \n",
       "3  0.03237   0.0   2.18   0.0  0.458  6.998  45.8  6.0622  3.0  222.0   \n",
       "4  0.06905   0.0   2.18   0.0  0.458  7.147  54.2  6.0622  3.0  222.0   \n",
       "\n",
       "   PTRATIO       B  LSTAT  PRICE  \n",
       "0     15.3  396.90   4.98   24.0  \n",
       "1     17.8  396.90   9.14   21.6  \n",
       "2     17.8  392.83   4.03   34.7  \n",
       "3     18.7  394.63   2.94   33.4  \n",
       "4     18.7  396.90   5.33   36.2  "
      ]
     },
     "execution_count": 191,
     "metadata": {},
     "output_type": "execute_result"
    }
   ],
   "source": [
    "boston = d.load_boston()\n",
    "boston_df = pd.DataFrame(boston.data)\n",
    "boston_df.columns = boston.feature_names\n",
    "boston_df['PRICE'] = boston.target\n",
    "boston_df.head()"
   ]
  },
  {
   "cell_type": "code",
   "execution_count": 192,
   "metadata": {
    "ExecuteTime": {
     "end_time": "2019-07-17T06:08:38.072603Z",
     "start_time": "2019-07-17T06:08:38.068113Z"
    }
   },
   "outputs": [],
   "source": [
    "X = pd.DataFrame(boston_df['RM']) # 2차원을 만들기 위해서\n",
    "# X = boston.data[:,5]\n",
    "y = boston_df['PRICE']\n",
    "# y = boston.target"
   ]
  },
  {
   "cell_type": "code",
   "execution_count": 193,
   "metadata": {
    "ExecuteTime": {
     "end_time": "2019-07-17T06:08:38.195569Z",
     "start_time": "2019-07-17T06:08:38.188116Z"
    }
   },
   "outputs": [],
   "source": [
    "X_train, X_test, y_train, y_test = ms.train_test_split(X,y,test_size=0.3,random_state = 1)"
   ]
  },
  {
   "cell_type": "code",
   "execution_count": 194,
   "metadata": {
    "ExecuteTime": {
     "end_time": "2019-07-17T06:08:38.347503Z",
     "start_time": "2019-07-17T06:08:38.344705Z"
    }
   },
   "outputs": [],
   "source": [
    "lr = lm.LinearRegression()"
   ]
  },
  {
   "cell_type": "code",
   "execution_count": 195,
   "metadata": {
    "ExecuteTime": {
     "end_time": "2019-07-17T06:08:38.499128Z",
     "start_time": "2019-07-17T06:08:38.496191Z"
    }
   },
   "outputs": [],
   "source": [
    "mses = list()\n",
    "rmses = list()\n",
    "r2s = list()"
   ]
  },
  {
   "cell_type": "code",
   "execution_count": 196,
   "metadata": {
    "ExecuteTime": {
     "end_time": "2019-07-17T06:08:38.673881Z",
     "start_time": "2019-07-17T06:08:38.660006Z"
    }
   },
   "outputs": [
    {
     "name": "stdout",
     "output_type": "stream",
     "text": [
      "단순 선형회귀\n",
      "mse : 36.517215\n",
      "rmse : 6.042948\n",
      "r2 : 0.601577\n"
     ]
    }
   ],
   "source": [
    "# 단순 선형 회귀 (1차식)\n",
    "reg = lr.fit(X_train,y_train)\n",
    "y1_pred = reg.predict(X_test)\n",
    "\n",
    "mse = mt.mean_squared_error(y_test,y1_pred)\n",
    "rmse = np.sqrt(mse1)\n",
    "r2 = mt.r2_score(y_test,y1_pred)\n",
    "\n",
    "mses.append(mse)\n",
    "rmses.append(rmse)\n",
    "r2s.append(r2)\n",
    "\n",
    "xx = np.linspace(X['RM'].min()-1,X['RM'].max()+1)[:,np.newaxis]\n",
    "yy1 = reg.predict(xx)\n",
    "\n",
    "print(\"{}\\nmse : {:3f}\\nrmse : {:3f}\\nr2 : {:3f}\".format('단순 선형회귀',mse,rmse,r2))"
   ]
  },
  {
   "cell_type": "code",
   "execution_count": 197,
   "metadata": {
    "ExecuteTime": {
     "end_time": "2019-07-17T06:08:38.837572Z",
     "start_time": "2019-07-17T06:08:38.824203Z"
    }
   },
   "outputs": [
    {
     "name": "stdout",
     "output_type": "stream",
     "text": [
      "단순 선형회귀\n",
      "mse : 30.515171\n",
      "rmse : 5.524054\n",
      "r2 : 0.667063\n"
     ]
    }
   ],
   "source": [
    "# 다항 회귀 (2차식)\n",
    "\n",
    "quad = pp.PolynomialFeatures(degree=2)\n",
    "X2_train = quad.fit_transform(X_train)\n",
    "reg = lr.fit(X2_train,y_train)\n",
    "X2_test = quad.fit_transform(X_test)\n",
    "y2_pred = reg.predict(X2_test)\n",
    "\n",
    "mse = mt.mean_squared_error(y_test,y2_pred)\n",
    "rmse = np.sqrt(mse)\n",
    "r2 = mt.r2_score(y_test,y2_pred)\n",
    "\n",
    "mses.append(mse)\n",
    "rmses.append(rmse)\n",
    "r2s.append(r2)\n",
    "\n",
    "xx2 = quad.fit_transform(xx)\n",
    "yy2 = reg.predict(xx2)\n",
    "\n",
    "print(\"{}\\nmse : {:3f}\\nrmse : {:3f}\\nr2 : {:3f}\".format('단순 선형회귀',mse,rmse,r2))"
   ]
  },
  {
   "cell_type": "code",
   "execution_count": 198,
   "metadata": {
    "ExecuteTime": {
     "end_time": "2019-07-17T06:08:38.989925Z",
     "start_time": "2019-07-17T06:08:38.977417Z"
    }
   },
   "outputs": [
    {
     "name": "stdout",
     "output_type": "stream",
     "text": [
      "단순 선형회귀\n",
      "mse : 30.541433\n",
      "rmse : 5.526430\n",
      "r2 : 0.666776\n"
     ]
    }
   ],
   "source": [
    "# 다항 회귀 (3차식)\n",
    "\n",
    "cubic = pp.PolynomialFeatures(degree=3)\n",
    "X3_train = cubic.fit_transform(X_train)\n",
    "reg = lr.fit(X3_train,y_train)\n",
    "X3_test = cubic.fit_transform(X_test)\n",
    "y3_pred = reg.predict(X3_test)\n",
    "\n",
    "mse = mt.mean_squared_error(y_test,y3_pred)\n",
    "rmse = np.sqrt(mse)\n",
    "r2 = mt.r2_score(y_test,y3_pred)\n",
    "\n",
    "mses.append(mse)\n",
    "rmses.append(rmse)\n",
    "r2s.append(r2)\n",
    "\n",
    "xx3 = cubic.fit_transform(xx) # 결국 fit_transform은 데이터 불리기구나\n",
    "yy3 = reg.predict(xx3)\n",
    "\n",
    "print(\"{}\\nmse : {:3f}\\nrmse : {:3f}\\nr2 : {:3f}\".format('단순 선형회귀',mse,rmse,r2))"
   ]
  },
  {
   "cell_type": "code",
   "execution_count": 199,
   "metadata": {
    "ExecuteTime": {
     "end_time": "2019-07-17T06:08:39.136463Z",
     "start_time": "2019-07-17T06:08:39.132014Z"
    }
   },
   "outputs": [
    {
     "data": {
      "text/plain": [
       "[36.517214730838624, 30.515171181958426, 30.54143317840435]"
      ]
     },
     "execution_count": 199,
     "metadata": {},
     "output_type": "execute_result"
    }
   ],
   "source": [
    "mses"
   ]
  },
  {
   "cell_type": "code",
   "execution_count": 200,
   "metadata": {
    "ExecuteTime": {
     "end_time": "2019-07-17T06:08:39.300405Z",
     "start_time": "2019-07-17T06:08:39.296103Z"
    }
   },
   "outputs": [
    {
     "data": {
      "text/plain": [
       "[6.042947520112898, 5.524053872108637, 5.526430419213143]"
      ]
     },
     "execution_count": 200,
     "metadata": {},
     "output_type": "execute_result"
    }
   ],
   "source": [
    "rmses"
   ]
  },
  {
   "cell_type": "code",
   "execution_count": 201,
   "metadata": {
    "ExecuteTime": {
     "end_time": "2019-07-17T06:08:39.460015Z",
     "start_time": "2019-07-17T06:08:39.455124Z"
    }
   },
   "outputs": [
    {
     "data": {
      "text/plain": [
       "[0.6015774471545623, 0.6670629868010144, 0.6667764542233267]"
      ]
     },
     "execution_count": 201,
     "metadata": {},
     "output_type": "execute_result"
    }
   ],
   "source": [
    "r2s"
   ]
  },
  {
   "cell_type": "code",
   "execution_count": 202,
   "metadata": {
    "ExecuteTime": {
     "end_time": "2019-07-17T06:08:39.870203Z",
     "start_time": "2019-07-17T06:08:39.856418Z"
    },
    "scrolled": true
   },
   "outputs": [
    {
     "data": {
      "text/html": [
       "<div>\n",
       "<style scoped>\n",
       "    .dataframe tbody tr th:only-of-type {\n",
       "        vertical-align: middle;\n",
       "    }\n",
       "\n",
       "    .dataframe tbody tr th {\n",
       "        vertical-align: top;\n",
       "    }\n",
       "\n",
       "    .dataframe thead th {\n",
       "        text-align: right;\n",
       "    }\n",
       "</style>\n",
       "<table border=\"1\" class=\"dataframe\">\n",
       "  <thead>\n",
       "    <tr style=\"text-align: right;\">\n",
       "      <th></th>\n",
       "      <th>MSE</th>\n",
       "      <th>RMSE</th>\n",
       "      <th>R2</th>\n",
       "    </tr>\n",
       "  </thead>\n",
       "  <tbody>\n",
       "    <tr>\n",
       "      <th>Linear</th>\n",
       "      <td>36.517215</td>\n",
       "      <td>6.042948</td>\n",
       "      <td>0.601577</td>\n",
       "    </tr>\n",
       "    <tr>\n",
       "      <th>Quad</th>\n",
       "      <td>30.515171</td>\n",
       "      <td>5.524054</td>\n",
       "      <td>0.667063</td>\n",
       "    </tr>\n",
       "    <tr>\n",
       "      <th>Cubic</th>\n",
       "      <td>30.541433</td>\n",
       "      <td>5.526430</td>\n",
       "      <td>0.666776</td>\n",
       "    </tr>\n",
       "  </tbody>\n",
       "</table>\n",
       "</div>"
      ],
      "text/plain": [
       "              MSE      RMSE        R2\n",
       "Linear  36.517215  6.042948  0.601577\n",
       "Quad    30.515171  5.524054  0.667063\n",
       "Cubic   30.541433  5.526430  0.666776"
      ]
     },
     "metadata": {},
     "output_type": "display_data"
    }
   ],
   "source": [
    "scores = pd.DataFrame({\"MSE\" : mses,\n",
    "                       \"RMSE\" : rmses,\n",
    "                       \"R2\" : r2s}, index = ['Linear','Quad','Cubic'])"
   ]
  },
  {
   "cell_type": "code",
   "execution_count": 218,
   "metadata": {
    "ExecuteTime": {
     "end_time": "2019-07-17T06:16:44.132056Z",
     "start_time": "2019-07-17T06:16:43.923043Z"
    }
   },
   "outputs": [
    {
     "data": {
      "image/png": "[encoded data removed]",
      "text/plain": [
       "<Figure size 432x288 with 1 Axes>"
      ]
     },
     "metadata": {
      "needs_background": "light"
     },
     "output_type": "display_data"
    },
    {
     "data": {
      "text/html": [
       "<div>\n",
       "<style scoped>\n",
       "    .dataframe tbody tr th:only-of-type {\n",
       "        vertical-align: middle;\n",
       "    }\n",
       "\n",
       "    .dataframe tbody tr th {\n",
       "        vertical-align: top;\n",
       "    }\n",
       "\n",
       "    .dataframe thead th {\n",
       "        text-align: right;\n",
       "    }\n",
       "</style>\n",
       "<table border=\"1\" class=\"dataframe\">\n",
       "  <thead>\n",
       "    <tr style=\"text-align: right;\">\n",
       "      <th></th>\n",
       "      <th>MSE</th>\n",
       "      <th>RMSE</th>\n",
       "      <th>R2</th>\n",
       "    </tr>\n",
       "  </thead>\n",
       "  <tbody>\n",
       "    <tr>\n",
       "      <th>Linear</th>\n",
       "      <td>36.517215</td>\n",
       "      <td>6.042948</td>\n",
       "      <td>0.601577</td>\n",
       "    </tr>\n",
       "    <tr>\n",
       "      <th>Quad</th>\n",
       "      <td>30.515171</td>\n",
       "      <td>5.524054</td>\n",
       "      <td>0.667063</td>\n",
       "    </tr>\n",
       "    <tr>\n",
       "      <th>Cubic</th>\n",
       "      <td>30.541433</td>\n",
       "      <td>5.526430</td>\n",
       "      <td>0.666776</td>\n",
       "    </tr>\n",
       "  </tbody>\n",
       "</table>\n",
       "</div>"
      ],
      "text/plain": [
       "              MSE      RMSE        R2\n",
       "Linear  36.517215  6.042948  0.601577\n",
       "Quad    30.515171  5.524054  0.667063\n",
       "Cubic   30.541433  5.526430  0.666776"
      ]
     },
     "metadata": {},
     "output_type": "display_data"
    }
   ],
   "source": [
    "plt.scatter(X,y,color='red',alpha=0.1,label = 'Price')\n",
    "plt.plot(xx,yy1,color='blue',linestyle='--',label='Linear') # 1차식을 그릴거니까\n",
    "plt.plot(xx,yy2,color='pink',linestyle='-',label='Quad') # 2차식을 그릴거\n",
    "plt.plot(xx,yy3,color='green',linestyle=':',label='Cubic',linewidth = 2) # 3차식 그릴거\n",
    "# plt.xlim(2,10)\n",
    "# plt.ylim(0,60)\n",
    "plt.title(\"Room Number and Price\",fontsize=15)\n",
    "plt.xlabel('Room Number',fontsize=15)\n",
    "plt.ylabel('Price',fontsize=15)\n",
    "plt.legend(fontsize=10)\n",
    "plt.show()\n",
    "display(scores)"
   ]
  },
  {
   "cell_type": "markdown",
   "metadata": {},
   "source": [
    "## 예제 : 당노병 데이터"
   ]
  },
  {
   "cell_type": "code",
   "execution_count": 231,
   "metadata": {
    "ExecuteTime": {
     "end_time": "2019-07-17T06:20:45.062033Z",
     "start_time": "2019-07-17T06:20:45.058803Z"
    }
   },
   "outputs": [],
   "source": [
    "import numpy as np\n",
    "import pandas as pd\n",
    "import matplotlib.pyplot as plt\n",
    "import sklearn.datasets as d # 당뇨병 데이터 가져오기 위해서\n",
    "import sklearn.model_selection as ms # test,train 나누기 위해서\n",
    "import sklearn.linear_model as lm\n",
    "import sklearn.metrics as mt\n",
    "import sklearn.preprocessing as pp"
   ]
  },
  {
   "cell_type": "code",
   "execution_count": 232,
   "metadata": {
    "ExecuteTime": {
     "end_time": "2019-07-17T06:20:45.243024Z",
     "start_time": "2019-07-17T06:20:45.212547Z"
    }
   },
   "outputs": [
    {
     "data": {
      "text/html": [
       "<div>\n",
       "<style scoped>\n",
       "    .dataframe tbody tr th:only-of-type {\n",
       "        vertical-align: middle;\n",
       "    }\n",
       "\n",
       "    .dataframe tbody tr th {\n",
       "        vertical-align: top;\n",
       "    }\n",
       "\n",
       "    .dataframe thead th {\n",
       "        text-align: right;\n",
       "    }\n",
       "</style>\n",
       "<table border=\"1\" class=\"dataframe\">\n",
       "  <thead>\n",
       "    <tr style=\"text-align: right;\">\n",
       "      <th></th>\n",
       "      <th>age</th>\n",
       "      <th>sex</th>\n",
       "      <th>bmi</th>\n",
       "      <th>bp</th>\n",
       "      <th>s1</th>\n",
       "      <th>s2</th>\n",
       "      <th>s3</th>\n",
       "      <th>s4</th>\n",
       "      <th>s5</th>\n",
       "      <th>s6</th>\n",
       "      <th>target</th>\n",
       "    </tr>\n",
       "  </thead>\n",
       "  <tbody>\n",
       "    <tr>\n",
       "      <th>0</th>\n",
       "      <td>0.038076</td>\n",
       "      <td>0.050680</td>\n",
       "      <td>0.061696</td>\n",
       "      <td>0.021872</td>\n",
       "      <td>-0.044223</td>\n",
       "      <td>-0.034821</td>\n",
       "      <td>-0.043401</td>\n",
       "      <td>-0.002592</td>\n",
       "      <td>0.019908</td>\n",
       "      <td>-0.017646</td>\n",
       "      <td>151.0</td>\n",
       "    </tr>\n",
       "    <tr>\n",
       "      <th>1</th>\n",
       "      <td>-0.001882</td>\n",
       "      <td>-0.044642</td>\n",
       "      <td>-0.051474</td>\n",
       "      <td>-0.026328</td>\n",
       "      <td>-0.008449</td>\n",
       "      <td>-0.019163</td>\n",
       "      <td>0.074412</td>\n",
       "      <td>-0.039493</td>\n",
       "      <td>-0.068330</td>\n",
       "      <td>-0.092204</td>\n",
       "      <td>75.0</td>\n",
       "    </tr>\n",
       "    <tr>\n",
       "      <th>2</th>\n",
       "      <td>0.085299</td>\n",
       "      <td>0.050680</td>\n",
       "      <td>0.044451</td>\n",
       "      <td>-0.005671</td>\n",
       "      <td>-0.045599</td>\n",
       "      <td>-0.034194</td>\n",
       "      <td>-0.032356</td>\n",
       "      <td>-0.002592</td>\n",
       "      <td>0.002864</td>\n",
       "      <td>-0.025930</td>\n",
       "      <td>141.0</td>\n",
       "    </tr>\n",
       "    <tr>\n",
       "      <th>3</th>\n",
       "      <td>-0.089063</td>\n",
       "      <td>-0.044642</td>\n",
       "      <td>-0.011595</td>\n",
       "      <td>-0.036656</td>\n",
       "      <td>0.012191</td>\n",
       "      <td>0.024991</td>\n",
       "      <td>-0.036038</td>\n",
       "      <td>0.034309</td>\n",
       "      <td>0.022692</td>\n",
       "      <td>-0.009362</td>\n",
       "      <td>206.0</td>\n",
       "    </tr>\n",
       "    <tr>\n",
       "      <th>4</th>\n",
       "      <td>0.005383</td>\n",
       "      <td>-0.044642</td>\n",
       "      <td>-0.036385</td>\n",
       "      <td>0.021872</td>\n",
       "      <td>0.003935</td>\n",
       "      <td>0.015596</td>\n",
       "      <td>0.008142</td>\n",
       "      <td>-0.002592</td>\n",
       "      <td>-0.031991</td>\n",
       "      <td>-0.046641</td>\n",
       "      <td>135.0</td>\n",
       "    </tr>\n",
       "  </tbody>\n",
       "</table>\n",
       "</div>"
      ],
      "text/plain": [
       "        age       sex       bmi        bp        s1        s2        s3  \\\n",
       "0  0.038076  0.050680  0.061696  0.021872 -0.044223 -0.034821 -0.043401   \n",
       "1 -0.001882 -0.044642 -0.051474 -0.026328 -0.008449 -0.019163  0.074412   \n",
       "2  0.085299  0.050680  0.044451 -0.005671 -0.045599 -0.034194 -0.032356   \n",
       "3 -0.089063 -0.044642 -0.011595 -0.036656  0.012191  0.024991 -0.036038   \n",
       "4  0.005383 -0.044642 -0.036385  0.021872  0.003935  0.015596  0.008142   \n",
       "\n",
       "         s4        s5        s6  target  \n",
       "0 -0.002592  0.019908 -0.017646   151.0  \n",
       "1 -0.039493 -0.068330 -0.092204    75.0  \n",
       "2 -0.002592  0.002864 -0.025930   141.0  \n",
       "3  0.034309  0.022692 -0.009362   206.0  \n",
       "4 -0.002592 -0.031991 -0.046641   135.0  "
      ]
     },
     "execution_count": 232,
     "metadata": {},
     "output_type": "execute_result"
    }
   ],
   "source": [
    "diab = d.load_diabetes()\n",
    "diab_df = pd.DataFrame(diab.data)\n",
    "diab_df.columns = diab.feature_names\n",
    "diab_df['target'] = diab.target\n",
    "diab_df.head()"
   ]
  },
  {
   "cell_type": "code",
   "execution_count": 233,
   "metadata": {
    "ExecuteTime": {
     "end_time": "2019-07-17T06:20:45.358202Z",
     "start_time": "2019-07-17T06:20:45.354377Z"
    }
   },
   "outputs": [],
   "source": [
    "X = pd.DataFrame(diab_df['bmi']) # 2차원을 만들기 위해서\n",
    "# X = boston.data[:,5]\n",
    "y = diab_df['target']\n",
    "# y = boston.target"
   ]
  },
  {
   "cell_type": "code",
   "execution_count": 234,
   "metadata": {
    "ExecuteTime": {
     "end_time": "2019-07-17T06:20:45.509011Z",
     "start_time": "2019-07-17T06:20:45.504720Z"
    }
   },
   "outputs": [],
   "source": [
    "X_train, X_test, y_train, y_test = ms.train_test_split(X,y,test_size=0.3,random_state = 1)"
   ]
  },
  {
   "cell_type": "code",
   "execution_count": 235,
   "metadata": {
    "ExecuteTime": {
     "end_time": "2019-07-17T06:20:45.644459Z",
     "start_time": "2019-07-17T06:20:45.641871Z"
    }
   },
   "outputs": [],
   "source": [
    "lr = lm.LinearRegression()"
   ]
  },
  {
   "cell_type": "code",
   "execution_count": 236,
   "metadata": {
    "ExecuteTime": {
     "end_time": "2019-07-17T06:20:45.792355Z",
     "start_time": "2019-07-17T06:20:45.789771Z"
    }
   },
   "outputs": [],
   "source": [
    "mses = list()\n",
    "rmses = list()\n",
    "r2s = list()"
   ]
  },
  {
   "cell_type": "code",
   "execution_count": 237,
   "metadata": {
    "ExecuteTime": {
     "end_time": "2019-07-17T06:20:45.951519Z",
     "start_time": "2019-07-17T06:20:45.940830Z"
    }
   },
   "outputs": [
    {
     "name": "stdout",
     "output_type": "stream",
     "text": [
      "단순 선형회귀\n",
      "mse : 4095.914374\n",
      "rmse : 6.042948\n",
      "r2 : 0.186426\n"
     ]
    }
   ],
   "source": [
    "# 단순 선형 회귀 (1차식)\n",
    "reg = lr.fit(X_train,y_train)\n",
    "y1_pred = reg.predict(X_test)\n",
    "\n",
    "mse = mt.mean_squared_error(y_test,y1_pred)\n",
    "rmse = np.sqrt(mse1)\n",
    "r2 = mt.r2_score(y_test,y1_pred)\n",
    "\n",
    "mses.append(mse)\n",
    "rmses.append(rmse)\n",
    "r2s.append(r2)\n",
    "\n",
    "xx = np.linspace(X['bmi'].min()-1,X['bmi'].max()+1)[:,np.newaxis]\n",
    "yy1 = reg.predict(xx)\n",
    "\n",
    "print(\"{}\\nmse : {:3f}\\nrmse : {:3f}\\nr2 : {:3f}\".format('단순 선형회귀',mse,rmse,r2))"
   ]
  },
  {
   "cell_type": "code",
   "execution_count": 238,
   "metadata": {
    "ExecuteTime": {
     "end_time": "2019-07-17T06:20:46.098427Z",
     "start_time": "2019-07-17T06:20:46.084848Z"
    }
   },
   "outputs": [
    {
     "name": "stdout",
     "output_type": "stream",
     "text": [
      "단순 선형회귀\n",
      "mse : 4130.707078\n",
      "rmse : 64.270577\n",
      "r2 : 0.179515\n"
     ]
    }
   ],
   "source": [
    "# 다항 회귀 (2차식)\n",
    "\n",
    "quad = pp.PolynomialFeatures(degree=2)\n",
    "X2_train = quad.fit_transform(X_train)\n",
    "reg = lr.fit(X2_train,y_train)\n",
    "X2_test = quad.fit_transform(X_test)\n",
    "y2_pred = reg.predict(X2_test)\n",
    "\n",
    "mse = mt.mean_squared_error(y_test,y2_pred)\n",
    "rmse = np.sqrt(mse)\n",
    "r2 = mt.r2_score(y_test,y2_pred)\n",
    "\n",
    "mses.append(mse)\n",
    "rmses.append(rmse)\n",
    "r2s.append(r2)\n",
    "\n",
    "xx2 = quad.fit_transform(xx)\n",
    "yy2 = reg.predict(xx2)\n",
    "\n",
    "print(\"{}\\nmse : {:3f}\\nrmse : {:3f}\\nr2 : {:3f}\".format('단순 선형회귀',mse,rmse,r2))"
   ]
  },
  {
   "cell_type": "code",
   "execution_count": 239,
   "metadata": {
    "ExecuteTime": {
     "end_time": "2019-07-17T06:20:46.240637Z",
     "start_time": "2019-07-17T06:20:46.226665Z"
    }
   },
   "outputs": [
    {
     "name": "stdout",
     "output_type": "stream",
     "text": [
      "단순 선형회귀\n",
      "mse : 4193.973165\n",
      "rmse : 64.760892\n",
      "r2 : 0.166948\n"
     ]
    }
   ],
   "source": [
    "# 다항 회귀 (3차식)\n",
    "\n",
    "cubic = pp.PolynomialFeatures(degree=3)\n",
    "X3_train = cubic.fit_transform(X_train)\n",
    "reg = lr.fit(X3_train,y_train)\n",
    "X3_test = cubic.fit_transform(X_test)\n",
    "y3_pred = reg.predict(X3_test)\n",
    "\n",
    "mse = mt.mean_squared_error(y_test,y3_pred)\n",
    "rmse = np.sqrt(mse)\n",
    "r2 = mt.r2_score(y_test,y3_pred)\n",
    "\n",
    "mses.append(mse)\n",
    "rmses.append(rmse)\n",
    "r2s.append(r2)\n",
    "\n",
    "xx3 = cubic.fit_transform(xx) # 결국 fit_transform은 데이터 불리기구나\n",
    "yy3 = reg.predict(xx3)\n",
    "\n",
    "print(\"{}\\nmse : {:3f}\\nrmse : {:3f}\\nr2 : {:3f}\".format('단순 선형회귀',mse,rmse,r2))"
   ]
  },
  {
   "cell_type": "code",
   "execution_count": 240,
   "metadata": {
    "ExecuteTime": {
     "end_time": "2019-07-17T06:20:46.770501Z",
     "start_time": "2019-07-17T06:20:46.766879Z"
    }
   },
   "outputs": [],
   "source": [
    "scores = pd.DataFrame({\"MSE\" : mses,\n",
    "                       \"RMSE\" : rmses,\n",
    "                       \"R2\" : r2s}, index = ['Linear','Quad','Cubic'])"
   ]
  },
  {
   "cell_type": "code",
   "execution_count": 248,
   "metadata": {
    "ExecuteTime": {
     "end_time": "2019-07-17T06:22:38.571653Z",
     "start_time": "2019-07-17T06:22:38.366995Z"
    }
   },
   "outputs": [
    {
     "data": {
      "image/png": "[encoded data removed]",
      "text/plain": [
       "<Figure size 432x288 with 1 Axes>"
      ]
     },
     "metadata": {
      "needs_background": "light"
     },
     "output_type": "display_data"
    },
    {
     "data": {
      "text/html": [
       "<div>\n",
       "<style scoped>\n",
       "    .dataframe tbody tr th:only-of-type {\n",
       "        vertical-align: middle;\n",
       "    }\n",
       "\n",
       "    .dataframe tbody tr th {\n",
       "        vertical-align: top;\n",
       "    }\n",
       "\n",
       "    .dataframe thead th {\n",
       "        text-align: right;\n",
       "    }\n",
       "</style>\n",
       "<table border=\"1\" class=\"dataframe\">\n",
       "  <thead>\n",
       "    <tr style=\"text-align: right;\">\n",
       "      <th></th>\n",
       "      <th>MSE</th>\n",
       "      <th>RMSE</th>\n",
       "      <th>R2</th>\n",
       "    </tr>\n",
       "  </thead>\n",
       "  <tbody>\n",
       "    <tr>\n",
       "      <th>Linear</th>\n",
       "      <td>4095.914374</td>\n",
       "      <td>6.042948</td>\n",
       "      <td>0.186426</td>\n",
       "    </tr>\n",
       "    <tr>\n",
       "      <th>Quad</th>\n",
       "      <td>4130.707078</td>\n",
       "      <td>64.270577</td>\n",
       "      <td>0.179515</td>\n",
       "    </tr>\n",
       "    <tr>\n",
       "      <th>Cubic</th>\n",
       "      <td>4193.973165</td>\n",
       "      <td>64.760892</td>\n",
       "      <td>0.166948</td>\n",
       "    </tr>\n",
       "  </tbody>\n",
       "</table>\n",
       "</div>"
      ],
      "text/plain": [
       "                MSE       RMSE        R2\n",
       "Linear  4095.914374   6.042948  0.186426\n",
       "Quad    4130.707078  64.270577  0.179515\n",
       "Cubic   4193.973165  64.760892  0.166948"
      ]
     },
     "metadata": {},
     "output_type": "display_data"
    }
   ],
   "source": [
    "plt.scatter(X,y,color='red',alpha=0.1,label = 'Price')\n",
    "plt.plot(xx,yy1,color='blue',linestyle='--',label='Linear') # 1차식을 그릴거니까\n",
    "plt.plot(xx,yy2,color='pink',linestyle='-',label='Quad') # 2차식을 그릴거\n",
    "plt.plot(xx,yy3,color='green',linestyle=':',label='Cubic',linewidth = 2) # 3차식 그릴거\n",
    "plt.title(\"BMI and Target\",fontsize=15)\n",
    "plt.xlabel('BMI',fontsize=15)\n",
    "plt.ylabel('Target',fontsize=15)\n",
    "plt.legend(fontsize=10)\n",
    "plt.xlim(-0.5,0.5)\n",
    "plt.ylim(-100,500)\n",
    "plt.show()\n",
    "display(scores)"
   ]
  }
 ],
 "metadata": {
  "kernelspec": {
   "display_name": "Python 3",
   "language": "python",
   "name": "python3"
  },
  "language_info": {
   "codemirror_mode": {
    "name": "ipython",
    "version": 3
   },
   "file_extension": ".py",
   "mimetype": "text/x-python",
   "name": "python",
   "nbconvert_exporter": "python",
   "pygments_lexer": "ipython3",
   "version": "3.6.8"
  },
  "toc": {
   "base_numbering": 1,
   "nav_menu": {},
   "number_sections": true,
   "sideBar": true,
   "skip_h1_title": true,
   "title_cell": "Table of Contents",
   "title_sidebar": "Contents",
   "toc_cell": false,
   "toc_position": {
    "height": "calc(100% - 180px)",
    "left": "10px",
    "top": "150px",
    "width": "168px"
   },
   "toc_section_display": true,
   "toc_window_display": true
  }
 },
 "nbformat": 4,
 "nbformat_minor": 2
}
