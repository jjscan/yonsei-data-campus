{
 "cells": [
  {
   "cell_type": "markdown",
   "metadata": {},
   "source": [
    "# 다항 회귀\n",
    "\n",
    "## 다항회귀란?\n",
    "- 독립변수와 종속변수들 간의 관계를 다차 다항식으로 표현하는 회귀 방식\n",
    "- 예를 들어, 2개의 독립변수 X1, X2와 종속변수 Y의 관계를 아래와 같은 다항식으로 표현\n",
    "> $ Y = w_0 + w_1X_1 + w_2X_2 + w_3X_1X_2 + w_4X_1^2 + w_5X_2^2 $\n",
    "- 회귀식의 형태가 독립변수의 선형이 아니기 때문에 비선형 회귀라고 오해할 수 있으나, **다항 회귀는 선형 회귀**에 해당!\n",
    "- 선형 회귀와 비선형 회귀를 구분하는 기준은 **회귀 계수들의 형태가 선형인가 비선형인가의 여부**이다. (독립변수의 형태와는 상관 없다.)\n",
    "- 보다 엄밀하게, 다항 회귀를 선형화 할 수 있는(linearizable)회귀라고 명명\n",
    "- 회귀식의 독립변수들을 각각 새로운 변수로 치환해서 1차 방정식으로 표현\n",
    "> $ Y = w_0 + w_1Z_1 + w_2Z_2 + w_3Z_3 + w_4Z_4 + w_5Z_5 $\n",
    "- 따라서 다항 회귀는 다중 선형 회귀와 동일한 절차를 통해서 분석을 수행\n",
    "- 단, 비선형 함수를 선형적으로 적용시키는 과정이 선행되어야 함\n",
    "\n",
    "## 사이킷런에서 다항식 특성으로의 변환 수행\n",
    "\n",
    "### preprocessing 모듈에 있는 PolynomialFeatures를 이용하여 특성들을 다항식 형태로 변환하는 객체를 생성"
   ]
  },
  {
   "cell_type": "code",
   "execution_count": 2,
   "metadata": {
    "ExecuteTime": {
     "end_time": "2019-07-16T08:19:35.649343Z",
     "start_time": "2019-07-16T08:19:35.645451Z"
    }
   },
   "outputs": [],
   "source": [
    "import numpy as np\n",
    "import sklearn.preprocessing as pp\n",
    "\n",
    "# 원본 특성 데이터는 아래와 같이 [[0, 1] [2, 3]] 배열\n",
    "X = np.arange(4).reshape(2,2)\n",
    "\n",
    "# 매개변수 degree는 변환하려는 다항식의 차수이며, 기본값은 2\n",
    "poly = pp.PolynomialFeatures(degree=2)"
   ]
  },
  {
   "cell_type": "markdown",
   "metadata": {},
   "source": [
    "### 객체에 대해서 fit_transform 메소드를 이용하여 변환"
   ]
  },
  {
   "cell_type": "code",
   "execution_count": 3,
   "metadata": {
    "ExecuteTime": {
     "end_time": "2019-07-16T08:20:12.905905Z",
     "start_time": "2019-07-16T08:20:12.895062Z"
    }
   },
   "outputs": [
    {
     "name": "stdout",
     "output_type": "stream",
     "text": [
      "[[1. 0. 1. 0. 0. 1.]\n",
      " [1. 2. 3. 4. 6. 9.]]\n"
     ]
    }
   ],
   "source": [
    "# 매개변수는 원본 특성 집합\n",
    "# 반환 결과는 다항식 형태로 변환된 특성 집합\n",
    "X_poly = poly.fit_transform(X)\n",
    "print(X_poly)"
   ]
  },
  {
   "cell_type": "code",
   "execution_count": 5,
   "metadata": {
    "ExecuteTime": {
     "end_time": "2019-07-16T08:20:51.125394Z",
     "start_time": "2019-07-16T08:20:51.119956Z"
    },
    "scrolled": true
   },
   "outputs": [
    {
     "name": "stdout",
     "output_type": "stream",
     "text": [
      "[[1. 0. 1. 0. 0. 1.]\n",
      " [1. 2. 3. 4. 6. 9.]]\n"
     ]
    }
   ],
   "source": [
    "#  fit 및 transform을 각각 순서대로 호출해도 무방\n",
    "poly.fit(X)\n",
    "X_poly = poly.transform(X)\n",
    "print(X_poly)"
   ]
  },
  {
   "cell_type": "markdown",
   "metadata": {},
   "source": [
    "- 2차 다항식으로 변환된 결과는 원본 특성에 대해서 0차식,1차식, 2차식을 순서대로 나열한 것\n",
    "- 원래의 특성을 2차 다항식으로 변환하는 경우\n",
    "\n",
    "|원본|변환된 결과|\n",
    "|---|--------|\n",
    "|$X$|$1,X,X^2$|  \n",
    "|$X,Y$|$1,X,Y,X^2,XY,Y^2$|  \n",
    "|$X,Y,Z$|$1,X,Y,Z,X^2,XY,XZ,Y^2,YZ,Z^2$|  "
   ]
  },
  {
   "cell_type": "markdown",
   "metadata": {},
   "source": [
    "## 사이킷런으로 다항 회귀 수행\n",
    "\n",
    "### 데이터를 생성하여 확인\n",
    "\n",
    "### 비교를 위해 단순 선형 회귀를 실행\n",
    "\n",
    "### 2차항 형태로 다항 회귀를 실행\n",
    "\n",
    "### 7차항 형태로 다항 회귀를 실행\n",
    "\n",
    "### 전체적인 결과를 확인"
   ]
  },
  {
   "cell_type": "code",
   "execution_count": null,
   "metadata": {},
   "outputs": [],
   "source": []
  }
 ],
 "metadata": {
  "kernelspec": {
   "display_name": "Python 3",
   "language": "python",
   "name": "python3"
  },
  "language_info": {
   "codemirror_mode": {
    "name": "ipython",
    "version": 3
   },
   "file_extension": ".py",
   "mimetype": "text/x-python",
   "name": "python",
   "nbconvert_exporter": "python",
   "pygments_lexer": "ipython3",
   "version": "3.6.8"
  },
  "toc": {
   "base_numbering": 1,
   "nav_menu": {},
   "number_sections": true,
   "sideBar": true,
   "skip_h1_title": true,
   "title_cell": "Table of Contents",
   "title_sidebar": "Contents",
   "toc_cell": false,
   "toc_position": {
    "height": "calc(100% - 180px)",
    "left": "10px",
    "top": "150px",
    "width": "168px"
   },
   "toc_section_display": true,
   "toc_window_display": true
  }
 },
 "nbformat": 4,
 "nbformat_minor": 2
}
