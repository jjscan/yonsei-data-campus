{
 "cells": [
  {
   "cell_type": "markdown",
   "metadata": {},
   "source": [
    "# 7장 규제된 선형 회귀"
   ]
  },
  {
   "cell_type": "markdown",
   "metadata": {},
   "source": [
    "---\n",
    "\n",
    "## 회귀 모형과 회귀 계수\n",
    "- 지금까지의 선형 회귀 모형은 비용 함수 RSS를 최소화 하는데에 초점\n",
    "- 이에 따라서 훈련 데이터에는 지나치게 잘 맞고 회귀 계수가 커지게 되어, 검증 데이터에서는 올바르게 예측을 하지 못할 수 있다. (과대적합)\n",
    "- 따라서 비용 함수는 RSS를 최소화 하면서도 **회귀 계수 값이 너무 커지지 않도록** 균형을 이룰 필요\n",
    "- 비용 함수의 목표는 다음과 같이 수정\n",
    "\n",
    "<center>$ cost = min(RSS(w)$ <span style=\"color:red\"> $ + \\alpha × f(w)$</span>$)$</center>\n",
    "\n",
    "- 매개변수 α의 값에 따라서 잔차제곱합 RSS와 회귀 계수에 대한 **추가 제약 조건 f(w)**의 비중이 달라짐\n",
    "- **α가 0이라면**, 비용 함수는 기존과 동일하게 RSS 값으로 적용, 이 때의 목표는 결국 **RSS 값을 최소화 시키는 것**\n",
    "- **α가 매우 큰 값**이라면, 상대적으로 RSS 값은 의미가 없고 f(w)의 값이 비용 함수의 대부분을 차지한다. 이 때의 목표는 이 **f(w)의 값을 최소화 시키는 것**"
   ]
  },
  {
   "cell_type": "markdown",
   "metadata": {},
   "source": [
    "---\n",
    "\n",
    "## 규제 (Regularization)\n",
    "- 결과적으로, α의 값을 0부터 차츰 증가시키면 회귀 계수 w값의 크기를 감소시킬 수 있음\n",
    "- 이렇게 회귀 계수 값의 크기를 감소시켜서 과대적합 문제를 개선하여 학습하는 것을 규제라고 하며, 크게 L1 규제와 L2규제로 구분\n",
    "    - **L1 규제** : f(w)가 회귀 계수 w들의 **절대값**들의 합\n",
    "    - **L2 규제** : f(w)가 회귀 계수 w들의 **제곱**합"
   ]
  },
  {
   "cell_type": "markdown",
   "metadata": {},
   "source": [
    "---\n",
    "\n",
    "## 릿지 회귀 (Ridge Regression)\n",
    "- 릿지(Ridege) : 산등성이, 약간 부드러운 느낌\n",
    "- L2 규제를 적용한 회귀를 릿지 회귀라고 함\n",
    "\n",
    "<center>$ cost = min(RSS(w)$ <span style=\"color:red\"> $ + \\alpha × \\frac{1}{2}\\sum {w_i}^2$</span>$)$</center>\n",
    "\n",
    "- α가 0이라면, 비용 함수는 기존과 동일하게 RSS 값으로 적용된다. 따라서 기본적인 선형 회귀와 같아짐\n",
    "- α가 매우 큰 값이라면, 회귀 계수들의 제곱합이 최소화되어야 하므로 회귀 계수들이 거의 0에 근접한다. 따라서 회귀 모형은 데이터의 평균을 지나가는 수평선이 됨"
   ]
  },
  {
   "cell_type": "markdown",
   "metadata": {},
   "source": [
    "### 사이킷런으로 릿지 회귀 수행\n",
    "\n",
    "#### linear_model 모듈에 있는 Ridge를 이용하여 릿지 회귀를 수행"
   ]
  },
  {
   "cell_type": "markdown",
   "metadata": {
    "ExecuteTime": {
     "end_time": "2019-07-22T01:01:41.469000Z",
     "start_time": "2019-07-22T01:01:40.089120Z"
    }
   },
   "source": [
    "```python\n",
    "# 매개변수 alpha는 L2 규제 계수인 α 값\n",
    "import sklearn.linear_model as lm\n",
    "\n",
    "ridge = lm.Ridge(alpha=0.01)\n",
    "reg = ridge.fit(X_train,y_train)\n",
    "```"
   ]
  },
  {
   "cell_type": "markdown",
   "metadata": {},
   "source": [
    "- alpha를 0으로 지정해서 수행하면, LinearRegression을 이용한 일반적인 선형 회귀와 동일한 결과가 나오는 것을 확인\n",
    "- alpha를 증가시키면, 회귀 계수의 값들이 점차 작아져서 0에 가까워지는 것을 확인할 수"
   ]
  },
  {
   "cell_type": "markdown",
   "metadata": {},
   "source": [
    "#### 사이킷런으로 릿지 회귀 수행\n",
    "- 당뇨병 진단 데이터에 대해 alpha를 0.01로 설정한 경우\n"
   ]
  },
  {
   "cell_type": "code",
   "execution_count": 1,
   "metadata": {
    "ExecuteTime": {
     "end_time": "2019-07-22T02:21:57.445167Z",
     "start_time": "2019-07-22T02:21:56.322514Z"
    }
   },
   "outputs": [],
   "source": [
    "import numpy as np\n",
    "import pandas as pd\n",
    "import sklearn.datasets as d\n",
    "import sklearn.model_selection as ms\n",
    "import sklearn.linear_model as lm\n",
    "import sklearn.metrics as mt\n",
    "import matplotlib.pyplot as plt"
   ]
  },
  {
   "cell_type": "code",
   "execution_count": 2,
   "metadata": {
    "ExecuteTime": {
     "end_time": "2019-07-22T02:21:57.463913Z",
     "start_time": "2019-07-22T02:21:57.447995Z"
    }
   },
   "outputs": [],
   "source": [
    "diab = d.load_diabetes()\n",
    "X_train, X_test, y_train, y_test = ms.train_test_split(diab.data,\n",
    "                                                       diab.target,\n",
    "                                                       test_size=0.3,\n",
    "                                                       random_state=78)"
   ]
  },
  {
   "cell_type": "code",
   "execution_count": 3,
   "metadata": {
    "ExecuteTime": {
     "end_time": "2019-07-22T02:21:57.494737Z",
     "start_time": "2019-07-22T02:21:57.469743Z"
    }
   },
   "outputs": [
    {
     "name": "stdout",
     "output_type": "stream",
     "text": [
      "0.5126648996637304\n",
      "[ -29.33885142 -179.50971188  450.733122    367.43956479 -436.69913285\n",
      "  239.09371599  -95.21457541  -23.61899478  735.28579689   60.54766425]\n",
      "153.4224680655062\n"
     ]
    },
    {
     "data": {
      "text/plain": [
       "age    -29.339\n",
       "sex   -179.510\n",
       "bmi    450.733\n",
       "bp     367.440\n",
       "s1    -436.699\n",
       "s2     239.094\n",
       "s3     -95.215\n",
       "s4     -23.619\n",
       "s5     735.286\n",
       "s6      60.548\n",
       "dtype: float64"
      ]
     },
     "execution_count": 3,
     "metadata": {},
     "output_type": "execute_result"
    }
   ],
   "source": [
    "# Ridge 규제를 하는 경우\n",
    "ridge = lm.Ridge(alpha=0.01) # alpha 값은 하이퍼파라미터라 내가 찾아봐야해\n",
    "reg = ridge.fit(X_train, y_train)\n",
    "\n",
    "y_pred = reg.predict(X_test)\n",
    "print(mt.r2_score(y_test, y_pred))\n",
    "print(reg.coef_)\n",
    "print(reg.intercept_)\n",
    "\n",
    "cf = pd.Series(data=np.round(reg.coef_, 3),\n",
    "               index=diab.feature_names)\n",
    "cf"
   ]
  },
  {
   "cell_type": "code",
   "execution_count": 4,
   "metadata": {
    "ExecuteTime": {
     "end_time": "2019-07-22T02:21:57.517278Z",
     "start_time": "2019-07-22T02:21:57.497162Z"
    }
   },
   "outputs": [
    {
     "name": "stdout",
     "output_type": "stream",
     "text": [
      "0.5126648996637304\n",
      "[  -40.6505383   -188.83378414   446.19384318   376.68855544\n",
      " -1088.03637845   762.81201373   181.58759996    35.48597868\n",
      "  1003.98013082    52.82014062]\n",
      "153.5062805641863\n"
     ]
    },
    {
     "data": {
      "text/plain": [
       "age     -40.651\n",
       "sex    -188.834\n",
       "bmi     446.194\n",
       "bp      376.689\n",
       "s1    -1088.036\n",
       "s2      762.812\n",
       "s3      181.588\n",
       "s4       35.486\n",
       "s5     1003.980\n",
       "s6       52.820\n",
       "dtype: float64"
      ]
     },
     "execution_count": 4,
     "metadata": {},
     "output_type": "execute_result"
    }
   ],
   "source": [
    "# 규제를 하지 않는 경우\n",
    "lr2 = lm.LinearRegression()\n",
    "reg2 = lr2.fit(X_train, y_train)\n",
    "\n",
    "y_pred2 = reg.predict(X_test)\n",
    "print(mt.r2_score(y_test, y_pred2))\n",
    "print(reg2.coef_)\n",
    "print(reg2.intercept_)\n",
    "\n",
    "cf = pd.Series(data=np.round(reg2.coef_, 3),\n",
    "               index=diab.feature_names)\n",
    "cf"
   ]
  },
  {
   "cell_type": "code",
   "execution_count": 5,
   "metadata": {
    "ExecuteTime": {
     "end_time": "2019-07-22T02:21:57.670095Z",
     "start_time": "2019-07-22T02:21:57.519720Z"
    }
   },
   "outputs": [
    {
     "data": {
      "image/png": "[encoded data removed]",
      "text/plain": [
       "<Figure size 432x288 with 1 Axes>"
      ]
     },
     "metadata": {
      "needs_background": "light"
     },
     "output_type": "display_data"
    }
   ],
   "source": [
    "plt.scatter(y_test,y_pred,color='red')\n",
    "plt.title('Comparison')\n",
    "plt.xlabel('Actual Progression')\n",
    "plt.ylabel('Predicted Progression')\n",
    "plt.show()"
   ]
  },
  {
   "cell_type": "code",
   "execution_count": 6,
   "metadata": {
    "ExecuteTime": {
     "end_time": "2019-07-22T02:21:57.701940Z",
     "start_time": "2019-07-22T02:21:57.672699Z"
    }
   },
   "outputs": [
    {
     "data": {
      "text/html": [
       "<div>\n",
       "<style scoped>\n",
       "    .dataframe tbody tr th:only-of-type {\n",
       "        vertical-align: middle;\n",
       "    }\n",
       "\n",
       "    .dataframe tbody tr th {\n",
       "        vertical-align: top;\n",
       "    }\n",
       "\n",
       "    .dataframe thead th {\n",
       "        text-align: right;\n",
       "    }\n",
       "</style>\n",
       "<table border=\"1\" class=\"dataframe\">\n",
       "  <thead>\n",
       "    <tr style=\"text-align: right;\">\n",
       "      <th></th>\n",
       "      <th>alpha = 0</th>\n",
       "      <th>alpha = 0.01</th>\n",
       "      <th>alpha = 0.1</th>\n",
       "      <th>alpha = 1</th>\n",
       "      <th>alpha = 10</th>\n",
       "      <th>alpha = 100</th>\n",
       "    </tr>\n",
       "  </thead>\n",
       "  <tbody>\n",
       "    <tr>\n",
       "      <th>AGE</th>\n",
       "      <td>-10.012198</td>\n",
       "      <td>-7.199457</td>\n",
       "      <td>1.307349</td>\n",
       "      <td>29.465746</td>\n",
       "      <td>19.812822</td>\n",
       "      <td>2.897090</td>\n",
       "    </tr>\n",
       "    <tr>\n",
       "      <th>SEX</th>\n",
       "      <td>-239.819089</td>\n",
       "      <td>-234.552930</td>\n",
       "      <td>-207.194814</td>\n",
       "      <td>-83.154885</td>\n",
       "      <td>-0.918458</td>\n",
       "      <td>0.585254</td>\n",
       "    </tr>\n",
       "    <tr>\n",
       "      <th>BMI</th>\n",
       "      <td>519.839787</td>\n",
       "      <td>520.583136</td>\n",
       "      <td>489.691080</td>\n",
       "      <td>306.351627</td>\n",
       "      <td>75.416167</td>\n",
       "      <td>9.240719</td>\n",
       "    </tr>\n",
       "    <tr>\n",
       "      <th>BP</th>\n",
       "      <td>324.390428</td>\n",
       "      <td>320.523356</td>\n",
       "      <td>301.769437</td>\n",
       "      <td>201.629434</td>\n",
       "      <td>55.025419</td>\n",
       "      <td>6.931321</td>\n",
       "    </tr>\n",
       "    <tr>\n",
       "      <th>S1</th>\n",
       "      <td>-792.184162</td>\n",
       "      <td>-380.607066</td>\n",
       "      <td>-83.466074</td>\n",
       "      <td>5.909369</td>\n",
       "      <td>19.924600</td>\n",
       "      <td>3.230957</td>\n",
       "    </tr>\n",
       "    <tr>\n",
       "      <th>S2</th>\n",
       "      <td>476.745838</td>\n",
       "      <td>150.483752</td>\n",
       "      <td>-70.828096</td>\n",
       "      <td>-29.515927</td>\n",
       "      <td>13.948686</td>\n",
       "      <td>2.616766</td>\n",
       "    </tr>\n",
       "    <tr>\n",
       "      <th>S3</th>\n",
       "      <td>101.044570</td>\n",
       "      <td>-78.591232</td>\n",
       "      <td>-188.680164</td>\n",
       "      <td>-152.040465</td>\n",
       "      <td>-47.553816</td>\n",
       "      <td>-6.174550</td>\n",
       "    </tr>\n",
       "    <tr>\n",
       "      <th>S4</th>\n",
       "      <td>177.064176</td>\n",
       "      <td>130.313059</td>\n",
       "      <td>115.712703</td>\n",
       "      <td>117.311715</td>\n",
       "      <td>48.259420</td>\n",
       "      <td>6.678027</td>\n",
       "    </tr>\n",
       "    <tr>\n",
       "      <th>S5</th>\n",
       "      <td>751.279321</td>\n",
       "      <td>592.349587</td>\n",
       "      <td>443.814054</td>\n",
       "      <td>262.944995</td>\n",
       "      <td>70.144068</td>\n",
       "      <td>8.876864</td>\n",
       "    </tr>\n",
       "    <tr>\n",
       "      <th>S6</th>\n",
       "      <td>67.625386</td>\n",
       "      <td>71.133768</td>\n",
       "      <td>86.748539</td>\n",
       "      <td>111.878718</td>\n",
       "      <td>44.213876</td>\n",
       "      <td>5.955597</td>\n",
       "    </tr>\n",
       "    <tr>\n",
       "      <th>INTERCEPT</th>\n",
       "      <td>152.133484</td>\n",
       "      <td>152.133484</td>\n",
       "      <td>152.133484</td>\n",
       "      <td>152.133484</td>\n",
       "      <td>152.133484</td>\n",
       "      <td>152.133484</td>\n",
       "    </tr>\n",
       "    <tr>\n",
       "      <th>R2 Score</th>\n",
       "      <td>0.546075</td>\n",
       "      <td>0.549681</td>\n",
       "      <td>0.549800</td>\n",
       "      <td>0.479836</td>\n",
       "      <td>0.193874</td>\n",
       "      <td>0.025981</td>\n",
       "    </tr>\n",
       "  </tbody>\n",
       "</table>\n",
       "</div>"
      ],
      "text/plain": [
       "            alpha = 0  alpha = 0.01  alpha = 0.1   alpha = 1  alpha = 10  \\\n",
       "AGE        -10.012198     -7.199457     1.307349   29.465746   19.812822   \n",
       "SEX       -239.819089   -234.552930  -207.194814  -83.154885   -0.918458   \n",
       "BMI        519.839787    520.583136   489.691080  306.351627   75.416167   \n",
       "BP         324.390428    320.523356   301.769437  201.629434   55.025419   \n",
       "S1        -792.184162   -380.607066   -83.466074    5.909369   19.924600   \n",
       "S2         476.745838    150.483752   -70.828096  -29.515927   13.948686   \n",
       "S3         101.044570    -78.591232  -188.680164 -152.040465  -47.553816   \n",
       "S4         177.064176    130.313059   115.712703  117.311715   48.259420   \n",
       "S5         751.279321    592.349587   443.814054  262.944995   70.144068   \n",
       "S6          67.625386     71.133768    86.748539  111.878718   44.213876   \n",
       "INTERCEPT  152.133484    152.133484   152.133484  152.133484  152.133484   \n",
       "R2 Score     0.546075      0.549681     0.549800    0.479836    0.193874   \n",
       "\n",
       "           alpha = 100  \n",
       "AGE           2.897090  \n",
       "SEX           0.585254  \n",
       "BMI           9.240719  \n",
       "BP            6.931321  \n",
       "S1            3.230957  \n",
       "S2            2.616766  \n",
       "S3           -6.174550  \n",
       "S4            6.678027  \n",
       "S5            8.876864  \n",
       "S6            5.955597  \n",
       "INTERCEPT   152.133484  \n",
       "R2 Score      0.025981  "
      ]
     },
     "execution_count": 6,
     "metadata": {},
     "output_type": "execute_result"
    }
   ],
   "source": [
    "alpha_list = [0, 0.01, 0.1, 1, 10, 100]\n",
    "df = pd.DataFrame()\n",
    "\n",
    "for alpha in alpha_list:\n",
    "    ridge = lm.Ridge(alpha=alpha)\n",
    "    reg = ridge.fit(diab.data, diab.target)\n",
    "    y_pred = reg.predict(X_test)\n",
    "    r2 = mt.r2_score(y_test, y_pred)\n",
    "    cf = pd.Series(data=np.hstack([reg.coef_,\n",
    "                                   reg.intercept_,r2]),  # 붙이기 위해서\n",
    "                   index=[s.upper() for s in diab.feature_names]+['INTERCEPT','R2 Score'])\n",
    "    colname='alpha = ' + str(alpha)\n",
    "    df[colname]=cf\n",
    "df"
   ]
  },
  {
   "cell_type": "code",
   "execution_count": 7,
   "metadata": {
    "ExecuteTime": {
     "end_time": "2019-07-22T02:21:57.827971Z",
     "start_time": "2019-07-22T02:21:57.704373Z"
    }
   },
   "outputs": [
    {
     "data": {
      "image/png": "[encoded data removed]",
      "text/plain": [
       "<Figure size 432x288 with 1 Axes>"
      ]
     },
     "metadata": {
      "needs_background": "light"
     },
     "output_type": "display_data"
    }
   ],
   "source": [
    "df.loc['R2 Score'].plot(kind='barh',color='red',alpha=0.3)\n",
    "plt.show()"
   ]
  },
  {
   "cell_type": "markdown",
   "metadata": {},
   "source": [
    "---\n",
    "\n",
    "## 라쏘 회귀 (Lasso Regression)\n",
    "- L1 규제를 적용한 회귀를 라쏘 회귀라고 한다\n",
    "\n",
    "<center>$ cost = min(RSS(w)$ <span style=\"color:red\"> $ + \\alpha × \\sum |w_i|$</span>$)$</center>\n",
    "\n",
    "\n",
    "- L1 규제는 불필요한 회귀 계수를 가급적 0으로 만들어 제거하려는 특징이 있다. 따라서 결과적으로는 적절한 특성들만 회귀 모형에 포함"
   ]
  },
  {
   "cell_type": "markdown",
   "metadata": {},
   "source": [
    "### 사이킷런으로 라쏘 회귀 수행\n",
    "\n",
    "#### linear_model 모듈에 있는 Lasso를 이용하여 라쏘 회귀 수행\n",
    "\n",
    "```python\n",
    "import sklearn.linear_model as lm\n",
    "lasso = lm.Lasso(alpha=0.01)\n",
    "reg = lasso.fit(X_train,y_train)\n",
    "```\n",
    "\n",
    "- 매개변수 alpha는 L1 규제 계수인 α 값\n",
    "- alpha를 0으로 지정해서 수행하면, LinearRegression을 이용한 일반적인 선형 회귀와 동일한 결과가 나오는 것을 확인\n",
    "- alpha를 증가시키면, 회귀 계수의 값들이 급격하게 0에 수렴하는 것을 확인"
   ]
  },
  {
   "cell_type": "markdown",
   "metadata": {},
   "source": [
    "#### 당뇨병 진단 데이터에 대해 alpha를 0.01로 설정한 경우"
   ]
  },
  {
   "cell_type": "code",
   "execution_count": 8,
   "metadata": {
    "ExecuteTime": {
     "end_time": "2019-07-22T02:21:57.840092Z",
     "start_time": "2019-07-22T02:21:57.830117Z"
    }
   },
   "outputs": [
    {
     "name": "stdout",
     "output_type": "stream",
     "text": [
      "0.5088520367941951\n",
      "[ -27.91289354 -177.58529595  451.92961693  367.9850682  -643.62974955\n",
      "  400.50006229   -0.            0.          825.93272429   50.19067062]\n",
      "153.43690368553345\n"
     ]
    },
    {
     "data": {
      "text/plain": [
       "age    -27.913\n",
       "sex   -177.585\n",
       "bmi    451.930\n",
       "bp     367.985\n",
       "s1    -643.630\n",
       "s2     400.500\n",
       "s3      -0.000\n",
       "s4       0.000\n",
       "s5     825.933\n",
       "s6      50.191\n",
       "dtype: float64"
      ]
     },
     "execution_count": 8,
     "metadata": {},
     "output_type": "execute_result"
    }
   ],
   "source": [
    "lasso = lm.Lasso(alpha=0.01)\n",
    "reg = lasso.fit(X_train,y_train)\n",
    "\n",
    "y_pred = reg.predict(X_test)\n",
    "\n",
    "print(mt.r2_score(y_test, y_pred))\n",
    "print(reg.coef_)\n",
    "print(reg.intercept_)\n",
    "\n",
    "cf = pd.Series(data=np.round(reg.coef_, 3),\n",
    "               index=diab.feature_names)\n",
    "cf"
   ]
  },
  {
   "cell_type": "markdown",
   "metadata": {},
   "source": [
    "#### 당뇨병 진단 데이터에 대해 여러 alpha 값들로 수행한 결과\n",
    "- 훈련 및 검증 데이터를 분리하지 않고 원본 데이터 전체를 학습에 사용"
   ]
  },
  {
   "cell_type": "code",
   "execution_count": 9,
   "metadata": {
    "ExecuteTime": {
     "end_time": "2019-07-22T02:21:57.959827Z",
     "start_time": "2019-07-22T02:21:57.841817Z"
    }
   },
   "outputs": [
    {
     "data": {
      "image/png": "[encoded data removed]",
      "text/plain": [
       "<Figure size 432x288 with 1 Axes>"
      ]
     },
     "metadata": {
      "needs_background": "light"
     },
     "output_type": "display_data"
    }
   ],
   "source": [
    "plt.scatter(y_test,y_pred,color='red')\n",
    "plt.title('Comparison')\n",
    "plt.xlabel('Actual Progression')\n",
    "plt.ylabel('Predicted Progression')\n",
    "plt.show()"
   ]
  },
  {
   "cell_type": "code",
   "execution_count": 10,
   "metadata": {
    "ExecuteTime": {
     "end_time": "2019-07-22T02:21:57.991081Z",
     "start_time": "2019-07-22T02:21:57.961770Z"
    }
   },
   "outputs": [
    {
     "name": "stderr",
     "output_type": "stream",
     "text": [
      "/anaconda3/lib/python3.6/site-packages/ipykernel_launcher.py:6: UserWarning: With alpha=0, this algorithm does not converge well. You are advised to use the LinearRegression estimator\n",
      "  \n",
      "/anaconda3/lib/python3.6/site-packages/sklearn/linear_model/coordinate_descent.py:478: UserWarning: Coordinate descent with no regularization may lead to unexpected results and is discouraged.\n",
      "  positive)\n",
      "/anaconda3/lib/python3.6/site-packages/sklearn/linear_model/coordinate_descent.py:492: ConvergenceWarning: Objective did not converge. You might want to increase the number of iterations. Fitting data with very small alpha may cause precision problems.\n",
      "  ConvergenceWarning)\n"
     ]
    },
    {
     "data": {
      "text/html": [
       "<div>\n",
       "<style scoped>\n",
       "    .dataframe tbody tr th:only-of-type {\n",
       "        vertical-align: middle;\n",
       "    }\n",
       "\n",
       "    .dataframe tbody tr th {\n",
       "        vertical-align: top;\n",
       "    }\n",
       "\n",
       "    .dataframe thead th {\n",
       "        text-align: right;\n",
       "    }\n",
       "</style>\n",
       "<table border=\"1\" class=\"dataframe\">\n",
       "  <thead>\n",
       "    <tr style=\"text-align: right;\">\n",
       "      <th></th>\n",
       "      <th>alpha = 0</th>\n",
       "      <th>alpha = 0.01</th>\n",
       "      <th>alpha = 0.1</th>\n",
       "      <th>alpha = 1</th>\n",
       "      <th>alpha = 10</th>\n",
       "      <th>alpha = 100</th>\n",
       "    </tr>\n",
       "  </thead>\n",
       "  <tbody>\n",
       "    <tr>\n",
       "      <th>AGE</th>\n",
       "      <td>-10.012198</td>\n",
       "      <td>-1.306575</td>\n",
       "      <td>-0.000000</td>\n",
       "      <td>0.000000</td>\n",
       "      <td>0.000000</td>\n",
       "      <td>0.000000</td>\n",
       "    </tr>\n",
       "    <tr>\n",
       "      <th>SEX</th>\n",
       "      <td>-239.819089</td>\n",
       "      <td>-228.822331</td>\n",
       "      <td>-155.362882</td>\n",
       "      <td>-0.000000</td>\n",
       "      <td>0.000000</td>\n",
       "      <td>0.000000</td>\n",
       "    </tr>\n",
       "    <tr>\n",
       "      <th>BMI</th>\n",
       "      <td>519.839787</td>\n",
       "      <td>525.560658</td>\n",
       "      <td>517.182017</td>\n",
       "      <td>367.701852</td>\n",
       "      <td>0.000000</td>\n",
       "      <td>0.000000</td>\n",
       "    </tr>\n",
       "    <tr>\n",
       "      <th>BP</th>\n",
       "      <td>324.390428</td>\n",
       "      <td>316.175320</td>\n",
       "      <td>275.082351</td>\n",
       "      <td>6.301904</td>\n",
       "      <td>0.000000</td>\n",
       "      <td>0.000000</td>\n",
       "    </tr>\n",
       "    <tr>\n",
       "      <th>S1</th>\n",
       "      <td>-792.184135</td>\n",
       "      <td>-307.013677</td>\n",
       "      <td>-52.540269</td>\n",
       "      <td>0.000000</td>\n",
       "      <td>0.000000</td>\n",
       "      <td>0.000000</td>\n",
       "    </tr>\n",
       "    <tr>\n",
       "      <th>S2</th>\n",
       "      <td>476.745817</td>\n",
       "      <td>89.321688</td>\n",
       "      <td>-0.000000</td>\n",
       "      <td>0.000000</td>\n",
       "      <td>0.000000</td>\n",
       "      <td>0.000000</td>\n",
       "    </tr>\n",
       "    <tr>\n",
       "      <th>S3</th>\n",
       "      <td>101.044558</td>\n",
       "      <td>-105.081398</td>\n",
       "      <td>-210.159753</td>\n",
       "      <td>-0.000000</td>\n",
       "      <td>-0.000000</td>\n",
       "      <td>-0.000000</td>\n",
       "    </tr>\n",
       "    <tr>\n",
       "      <th>S4</th>\n",
       "      <td>177.064173</td>\n",
       "      <td>119.597989</td>\n",
       "      <td>0.000000</td>\n",
       "      <td>0.000000</td>\n",
       "      <td>0.000000</td>\n",
       "      <td>0.000000</td>\n",
       "    </tr>\n",
       "    <tr>\n",
       "      <th>S5</th>\n",
       "      <td>751.279311</td>\n",
       "      <td>571.330871</td>\n",
       "      <td>483.914409</td>\n",
       "      <td>307.605700</td>\n",
       "      <td>0.000000</td>\n",
       "      <td>0.000000</td>\n",
       "    </tr>\n",
       "    <tr>\n",
       "      <th>S6</th>\n",
       "      <td>67.625386</td>\n",
       "      <td>65.007316</td>\n",
       "      <td>33.672821</td>\n",
       "      <td>0.000000</td>\n",
       "      <td>0.000000</td>\n",
       "      <td>0.000000</td>\n",
       "    </tr>\n",
       "    <tr>\n",
       "      <th>INTERCEPT</th>\n",
       "      <td>152.133484</td>\n",
       "      <td>152.133484</td>\n",
       "      <td>152.133484</td>\n",
       "      <td>152.133484</td>\n",
       "      <td>152.133484</td>\n",
       "      <td>152.133484</td>\n",
       "    </tr>\n",
       "    <tr>\n",
       "      <th>R2 Score</th>\n",
       "      <td>0.546075</td>\n",
       "      <td>0.549328</td>\n",
       "      <td>0.540887</td>\n",
       "      <td>0.399570</td>\n",
       "      <td>-0.002551</td>\n",
       "      <td>-0.002551</td>\n",
       "    </tr>\n",
       "  </tbody>\n",
       "</table>\n",
       "</div>"
      ],
      "text/plain": [
       "            alpha = 0  alpha = 0.01  alpha = 0.1   alpha = 1  alpha = 10  \\\n",
       "AGE        -10.012198     -1.306575    -0.000000    0.000000    0.000000   \n",
       "SEX       -239.819089   -228.822331  -155.362882   -0.000000    0.000000   \n",
       "BMI        519.839787    525.560658   517.182017  367.701852    0.000000   \n",
       "BP         324.390428    316.175320   275.082351    6.301904    0.000000   \n",
       "S1        -792.184135   -307.013677   -52.540269    0.000000    0.000000   \n",
       "S2         476.745817     89.321688    -0.000000    0.000000    0.000000   \n",
       "S3         101.044558   -105.081398  -210.159753   -0.000000   -0.000000   \n",
       "S4         177.064173    119.597989     0.000000    0.000000    0.000000   \n",
       "S5         751.279311    571.330871   483.914409  307.605700    0.000000   \n",
       "S6          67.625386     65.007316    33.672821    0.000000    0.000000   \n",
       "INTERCEPT  152.133484    152.133484   152.133484  152.133484  152.133484   \n",
       "R2 Score     0.546075      0.549328     0.540887    0.399570   -0.002551   \n",
       "\n",
       "           alpha = 100  \n",
       "AGE           0.000000  \n",
       "SEX           0.000000  \n",
       "BMI           0.000000  \n",
       "BP            0.000000  \n",
       "S1            0.000000  \n",
       "S2            0.000000  \n",
       "S3           -0.000000  \n",
       "S4            0.000000  \n",
       "S5            0.000000  \n",
       "S6            0.000000  \n",
       "INTERCEPT   152.133484  \n",
       "R2 Score     -0.002551  "
      ]
     },
     "execution_count": 10,
     "metadata": {},
     "output_type": "execute_result"
    }
   ],
   "source": [
    "alpha_list = [0, 0.01, 0.1, 1, 10, 100]\n",
    "df = pd.DataFrame()\n",
    "\n",
    "for alpha in alpha_list:\n",
    "    lasso = lm.Lasso(alpha=alpha)\n",
    "    reg = lasso.fit(diab.data, diab.target)\n",
    "    y_pred = reg.predict(X_test)\n",
    "    r2 = mt.r2_score(y_test, y_pred)\n",
    "    cf = pd.Series(data=np.hstack([reg.coef_,\n",
    "                                   reg.intercept_,r2]),  # 붙이기 위해서\n",
    "                   index=[s.upper() for s in diab.feature_names]+['INTERCEPT','R2 Score'])\n",
    "    colname='alpha = ' + str(alpha)\n",
    "    df[colname]=cf\n",
    "df"
   ]
  },
  {
   "cell_type": "code",
   "execution_count": 11,
   "metadata": {
    "ExecuteTime": {
     "end_time": "2019-07-22T02:21:58.106423Z",
     "start_time": "2019-07-22T02:21:57.992786Z"
    }
   },
   "outputs": [
    {
     "data": {
      "image/png": "[encoded data removed]",
      "text/plain": [
       "<Figure size 432x288 with 1 Axes>"
      ]
     },
     "metadata": {
      "needs_background": "light"
     },
     "output_type": "display_data"
    }
   ],
   "source": [
    "df.loc['R2 Score'].plot(kind='barh',color='red',alpha=0.3)\n",
    "plt.show()"
   ]
  },
  {
   "cell_type": "markdown",
   "metadata": {},
   "source": [
    "## 엘라스틱넷 회귀 (Elastic Net Regression)\n",
    "- L1 규제와 L2 규제를 혼합한 회귀를 엘라스틱넷 회귀\n",
    "\n",
    "<center>$ cost = min(RSS(w)$ <span style=\"color:red\"> $ +r \\alpha × \\sum |w_i| + (1-r) \\alpha × \\frac{1}{2}\\sum {w_i}^2 $</span>$)$</center>\n",
    "\n",
    "- α는규제 매개변수이고 r 은 혼합 비율\n",
    "- 두 종류의 규제를 혼합하여 릿지 회귀와 라쏘 회귀의 절충형태를 학습 모형으로 도출가능\n",
    "- r이 0이라면 L2 규제와 동일하므로 릿지 회귀\n",
    "- r이 1이라면 L1 규제와 동일하므로 라쏘 회귀"
   ]
  },
  {
   "cell_type": "markdown",
   "metadata": {},
   "source": [
    "### 사이킷런으로 엘라스틱넷 회귀 수행\n",
    "\n",
    "#### linear_model 모듈에 있는 ElasticNet을 이용하여 엘라스틱넷 회귀를 수행\n",
    "```python\n",
    "import sklearn.linear_model as lm\n",
    "elastic = lm.ElasticNet(alpha=0.01, l1_ratio = 0.5)\n",
    "reg = elastic.fit(X_train,y_train)\n",
    "```"
   ]
  },
  {
   "cell_type": "markdown",
   "metadata": {},
   "source": [
    "#### 당뇨병 진단 데이터에 대해 alpha를 0.01로, l1_ratio를 0.5로 설정"
   ]
  },
  {
   "cell_type": "code",
   "execution_count": 12,
   "metadata": {
    "ExecuteTime": {
     "end_time": "2019-07-22T02:21:58.118166Z",
     "start_time": "2019-07-22T02:21:58.108555Z"
    }
   },
   "outputs": [
    {
     "name": "stdout",
     "output_type": "stream",
     "text": [
      "0.3829462987474108\n",
      "[  41.46671684  -15.59490348  188.29056827  166.14589697   17.33566906\n",
      "   -6.64488857 -113.20413249   88.28785247  193.03488657   97.61188591]\n",
      "153.29024895016366\n"
     ]
    },
    {
     "data": {
      "text/plain": [
       "age     41.467\n",
       "sex    -15.595\n",
       "bmi    188.291\n",
       "bp     166.146\n",
       "s1      17.336\n",
       "s2      -6.645\n",
       "s3    -113.204\n",
       "s4      88.288\n",
       "s5     193.035\n",
       "s6      97.612\n",
       "dtype: float64"
      ]
     },
     "execution_count": 12,
     "metadata": {},
     "output_type": "execute_result"
    }
   ],
   "source": [
    "elastic = lm.ElasticNet(alpha=0.01, l1_ratio = 0.5)\n",
    "reg = elastic.fit(X_train,y_train)\n",
    "\n",
    "y_pred = reg.predict(X_test)\n",
    "\n",
    "print(mt.r2_score(y_test, y_pred))\n",
    "print(reg.coef_)\n",
    "print(reg.intercept_)\n",
    "\n",
    "cf = pd.Series(data=np.round(reg.coef_, 3),\n",
    "               index=diab.feature_names)\n",
    "cf"
   ]
  },
  {
   "cell_type": "markdown",
   "metadata": {},
   "source": [
    "#### 당뇨병 진단 데이터에 대해 l1_ratio 값은 0.5로 고정하고 alpha를 변경하면서 수행한 결과"
   ]
  },
  {
   "cell_type": "code",
   "execution_count": 13,
   "metadata": {
    "ExecuteTime": {
     "end_time": "2019-07-22T02:21:58.269440Z",
     "start_time": "2019-07-22T02:21:58.119885Z"
    }
   },
   "outputs": [
    {
     "data": {
      "image/png": "[encoded data removed]",
      "text/plain": [
       "<Figure size 432x288 with 1 Axes>"
      ]
     },
     "metadata": {
      "needs_background": "light"
     },
     "output_type": "display_data"
    }
   ],
   "source": [
    "plt.scatter(y_test,y_pred,color='red')\n",
    "plt.title('Comparison')\n",
    "plt.xlabel('Actual Progression')\n",
    "plt.ylabel('Predicted Progression')\n",
    "plt.show()"
   ]
  },
  {
   "cell_type": "code",
   "execution_count": 14,
   "metadata": {
    "ExecuteTime": {
     "end_time": "2019-07-22T02:21:58.298742Z",
     "start_time": "2019-07-22T02:21:58.271341Z"
    }
   },
   "outputs": [
    {
     "name": "stderr",
     "output_type": "stream",
     "text": [
      "/anaconda3/lib/python3.6/site-packages/ipykernel_launcher.py:6: UserWarning: With alpha=0, this algorithm does not converge well. You are advised to use the LinearRegression estimator\n",
      "  \n",
      "/anaconda3/lib/python3.6/site-packages/sklearn/linear_model/coordinate_descent.py:478: UserWarning: Coordinate descent with no regularization may lead to unexpected results and is discouraged.\n",
      "  positive)\n",
      "/anaconda3/lib/python3.6/site-packages/sklearn/linear_model/coordinate_descent.py:492: ConvergenceWarning: Objective did not converge. You might want to increase the number of iterations. Fitting data with very small alpha may cause precision problems.\n",
      "  ConvergenceWarning)\n"
     ]
    },
    {
     "data": {
      "text/html": [
       "<div>\n",
       "<style scoped>\n",
       "    .dataframe tbody tr th:only-of-type {\n",
       "        vertical-align: middle;\n",
       "    }\n",
       "\n",
       "    .dataframe tbody tr th {\n",
       "        vertical-align: top;\n",
       "    }\n",
       "\n",
       "    .dataframe thead th {\n",
       "        text-align: right;\n",
       "    }\n",
       "</style>\n",
       "<table border=\"1\" class=\"dataframe\">\n",
       "  <thead>\n",
       "    <tr style=\"text-align: right;\">\n",
       "      <th></th>\n",
       "      <th>alpha = 0</th>\n",
       "      <th>alpha = 0.01</th>\n",
       "      <th>alpha = 0.1</th>\n",
       "      <th>alpha = 1</th>\n",
       "      <th>alpha = 10</th>\n",
       "      <th>alpha = 100</th>\n",
       "    </tr>\n",
       "  </thead>\n",
       "  <tbody>\n",
       "    <tr>\n",
       "      <th>AGE</th>\n",
       "      <td>-40.650538</td>\n",
       "      <td>41.466717</td>\n",
       "      <td>12.797207</td>\n",
       "      <td>0.657362</td>\n",
       "      <td>0.000000</td>\n",
       "      <td>0.000000</td>\n",
       "    </tr>\n",
       "    <tr>\n",
       "      <th>SEX</th>\n",
       "      <td>-188.833784</td>\n",
       "      <td>-15.594903</td>\n",
       "      <td>3.729958</td>\n",
       "      <td>0.000000</td>\n",
       "      <td>0.000000</td>\n",
       "      <td>0.000000</td>\n",
       "    </tr>\n",
       "    <tr>\n",
       "      <th>BMI</th>\n",
       "      <td>446.193843</td>\n",
       "      <td>188.290568</td>\n",
       "      <td>34.105474</td>\n",
       "      <td>2.909372</td>\n",
       "      <td>0.000000</td>\n",
       "      <td>0.000000</td>\n",
       "    </tr>\n",
       "    <tr>\n",
       "      <th>BP</th>\n",
       "      <td>376.688555</td>\n",
       "      <td>166.145897</td>\n",
       "      <td>31.544251</td>\n",
       "      <td>2.651373</td>\n",
       "      <td>0.000000</td>\n",
       "      <td>0.000000</td>\n",
       "    </tr>\n",
       "    <tr>\n",
       "      <th>S1</th>\n",
       "      <td>-1088.036363</td>\n",
       "      <td>17.335669</td>\n",
       "      <td>10.235911</td>\n",
       "      <td>0.441368</td>\n",
       "      <td>0.000000</td>\n",
       "      <td>0.000000</td>\n",
       "    </tr>\n",
       "    <tr>\n",
       "      <th>S2</th>\n",
       "      <td>762.812001</td>\n",
       "      <td>-6.644889</td>\n",
       "      <td>7.023637</td>\n",
       "      <td>0.117559</td>\n",
       "      <td>0.000000</td>\n",
       "      <td>0.000000</td>\n",
       "    </tr>\n",
       "    <tr>\n",
       "      <th>S3</th>\n",
       "      <td>181.587593</td>\n",
       "      <td>-113.204132</td>\n",
       "      <td>-24.179772</td>\n",
       "      <td>-1.882600</td>\n",
       "      <td>-0.000000</td>\n",
       "      <td>-0.000000</td>\n",
       "    </tr>\n",
       "    <tr>\n",
       "      <th>S4</th>\n",
       "      <td>35.485976</td>\n",
       "      <td>88.287852</td>\n",
       "      <td>24.123522</td>\n",
       "      <td>1.985085</td>\n",
       "      <td>0.000000</td>\n",
       "      <td>0.000000</td>\n",
       "    </tr>\n",
       "    <tr>\n",
       "      <th>S5</th>\n",
       "      <td>1003.980125</td>\n",
       "      <td>193.034887</td>\n",
       "      <td>36.037684</td>\n",
       "      <td>3.166517</td>\n",
       "      <td>0.000000</td>\n",
       "      <td>0.000000</td>\n",
       "    </tr>\n",
       "    <tr>\n",
       "      <th>S6</th>\n",
       "      <td>52.820141</td>\n",
       "      <td>97.611886</td>\n",
       "      <td>23.603872</td>\n",
       "      <td>1.862494</td>\n",
       "      <td>0.000000</td>\n",
       "      <td>0.000000</td>\n",
       "    </tr>\n",
       "    <tr>\n",
       "      <th>INTERCEPT</th>\n",
       "      <td>153.506281</td>\n",
       "      <td>153.290249</td>\n",
       "      <td>153.642166</td>\n",
       "      <td>153.764372</td>\n",
       "      <td>153.773463</td>\n",
       "      <td>153.773463</td>\n",
       "    </tr>\n",
       "    <tr>\n",
       "      <th>R2 Score</th>\n",
       "      <td>0.501515</td>\n",
       "      <td>0.382946</td>\n",
       "      <td>0.099691</td>\n",
       "      <td>0.003850</td>\n",
       "      <td>-0.005219</td>\n",
       "      <td>-0.005219</td>\n",
       "    </tr>\n",
       "  </tbody>\n",
       "</table>\n",
       "</div>"
      ],
      "text/plain": [
       "             alpha = 0  alpha = 0.01  alpha = 0.1   alpha = 1  alpha = 10  \\\n",
       "AGE         -40.650538     41.466717    12.797207    0.657362    0.000000   \n",
       "SEX        -188.833784    -15.594903     3.729958    0.000000    0.000000   \n",
       "BMI         446.193843    188.290568    34.105474    2.909372    0.000000   \n",
       "BP          376.688555    166.145897    31.544251    2.651373    0.000000   \n",
       "S1        -1088.036363     17.335669    10.235911    0.441368    0.000000   \n",
       "S2          762.812001     -6.644889     7.023637    0.117559    0.000000   \n",
       "S3          181.587593   -113.204132   -24.179772   -1.882600   -0.000000   \n",
       "S4           35.485976     88.287852    24.123522    1.985085    0.000000   \n",
       "S5         1003.980125    193.034887    36.037684    3.166517    0.000000   \n",
       "S6           52.820141     97.611886    23.603872    1.862494    0.000000   \n",
       "INTERCEPT   153.506281    153.290249   153.642166  153.764372  153.773463   \n",
       "R2 Score      0.501515      0.382946     0.099691    0.003850   -0.005219   \n",
       "\n",
       "           alpha = 100  \n",
       "AGE           0.000000  \n",
       "SEX           0.000000  \n",
       "BMI           0.000000  \n",
       "BP            0.000000  \n",
       "S1            0.000000  \n",
       "S2            0.000000  \n",
       "S3           -0.000000  \n",
       "S4            0.000000  \n",
       "S5            0.000000  \n",
       "S6            0.000000  \n",
       "INTERCEPT   153.773463  \n",
       "R2 Score     -0.005219  "
      ]
     },
     "execution_count": 14,
     "metadata": {},
     "output_type": "execute_result"
    }
   ],
   "source": [
    "alpha_list = [0, 0.01, 0.1, 1, 10, 100]\n",
    "df = pd.DataFrame()\n",
    "\n",
    "for alpha in alpha_list:\n",
    "    elastic = lm.ElasticNet(alpha=alpha, l1_ratio = 0.5)\n",
    "    reg = elastic.fit(X_train,y_train)\n",
    "    y_pred = reg.predict(X_test)\n",
    "    r2 = mt.r2_score(y_test, y_pred)\n",
    "    cf = pd.Series(data=np.hstack([reg.coef_,\n",
    "                                   reg.intercept_,r2]),  # 붙이기 위해서\n",
    "                   index=[s.upper() for s in diab.feature_names]+['INTERCEPT','R2 Score'])\n",
    "    colname='alpha = ' + str(alpha)\n",
    "    df[colname]=cf\n",
    "df"
   ]
  },
  {
   "cell_type": "code",
   "execution_count": 15,
   "metadata": {
    "ExecuteTime": {
     "end_time": "2019-07-22T02:21:58.405051Z",
     "start_time": "2019-07-22T02:21:58.300477Z"
    }
   },
   "outputs": [
    {
     "data": {
      "image/png": "[encoded data removed]",
      "text/plain": [
       "<Figure size 432x288 with 1 Axes>"
      ]
     },
     "metadata": {
      "needs_background": "light"
     },
     "output_type": "display_data"
    }
   ],
   "source": [
    "df.loc['R2 Score'].plot(kind='barh',color='red',alpha=0.3)\n",
    "plt.show()"
   ]
  },
  {
   "cell_type": "markdown",
   "metadata": {},
   "source": [
    "#### 당뇨병 진단 데이터에 대해 alpha 값은 0.01로 고정하고 l1_ratio를 변경하면서 수행한 결과"
   ]
  },
  {
   "cell_type": "code",
   "execution_count": 16,
   "metadata": {
    "ExecuteTime": {
     "end_time": "2019-07-22T02:21:58.440962Z",
     "start_time": "2019-07-22T02:21:58.406899Z"
    }
   },
   "outputs": [
    {
     "name": "stderr",
     "output_type": "stream",
     "text": [
      "/anaconda3/lib/python3.6/site-packages/sklearn/linear_model/coordinate_descent.py:492: ConvergenceWarning: Objective did not converge. You might want to increase the number of iterations. Fitting data with very small alpha may cause precision problems.\n",
      "  ConvergenceWarning)\n"
     ]
    },
    {
     "data": {
      "text/html": [
       "<div>\n",
       "<style scoped>\n",
       "    .dataframe tbody tr th:only-of-type {\n",
       "        vertical-align: middle;\n",
       "    }\n",
       "\n",
       "    .dataframe tbody tr th {\n",
       "        vertical-align: top;\n",
       "    }\n",
       "\n",
       "    .dataframe thead th {\n",
       "        text-align: right;\n",
       "    }\n",
       "</style>\n",
       "<table border=\"1\" class=\"dataframe\">\n",
       "  <thead>\n",
       "    <tr style=\"text-align: right;\">\n",
       "      <th></th>\n",
       "      <th>l1_ratio = 0</th>\n",
       "      <th>l1_ratio = 0.125</th>\n",
       "      <th>l1_ratio = 0.25</th>\n",
       "      <th>l1_ratio = 0.375</th>\n",
       "      <th>l1_ratio = 0.5</th>\n",
       "      <th>l1_ratio = 0.625</th>\n",
       "      <th>l1_ratio = 0.75</th>\n",
       "      <th>l1_ratio = 0.875</th>\n",
       "      <th>l1_ratio = 1</th>\n",
       "    </tr>\n",
       "  </thead>\n",
       "  <tbody>\n",
       "    <tr>\n",
       "      <th>AGE</th>\n",
       "      <td>36.622103</td>\n",
       "      <td>38.150060</td>\n",
       "      <td>39.617718</td>\n",
       "      <td>40.829349</td>\n",
       "      <td>41.466717</td>\n",
       "      <td>40.699513</td>\n",
       "      <td>36.490697</td>\n",
       "      <td>22.246260</td>\n",
       "      <td>-27.912894</td>\n",
       "    </tr>\n",
       "    <tr>\n",
       "      <th>SEX</th>\n",
       "      <td>0.741200</td>\n",
       "      <td>-1.294863</td>\n",
       "      <td>-4.261657</td>\n",
       "      <td>-8.709764</td>\n",
       "      <td>-15.594903</td>\n",
       "      <td>-26.836615</td>\n",
       "      <td>-46.589847</td>\n",
       "      <td>-85.031303</td>\n",
       "      <td>-177.585296</td>\n",
       "    </tr>\n",
       "    <tr>\n",
       "      <th>BMI</th>\n",
       "      <td>124.503060</td>\n",
       "      <td>135.754640</td>\n",
       "      <td>149.422328</td>\n",
       "      <td>166.408902</td>\n",
       "      <td>188.290568</td>\n",
       "      <td>217.749902</td>\n",
       "      <td>260.197659</td>\n",
       "      <td>328.435008</td>\n",
       "      <td>451.929617</td>\n",
       "    </tr>\n",
       "    <tr>\n",
       "      <th>BP</th>\n",
       "      <td>112.359547</td>\n",
       "      <td>122.042127</td>\n",
       "      <td>133.688944</td>\n",
       "      <td>148.005329</td>\n",
       "      <td>166.145897</td>\n",
       "      <td>190.063329</td>\n",
       "      <td>223.526346</td>\n",
       "      <td>274.895846</td>\n",
       "      <td>367.985068</td>\n",
       "    </tr>\n",
       "    <tr>\n",
       "      <th>S1</th>\n",
       "      <td>22.506131</td>\n",
       "      <td>22.313625</td>\n",
       "      <td>21.678276</td>\n",
       "      <td>20.107946</td>\n",
       "      <td>17.335669</td>\n",
       "      <td>12.191012</td>\n",
       "      <td>2.269478</td>\n",
       "      <td>-11.831587</td>\n",
       "      <td>-643.629750</td>\n",
       "    </tr>\n",
       "    <tr>\n",
       "      <th>S2</th>\n",
       "      <td>7.700377</td>\n",
       "      <td>5.699898</td>\n",
       "      <td>2.775959</td>\n",
       "      <td>-0.616507</td>\n",
       "      <td>-6.644889</td>\n",
       "      <td>-16.154407</td>\n",
       "      <td>-31.654076</td>\n",
       "      <td>-60.230865</td>\n",
       "      <td>400.500062</td>\n",
       "    </tr>\n",
       "    <tr>\n",
       "      <th>S3</th>\n",
       "      <td>-81.124598</td>\n",
       "      <td>-87.249859</td>\n",
       "      <td>-94.419505</td>\n",
       "      <td>-102.916772</td>\n",
       "      <td>-113.204132</td>\n",
       "      <td>-125.925064</td>\n",
       "      <td>-142.109569</td>\n",
       "      <td>-165.449295</td>\n",
       "      <td>-0.000000</td>\n",
       "    </tr>\n",
       "    <tr>\n",
       "      <th>S4</th>\n",
       "      <td>70.939850</td>\n",
       "      <td>74.899202</td>\n",
       "      <td>79.198354</td>\n",
       "      <td>83.670140</td>\n",
       "      <td>88.287852</td>\n",
       "      <td>92.439640</td>\n",
       "      <td>94.386371</td>\n",
       "      <td>85.312268</td>\n",
       "      <td>0.000000</td>\n",
       "    </tr>\n",
       "    <tr>\n",
       "      <th>S5</th>\n",
       "      <td>128.278099</td>\n",
       "      <td>139.628521</td>\n",
       "      <td>153.429857</td>\n",
       "      <td>170.660192</td>\n",
       "      <td>193.034887</td>\n",
       "      <td>223.737434</td>\n",
       "      <td>269.864816</td>\n",
       "      <td>350.911247</td>\n",
       "      <td>825.932724</td>\n",
       "    </tr>\n",
       "    <tr>\n",
       "      <th>S6</th>\n",
       "      <td>74.481579</td>\n",
       "      <td>79.337965</td>\n",
       "      <td>84.797586</td>\n",
       "      <td>90.884169</td>\n",
       "      <td>97.611886</td>\n",
       "      <td>104.643369</td>\n",
       "      <td>110.574664</td>\n",
       "      <td>108.669663</td>\n",
       "      <td>50.190671</td>\n",
       "    </tr>\n",
       "    <tr>\n",
       "      <th>INTERCEPT</th>\n",
       "      <td>153.384593</td>\n",
       "      <td>153.363414</td>\n",
       "      <td>153.340499</td>\n",
       "      <td>153.315566</td>\n",
       "      <td>153.290249</td>\n",
       "      <td>153.266490</td>\n",
       "      <td>153.250417</td>\n",
       "      <td>153.259320</td>\n",
       "      <td>153.436904</td>\n",
       "    </tr>\n",
       "    <tr>\n",
       "      <th>R2 Score</th>\n",
       "      <td>0.295534</td>\n",
       "      <td>0.313292</td>\n",
       "      <td>0.333393</td>\n",
       "      <td>0.356369</td>\n",
       "      <td>0.382946</td>\n",
       "      <td>0.414121</td>\n",
       "      <td>0.451136</td>\n",
       "      <td>0.493928</td>\n",
       "      <td>0.508852</td>\n",
       "    </tr>\n",
       "  </tbody>\n",
       "</table>\n",
       "</div>"
      ],
      "text/plain": [
       "           l1_ratio = 0  l1_ratio = 0.125  l1_ratio = 0.25  l1_ratio = 0.375  \\\n",
       "AGE           36.622103         38.150060        39.617718         40.829349   \n",
       "SEX            0.741200         -1.294863        -4.261657         -8.709764   \n",
       "BMI          124.503060        135.754640       149.422328        166.408902   \n",
       "BP           112.359547        122.042127       133.688944        148.005329   \n",
       "S1            22.506131         22.313625        21.678276         20.107946   \n",
       "S2             7.700377          5.699898         2.775959         -0.616507   \n",
       "S3           -81.124598        -87.249859       -94.419505       -102.916772   \n",
       "S4            70.939850         74.899202        79.198354         83.670140   \n",
       "S5           128.278099        139.628521       153.429857        170.660192   \n",
       "S6            74.481579         79.337965        84.797586         90.884169   \n",
       "INTERCEPT    153.384593        153.363414       153.340499        153.315566   \n",
       "R2 Score       0.295534          0.313292         0.333393          0.356369   \n",
       "\n",
       "           l1_ratio = 0.5  l1_ratio = 0.625  l1_ratio = 0.75  \\\n",
       "AGE             41.466717         40.699513        36.490697   \n",
       "SEX            -15.594903        -26.836615       -46.589847   \n",
       "BMI            188.290568        217.749902       260.197659   \n",
       "BP             166.145897        190.063329       223.526346   \n",
       "S1              17.335669         12.191012         2.269478   \n",
       "S2              -6.644889        -16.154407       -31.654076   \n",
       "S3            -113.204132       -125.925064      -142.109569   \n",
       "S4              88.287852         92.439640        94.386371   \n",
       "S5             193.034887        223.737434       269.864816   \n",
       "S6              97.611886        104.643369       110.574664   \n",
       "INTERCEPT      153.290249        153.266490       153.250417   \n",
       "R2 Score         0.382946          0.414121         0.451136   \n",
       "\n",
       "           l1_ratio = 0.875  l1_ratio = 1  \n",
       "AGE               22.246260    -27.912894  \n",
       "SEX              -85.031303   -177.585296  \n",
       "BMI              328.435008    451.929617  \n",
       "BP               274.895846    367.985068  \n",
       "S1               -11.831587   -643.629750  \n",
       "S2               -60.230865    400.500062  \n",
       "S3              -165.449295     -0.000000  \n",
       "S4                85.312268      0.000000  \n",
       "S5               350.911247    825.932724  \n",
       "S6               108.669663     50.190671  \n",
       "INTERCEPT        153.259320    153.436904  \n",
       "R2 Score           0.493928      0.508852  "
      ]
     },
     "execution_count": 16,
     "metadata": {},
     "output_type": "execute_result"
    }
   ],
   "source": [
    "l1_ratio_list = [0,0.125, 0.25,0.375, 0.5,0.625, 0.75,0.875 ,1]\n",
    "df = pd.DataFrame()\n",
    "\n",
    "for l1_ratio in l1_ratio_list:\n",
    "    elastic = lm.ElasticNet(alpha=0.01, l1_ratio = l1_ratio)\n",
    "    reg = elastic.fit(X_train,y_train)\n",
    "    y_pred = reg.predict(X_test)\n",
    "    r2 = mt.r2_score(y_test, y_pred)\n",
    "    cf = pd.Series(data=np.hstack([reg.coef_,\n",
    "                                   reg.intercept_,r2]),  # 붙이기 위해서\n",
    "                   index=[s.upper() for s in diab.feature_names]+['INTERCEPT','R2 Score'])\n",
    "    colname='l1_ratio = ' + str(l1_ratio)\n",
    "    df[colname]=cf\n",
    "df"
   ]
  },
  {
   "cell_type": "code",
   "execution_count": 17,
   "metadata": {
    "ExecuteTime": {
     "end_time": "2019-07-22T02:21:58.557447Z",
     "start_time": "2019-07-22T02:21:58.442709Z"
    }
   },
   "outputs": [
    {
     "data": {
      "image/png": "[encoded data removed]",
      "text/plain": [
       "<Figure size 432x288 with 1 Axes>"
      ]
     },
     "metadata": {
      "needs_background": "light"
     },
     "output_type": "display_data"
    }
   ],
   "source": [
    "df.loc['R2 Score'].plot(kind='barh',color='red',alpha=0.3)\n",
    "plt.show()"
   ]
  },
  {
   "cell_type": "markdown",
   "metadata": {},
   "source": [
    "## 회귀 모형의 선택\n",
    "- 기본적인 선형 회귀, 릿지, 라쏘, 엘라스틱넷 중 어떤 것이 가장 좋은 모형을 도출하는지는 상황에 따라 달라진\n",
    "- 각 기법 별로 매개변수들을 변경해 가면서 학습하여 최적의 성능 지표를 나타내는 모형을 선택\n",
    "- 다만, 다음과 같은 가이드를 참고하면 도움이 될 수 있음\n",
    "    - 규제가 없는 기본 선형 회귀를 수행하면서 과대적합이 확실시 되면 릿지 회귀로 전환\n",
    "    - 전체 특성들 중 일부만 의미가 있다고 유추할 수 있거나 관찰되었다면 라쏘 또는 엘라스틱넷 회귀를 시도\n",
    "    - 특성들 간의 관련성이 높으면 (즉, 상관 계수가 높으면) 엘라스틱넷 회귀를 적용하는 것이 바람직"
   ]
  }
 ],
 "metadata": {
  "kernelspec": {
   "display_name": "Python 3",
   "language": "python",
   "name": "python3"
  },
  "language_info": {
   "codemirror_mode": {
    "name": "ipython",
    "version": 3
   },
   "file_extension": ".py",
   "mimetype": "text/x-python",
   "name": "python",
   "nbconvert_exporter": "python",
   "pygments_lexer": "ipython3",
   "version": "3.6.8"
  },
  "toc": {
   "base_numbering": 1,
   "nav_menu": {},
   "number_sections": true,
   "sideBar": true,
   "skip_h1_title": true,
   "title_cell": "Table of Contents",
   "title_sidebar": "Contents",
   "toc_cell": false,
   "toc_position": {},
   "toc_section_display": true,
   "toc_window_display": false
  }
 },
 "nbformat": 4,
 "nbformat_minor": 2
}
