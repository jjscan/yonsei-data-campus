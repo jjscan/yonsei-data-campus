{
 "cells": [
  {
   "cell_type": "markdown",
   "metadata": {},
   "source": [
    "# 4장 경사하강법\n",
    "\n",
    "## 경사 하강법 (GD; Gradient Descent)\n",
    "- 주어진 문제의 비용 함수의 결과 값을 최소화 하도록 반복하여 매개변수를 조정해 가는 최적화(optimization) 기법 중 하나\n",
    "- “늦은 밤에 산 속에서 길을 잃었을 때 가장 좋은 방법은 매 위치에서 가장 가파른 경사를 따라서 아래로 내려가는 것\n",
    "- 변수 θ에 대해서 비용 함수의 현재 경사(gradient)를 계산하여 비용 함수의 값이 감소되는 방향으로 진행 \n",
    "- 결과적으로 경사가 0이 되면 비용 함수의 값은 최소값에 수렴\n",
    "![](../img/gradient-descent.png)\n",
    "\n",
    "- 학습 스텝은 매 계산마다 적용되는 이동 거리에 해당하며, **학습률(learning rate)**이라고 한다\n",
    "    - 이 학습률이 너무 작은 경우에는 결과 값이 최소값에 수렴하기까지 계산 반복이 많이 발생\n",
    "    ![](../img/gradient-descent2.png)\n",
    "    - 반대로, 학습률이 너무 큰 경우에는 아예 반대쪽으로 건너 뛰어서 잘못된 곳으로 가게 될 수도\n",
    "    ![](../img/gradient-descent3.png)\n",
    "- 경사 하강법은 전역 최적값(global optimum)을 찾지 못하고 지역 최적값(local optimum)을 구하게 될 수도 있다는 문제 있음\n",
    "![](../img/gradient-descent4.png)\n",
    "\n",
    "### 경사 하강법의 구현 예"
   ]
  },
  {
   "cell_type": "code",
   "execution_count": 21,
   "metadata": {
    "ExecuteTime": {
     "end_time": "2019-07-16T07:39:23.280460Z",
     "start_time": "2019-07-16T07:39:22.783952Z"
    }
   },
   "outputs": [
    {
     "data": {
      "image/png": "[encoded data removed]",
      "text/plain": [
       "<Figure size 432x288 with 1 Axes>"
      ]
     },
     "metadata": {
      "needs_background": "light"
     },
     "output_type": "display_data"
    },
    {
     "name": "stdout",
     "output_type": "stream",
     "text": [
      "Local Minimum :  2.250048101595436\n"
     ]
    },
    {
     "data": {
      "image/png": "[encoded data removed]",
      "text/plain": [
       "<Figure size 432x288 with 1 Axes>"
      ]
     },
     "metadata": {
      "needs_background": "light"
     },
     "output_type": "display_data"
    },
    {
     "name": "stdout",
     "output_type": "stream",
     "text": [
      "Local Minimum :  2.250008798891712\n"
     ]
    },
    {
     "data": {
      "image/png": "[encoded data removed]",
      "text/plain": [
       "<Figure size 432x288 with 1 Axes>"
      ]
     },
     "metadata": {
      "needs_background": "light"
     },
     "output_type": "display_data"
    },
    {
     "name": "stdout",
     "output_type": "stream",
     "text": [
      "Local Minimum :  2.25\n"
     ]
    },
    {
     "data": {
      "image/png": "[encoded data removed]",
      "text/plain": [
       "<Figure size 432x288 with 1 Axes>"
      ]
     },
     "metadata": {
      "needs_background": "light"
     },
     "output_type": "display_data"
    },
    {
     "name": "stdout",
     "output_type": "stream",
     "text": [
      "Local Minimum :  -0.0023546793550266306\n"
     ]
    }
   ],
   "source": [
    "import matplotlib.pyplot as plt\n",
    "\n",
    "def cost_function(x):\n",
    "    return 4*x**3 - 9*x**2\n",
    "\n",
    "precision = 0.000001\n",
    "\n",
    "for lr in [0.001,0.005,0.01,0.02]:\n",
    "    \n",
    "    x_list = list()\n",
    "    x_old = 0\n",
    "    x_new = 5\n",
    "    \n",
    "    while abs(x_new-x_old) > precision:\n",
    "        x_old = x_new\n",
    "        x_list.append(x_old)\n",
    "        x_new = x_old - lr * cost_function(x_old)\n",
    "        \n",
    "    y_list = list(map(cost_function,x_list))\n",
    "    plt.scatter(x_list,y_list)\n",
    "    plt.show()\n",
    "    print(\"Local Minimum : \",x_new)"
   ]
  },
  {
   "cell_type": "markdown",
   "metadata": {},
   "source": [
    "## 회귀 분석에서의 경사 하강법\n",
    "- 선형 회귀 분석에서의 비용 함수 RSS는 2차 함수이면서 볼록 함수(convex function)이므로, 별도의 지역 최소값이 없고 1개의 전역 최소값만 존재\n",
    "- 따라서 선형 회귀에서는 경사 하강법을 이용하여 RSS의 전역 최소값을 구할 수 있음\n",
    "\n",
    "## 경사 하강법의 유형\n",
    "경사 하강법은 배치 크기와 적용에 따라서 크게 3종류로 구분\n",
    "\n",
    "###  배치 경사 하강법 (batch gradient descent)\n",
    "- 경사를 1회 계산하기 위해서 전체 학습 데이터를 사용\n",
    "- 1개의 배치에 전체 학습 데이터가 모두 들어감\n",
    "- 가지고 있는 모든 리소스를 사용\n",
    "- 엄청 느림\n",
    "\n",
    "### 확률적 경사 하강법 (SGD; stochastic gradient descent)\n",
    "- 경사를 1회 계산하기 위해서 **1개의 학습 데이터**를 사용\n",
    "- 1개의 배치에 임의의 학습 데이터 1개만 들어감\n",
    "- 아무거나 무작위로 랜덤하게\n",
    "- 엄청 빠르긴 함\n",
    "\n",
    "### 미니배치 경사 하강법 (mini-batch gradient descent)\n",
    "- 경사를 1회 계산하기 위해서 일부 학습 데이터를 사용\n",
    "- 1개의 배치에 임의의 학습 데이터 여러 개가 들어감\n",
    "- 배치 경사 하강법과 확률적 경사 하강법 사이에 있는 방법\n",
    "- 데이터를 어느 정도 쪼개서\n",
    "\n",
    "![](../img/gradient-descent5.png)\n",
    "\n",
    "---\n",
    "\n",
    "## 배치 (Batch)\n",
    "- 1회의 경사 업데이트에 사용되는 데이터 집합\n",
    "- 이 때 사용되는 데이터 집합의 개수를 배치 크기\n",
    "- 가중치는 한번의 배치가 돌때마다 업데이트 되는 것\n",
    "- 예를 들어, 전체 데이터가 100개 있을 때 배치 크기가 20이면 1개의 배치마다 20개의 데이터가 있다. 배치는 총 5개가 있고, 경사는 5회 업데이트\n",
    "\n",
    "--- \n",
    " \n",
    "## 에폭 (Epoch)\n",
    "- 전체 데이터들을 한 번 사용한 횟수, 즉 학습의 반복 횟수\n",
    "- 예) 데이터 100개, 배치가 5개일 때 에폭이 1000이면 학습이 총 1000회 수행된다. 경사는 총 5000회 업데이트"
   ]
  }
 ],
 "metadata": {
  "kernelspec": {
   "display_name": "Python 3",
   "language": "python",
   "name": "python3"
  },
  "language_info": {
   "codemirror_mode": {
    "name": "ipython",
    "version": 3
   },
   "file_extension": ".py",
   "mimetype": "text/x-python",
   "name": "python",
   "nbconvert_exporter": "python",
   "pygments_lexer": "ipython3",
   "version": "3.6.8"
  },
  "toc": {
   "base_numbering": 1,
   "nav_menu": {},
   "number_sections": true,
   "sideBar": true,
   "skip_h1_title": true,
   "title_cell": "Table of Contents",
   "title_sidebar": "Contents",
   "toc_cell": false,
   "toc_position": {},
   "toc_section_display": true,
   "toc_window_display": true
  }
 },
 "nbformat": 4,
 "nbformat_minor": 2
}
