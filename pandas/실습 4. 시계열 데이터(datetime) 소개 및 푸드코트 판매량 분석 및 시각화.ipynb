{
 "cells": [
  {
   "cell_type": "code",
   "execution_count": 151,
   "metadata": {
    "ExecuteTime": {
     "end_time": "2019-07-19T07:38:41.633128Z",
     "start_time": "2019-07-19T07:38:41.628013Z"
    }
   },
   "outputs": [],
   "source": [
    "import pandas as pd\n",
    "from pandas import Series, DataFrame\n",
    "import numpy as np\n",
    "import matplotlib.pyplot as plt\n",
    "\n",
    "%matplotlib inline"
   ]
  },
  {
   "cell_type": "markdown",
   "metadata": {},
   "source": [
    "# 시계열 데이터\n",
    "\n",
    "## 시계열 데이터 소개 (datetime)"
   ]
  },
  {
   "cell_type": "code",
   "execution_count": 152,
   "metadata": {
    "ExecuteTime": {
     "end_time": "2019-07-19T07:38:41.954322Z",
     "start_time": "2019-07-19T07:38:41.951820Z"
    }
   },
   "outputs": [],
   "source": [
    "from datetime import datetime\n",
    "from datetime import timedelta"
   ]
  },
  {
   "cell_type": "code",
   "execution_count": 153,
   "metadata": {
    "ExecuteTime": {
     "end_time": "2019-07-19T07:38:42.137321Z",
     "start_time": "2019-07-19T07:38:42.133586Z"
    }
   },
   "outputs": [
    {
     "data": {
      "text/plain": [
       "datetime.datetime(2019, 7, 19, 16, 38, 42, 134425)"
      ]
     },
     "execution_count": 153,
     "metadata": {},
     "output_type": "execute_result"
    }
   ],
   "source": [
    "now = datetime.now()\n",
    "now"
   ]
  },
  {
   "cell_type": "markdown",
   "metadata": {},
   "source": [
    "<img src=\"img/예제실습/datetime.jpg\" alt=\"datetime\" style=\"width: 1200px;\"/>"
   ]
  },
  {
   "cell_type": "code",
   "execution_count": 154,
   "metadata": {
    "ExecuteTime": {
     "end_time": "2019-07-19T07:38:43.244480Z",
     "start_time": "2019-07-19T07:38:43.239799Z"
    }
   },
   "outputs": [
    {
     "data": {
      "text/plain": [
       "16"
      ]
     },
     "execution_count": 154,
     "metadata": {},
     "output_type": "execute_result"
    }
   ],
   "source": [
    "now.hour"
   ]
  },
  {
   "cell_type": "code",
   "execution_count": 155,
   "metadata": {
    "ExecuteTime": {
     "end_time": "2019-07-19T07:38:43.658989Z",
     "start_time": "2019-07-19T07:38:43.655230Z"
    }
   },
   "outputs": [
    {
     "data": {
      "text/plain": [
       "2019"
      ]
     },
     "execution_count": 155,
     "metadata": {},
     "output_type": "execute_result"
    }
   ],
   "source": [
    "now.year"
   ]
  },
  {
   "cell_type": "code",
   "execution_count": 156,
   "metadata": {
    "ExecuteTime": {
     "end_time": "2019-07-19T07:38:44.096916Z",
     "start_time": "2019-07-19T07:38:44.092359Z"
    }
   },
   "outputs": [
    {
     "data": {
      "text/plain": [
       "datetime.datetime(2019, 8, 16, 16, 38, 42, 134425)"
      ]
     },
     "execution_count": 156,
     "metadata": {},
     "output_type": "execute_result"
    }
   ],
   "source": [
    "# now 변수의 4주후 날짜 계산\n",
    "now + timedelta(weeks=4)"
   ]
  },
  {
   "cell_type": "code",
   "execution_count": 157,
   "metadata": {
    "ExecuteTime": {
     "end_time": "2019-07-19T07:38:44.789858Z",
     "start_time": "2019-07-19T07:38:44.785450Z"
    }
   },
   "outputs": [
    {
     "data": {
      "text/plain": [
       "datetime.datetime(2019, 10, 27, 16, 38, 42, 134425)"
      ]
     },
     "execution_count": 157,
     "metadata": {},
     "output_type": "execute_result"
    }
   ],
   "source": [
    "now + timedelta(days=100)"
   ]
  },
  {
   "cell_type": "code",
   "execution_count": 158,
   "metadata": {
    "ExecuteTime": {
     "end_time": "2019-07-19T07:38:45.457324Z",
     "start_time": "2019-07-19T07:38:45.452352Z"
    }
   },
   "outputs": [
    {
     "data": {
      "text/plain": [
       "datetime.datetime(2019, 7, 19, 22, 8, 42, 134425)"
      ]
     },
     "execution_count": 158,
     "metadata": {},
     "output_type": "execute_result"
    }
   ],
   "source": [
    "now + timedelta(hours=5,minutes=30)"
   ]
  },
  {
   "cell_type": "code",
   "execution_count": 159,
   "metadata": {
    "ExecuteTime": {
     "end_time": "2019-07-19T07:38:48.192392Z",
     "start_time": "2019-07-19T07:38:48.178926Z"
    }
   },
   "outputs": [
    {
     "data": {
      "text/html": [
       "<div>\n",
       "<style scoped>\n",
       "    .dataframe tbody tr th:only-of-type {\n",
       "        vertical-align: middle;\n",
       "    }\n",
       "\n",
       "    .dataframe tbody tr th {\n",
       "        vertical-align: top;\n",
       "    }\n",
       "\n",
       "    .dataframe thead th {\n",
       "        text-align: right;\n",
       "    }\n",
       "</style>\n",
       "<table border=\"1\" class=\"dataframe\">\n",
       "  <thead>\n",
       "    <tr style=\"text-align: right;\">\n",
       "      <th></th>\n",
       "      <th>date</th>\n",
       "      <th>count</th>\n",
       "    </tr>\n",
       "  </thead>\n",
       "  <tbody>\n",
       "    <tr>\n",
       "      <th>0</th>\n",
       "      <td>2019-07-01</td>\n",
       "      <td>469</td>\n",
       "    </tr>\n",
       "    <tr>\n",
       "      <th>1</th>\n",
       "      <td>2019-07-02</td>\n",
       "      <td>567</td>\n",
       "    </tr>\n",
       "    <tr>\n",
       "      <th>2</th>\n",
       "      <td>2019-07-03</td>\n",
       "      <td>998</td>\n",
       "    </tr>\n",
       "    <tr>\n",
       "      <th>3</th>\n",
       "      <td>2019-07-04</td>\n",
       "      <td>241</td>\n",
       "    </tr>\n",
       "    <tr>\n",
       "      <th>4</th>\n",
       "      <td>2019-07-05</td>\n",
       "      <td>386</td>\n",
       "    </tr>\n",
       "  </tbody>\n",
       "</table>\n",
       "</div>"
      ],
      "text/plain": [
       "        date  count\n",
       "0 2019-07-01    469\n",
       "1 2019-07-02    567\n",
       "2 2019-07-03    998\n",
       "3 2019-07-04    241\n",
       "4 2019-07-05    386"
      ]
     },
     "execution_count": 159,
     "metadata": {},
     "output_type": "execute_result"
    }
   ],
   "source": [
    "# 편리한 색인\n",
    "import random \n",
    "sample = DataFrame()\n",
    "sample['date'] = pd.date_range(start='20190701',periods=500)\n",
    "sample['count'] = random.sample(range(1,1000),500)\n",
    "sample.head()"
   ]
  },
  {
   "cell_type": "code",
   "execution_count": 160,
   "metadata": {
    "ExecuteTime": {
     "end_time": "2019-07-19T07:38:51.365617Z",
     "start_time": "2019-07-19T07:38:51.360544Z"
    }
   },
   "outputs": [
    {
     "data": {
      "text/plain": [
       "date     datetime64[ns]\n",
       "count             int64\n",
       "dtype: object"
      ]
     },
     "execution_count": 160,
     "metadata": {},
     "output_type": "execute_result"
    }
   ],
   "source": [
    "sample.dtypes"
   ]
  },
  {
   "cell_type": "code",
   "execution_count": 161,
   "metadata": {
    "ExecuteTime": {
     "end_time": "2019-07-19T07:38:52.376536Z",
     "start_time": "2019-07-19T07:38:52.365655Z"
    }
   },
   "outputs": [
    {
     "data": {
      "text/html": [
       "<div>\n",
       "<style scoped>\n",
       "    .dataframe tbody tr th:only-of-type {\n",
       "        vertical-align: middle;\n",
       "    }\n",
       "\n",
       "    .dataframe tbody tr th {\n",
       "        vertical-align: top;\n",
       "    }\n",
       "\n",
       "    .dataframe thead th {\n",
       "        text-align: right;\n",
       "    }\n",
       "</style>\n",
       "<table border=\"1\" class=\"dataframe\">\n",
       "  <thead>\n",
       "    <tr style=\"text-align: right;\">\n",
       "      <th></th>\n",
       "      <th>date</th>\n",
       "      <th>count</th>\n",
       "    </tr>\n",
       "  </thead>\n",
       "  <tbody>\n",
       "    <tr>\n",
       "      <th>31</th>\n",
       "      <td>2019-08-01</td>\n",
       "      <td>317</td>\n",
       "    </tr>\n",
       "    <tr>\n",
       "      <th>32</th>\n",
       "      <td>2019-08-02</td>\n",
       "      <td>693</td>\n",
       "    </tr>\n",
       "    <tr>\n",
       "      <th>33</th>\n",
       "      <td>2019-08-03</td>\n",
       "      <td>166</td>\n",
       "    </tr>\n",
       "    <tr>\n",
       "      <th>34</th>\n",
       "      <td>2019-08-04</td>\n",
       "      <td>363</td>\n",
       "    </tr>\n",
       "    <tr>\n",
       "      <th>35</th>\n",
       "      <td>2019-08-05</td>\n",
       "      <td>69</td>\n",
       "    </tr>\n",
       "  </tbody>\n",
       "</table>\n",
       "</div>"
      ],
      "text/plain": [
       "         date  count\n",
       "31 2019-08-01    317\n",
       "32 2019-08-02    693\n",
       "33 2019-08-03    166\n",
       "34 2019-08-04    363\n",
       "35 2019-08-05     69"
      ]
     },
     "execution_count": 161,
     "metadata": {},
     "output_type": "execute_result"
    }
   ],
   "source": [
    "# 2019년 8월 데이터만 선택\n",
    "# 첫번째 방법\n",
    "sample[sample['date'].isin(pd.date_range(start='2019-08-01',end='2019-08-31'))].head()"
   ]
  },
  {
   "cell_type": "code",
   "execution_count": 162,
   "metadata": {
    "ExecuteTime": {
     "end_time": "2019-07-19T07:38:53.058240Z",
     "start_time": "2019-07-19T07:38:53.054169Z"
    }
   },
   "outputs": [],
   "source": [
    "# 두번째 방법\n",
    "# date 컬럼을 row index로 변경한 후 색인\n",
    "sample.set_index('date',inplace=True)"
   ]
  },
  {
   "cell_type": "code",
   "execution_count": 163,
   "metadata": {
    "ExecuteTime": {
     "end_time": "2019-07-19T07:38:56.308737Z",
     "start_time": "2019-07-19T07:38:56.299090Z"
    }
   },
   "outputs": [
    {
     "data": {
      "text/html": [
       "<div>\n",
       "<style scoped>\n",
       "    .dataframe tbody tr th:only-of-type {\n",
       "        vertical-align: middle;\n",
       "    }\n",
       "\n",
       "    .dataframe tbody tr th {\n",
       "        vertical-align: top;\n",
       "    }\n",
       "\n",
       "    .dataframe thead th {\n",
       "        text-align: right;\n",
       "    }\n",
       "</style>\n",
       "<table border=\"1\" class=\"dataframe\">\n",
       "  <thead>\n",
       "    <tr style=\"text-align: right;\">\n",
       "      <th></th>\n",
       "      <th>count</th>\n",
       "    </tr>\n",
       "    <tr>\n",
       "      <th>date</th>\n",
       "      <th></th>\n",
       "    </tr>\n",
       "  </thead>\n",
       "  <tbody>\n",
       "    <tr>\n",
       "      <th>2019-08-01</th>\n",
       "      <td>317</td>\n",
       "    </tr>\n",
       "    <tr>\n",
       "      <th>2019-08-02</th>\n",
       "      <td>693</td>\n",
       "    </tr>\n",
       "    <tr>\n",
       "      <th>2019-08-03</th>\n",
       "      <td>166</td>\n",
       "    </tr>\n",
       "    <tr>\n",
       "      <th>2019-08-04</th>\n",
       "      <td>363</td>\n",
       "    </tr>\n",
       "    <tr>\n",
       "      <th>2019-08-05</th>\n",
       "      <td>69</td>\n",
       "    </tr>\n",
       "  </tbody>\n",
       "</table>\n",
       "</div>"
      ],
      "text/plain": [
       "            count\n",
       "date             \n",
       "2019-08-01    317\n",
       "2019-08-02    693\n",
       "2019-08-03    166\n",
       "2019-08-04    363\n",
       "2019-08-05     69"
      ]
     },
     "execution_count": 163,
     "metadata": {},
     "output_type": "execute_result"
    }
   ],
   "source": [
    "sample['2019-08'].head()"
   ]
  },
  {
   "cell_type": "code",
   "execution_count": 164,
   "metadata": {
    "ExecuteTime": {
     "end_time": "2019-07-19T07:38:57.631895Z",
     "start_time": "2019-07-19T07:38:57.624090Z"
    }
   },
   "outputs": [
    {
     "data": {
      "text/html": [
       "<div>\n",
       "<style scoped>\n",
       "    .dataframe tbody tr th:only-of-type {\n",
       "        vertical-align: middle;\n",
       "    }\n",
       "\n",
       "    .dataframe tbody tr th {\n",
       "        vertical-align: top;\n",
       "    }\n",
       "\n",
       "    .dataframe thead th {\n",
       "        text-align: right;\n",
       "    }\n",
       "</style>\n",
       "<table border=\"1\" class=\"dataframe\">\n",
       "  <thead>\n",
       "    <tr style=\"text-align: right;\">\n",
       "      <th></th>\n",
       "      <th>count</th>\n",
       "    </tr>\n",
       "    <tr>\n",
       "      <th>date</th>\n",
       "      <th></th>\n",
       "    </tr>\n",
       "  </thead>\n",
       "  <tbody>\n",
       "    <tr>\n",
       "      <th>2019-08-27</th>\n",
       "      <td>790</td>\n",
       "    </tr>\n",
       "    <tr>\n",
       "      <th>2019-08-28</th>\n",
       "      <td>888</td>\n",
       "    </tr>\n",
       "    <tr>\n",
       "      <th>2019-08-29</th>\n",
       "      <td>549</td>\n",
       "    </tr>\n",
       "    <tr>\n",
       "      <th>2019-08-30</th>\n",
       "      <td>307</td>\n",
       "    </tr>\n",
       "    <tr>\n",
       "      <th>2019-08-31</th>\n",
       "      <td>608</td>\n",
       "    </tr>\n",
       "  </tbody>\n",
       "</table>\n",
       "</div>"
      ],
      "text/plain": [
       "            count\n",
       "date             \n",
       "2019-08-27    790\n",
       "2019-08-28    888\n",
       "2019-08-29    549\n",
       "2019-08-30    307\n",
       "2019-08-31    608"
      ]
     },
     "execution_count": 164,
     "metadata": {},
     "output_type": "execute_result"
    }
   ],
   "source": [
    "sample['2019-08'].tail()"
   ]
  },
  {
   "cell_type": "code",
   "execution_count": 165,
   "metadata": {
    "ExecuteTime": {
     "end_time": "2019-07-19T07:38:58.765685Z",
     "start_time": "2019-07-19T07:38:58.757507Z"
    }
   },
   "outputs": [
    {
     "data": {
      "text/html": [
       "<div>\n",
       "<style scoped>\n",
       "    .dataframe tbody tr th:only-of-type {\n",
       "        vertical-align: middle;\n",
       "    }\n",
       "\n",
       "    .dataframe tbody tr th {\n",
       "        vertical-align: top;\n",
       "    }\n",
       "\n",
       "    .dataframe thead th {\n",
       "        text-align: right;\n",
       "    }\n",
       "</style>\n",
       "<table border=\"1\" class=\"dataframe\">\n",
       "  <thead>\n",
       "    <tr style=\"text-align: right;\">\n",
       "      <th></th>\n",
       "      <th>count</th>\n",
       "    </tr>\n",
       "    <tr>\n",
       "      <th>date</th>\n",
       "      <th></th>\n",
       "    </tr>\n",
       "  </thead>\n",
       "  <tbody>\n",
       "    <tr>\n",
       "      <th>2019-07-01</th>\n",
       "      <td>469</td>\n",
       "    </tr>\n",
       "    <tr>\n",
       "      <th>2019-07-02</th>\n",
       "      <td>567</td>\n",
       "    </tr>\n",
       "    <tr>\n",
       "      <th>2019-07-03</th>\n",
       "      <td>998</td>\n",
       "    </tr>\n",
       "    <tr>\n",
       "      <th>2019-07-04</th>\n",
       "      <td>241</td>\n",
       "    </tr>\n",
       "    <tr>\n",
       "      <th>2019-07-05</th>\n",
       "      <td>386</td>\n",
       "    </tr>\n",
       "  </tbody>\n",
       "</table>\n",
       "</div>"
      ],
      "text/plain": [
       "            count\n",
       "date             \n",
       "2019-07-01    469\n",
       "2019-07-02    567\n",
       "2019-07-03    998\n",
       "2019-07-04    241\n",
       "2019-07-05    386"
      ]
     },
     "execution_count": 165,
     "metadata": {},
     "output_type": "execute_result"
    }
   ],
   "source": [
    "sample['2019'].head()"
   ]
  },
  {
   "cell_type": "code",
   "execution_count": 166,
   "metadata": {
    "ExecuteTime": {
     "end_time": "2019-07-19T07:38:59.449170Z",
     "start_time": "2019-07-19T07:38:59.435485Z"
    }
   },
   "outputs": [
    {
     "data": {
      "text/html": [
       "<div>\n",
       "<style scoped>\n",
       "    .dataframe tbody tr th:only-of-type {\n",
       "        vertical-align: middle;\n",
       "    }\n",
       "\n",
       "    .dataframe tbody tr th {\n",
       "        vertical-align: top;\n",
       "    }\n",
       "\n",
       "    .dataframe thead th {\n",
       "        text-align: right;\n",
       "    }\n",
       "</style>\n",
       "<table border=\"1\" class=\"dataframe\">\n",
       "  <thead>\n",
       "    <tr style=\"text-align: right;\">\n",
       "      <th></th>\n",
       "      <th>count</th>\n",
       "    </tr>\n",
       "    <tr>\n",
       "      <th>date</th>\n",
       "      <th></th>\n",
       "    </tr>\n",
       "  </thead>\n",
       "  <tbody>\n",
       "    <tr>\n",
       "      <th>2019-08-01</th>\n",
       "      <td>317</td>\n",
       "    </tr>\n",
       "    <tr>\n",
       "      <th>2019-08-02</th>\n",
       "      <td>693</td>\n",
       "    </tr>\n",
       "    <tr>\n",
       "      <th>2019-08-03</th>\n",
       "      <td>166</td>\n",
       "    </tr>\n",
       "    <tr>\n",
       "      <th>2019-08-04</th>\n",
       "      <td>363</td>\n",
       "    </tr>\n",
       "    <tr>\n",
       "      <th>2019-08-05</th>\n",
       "      <td>69</td>\n",
       "    </tr>\n",
       "    <tr>\n",
       "      <th>2019-08-06</th>\n",
       "      <td>665</td>\n",
       "    </tr>\n",
       "    <tr>\n",
       "      <th>2019-08-07</th>\n",
       "      <td>547</td>\n",
       "    </tr>\n",
       "    <tr>\n",
       "      <th>2019-08-08</th>\n",
       "      <td>617</td>\n",
       "    </tr>\n",
       "    <tr>\n",
       "      <th>2019-08-09</th>\n",
       "      <td>840</td>\n",
       "    </tr>\n",
       "    <tr>\n",
       "      <th>2019-08-10</th>\n",
       "      <td>957</td>\n",
       "    </tr>\n",
       "    <tr>\n",
       "      <th>2019-08-11</th>\n",
       "      <td>747</td>\n",
       "    </tr>\n",
       "    <tr>\n",
       "      <th>2019-08-12</th>\n",
       "      <td>528</td>\n",
       "    </tr>\n",
       "    <tr>\n",
       "      <th>2019-08-13</th>\n",
       "      <td>383</td>\n",
       "    </tr>\n",
       "    <tr>\n",
       "      <th>2019-08-14</th>\n",
       "      <td>962</td>\n",
       "    </tr>\n",
       "    <tr>\n",
       "      <th>2019-08-15</th>\n",
       "      <td>942</td>\n",
       "    </tr>\n",
       "    <tr>\n",
       "      <th>2019-08-16</th>\n",
       "      <td>529</td>\n",
       "    </tr>\n",
       "    <tr>\n",
       "      <th>2019-08-17</th>\n",
       "      <td>153</td>\n",
       "    </tr>\n",
       "    <tr>\n",
       "      <th>2019-08-18</th>\n",
       "      <td>198</td>\n",
       "    </tr>\n",
       "    <tr>\n",
       "      <th>2019-08-19</th>\n",
       "      <td>598</td>\n",
       "    </tr>\n",
       "    <tr>\n",
       "      <th>2019-08-20</th>\n",
       "      <td>353</td>\n",
       "    </tr>\n",
       "    <tr>\n",
       "      <th>2019-08-21</th>\n",
       "      <td>303</td>\n",
       "    </tr>\n",
       "    <tr>\n",
       "      <th>2019-08-22</th>\n",
       "      <td>66</td>\n",
       "    </tr>\n",
       "    <tr>\n",
       "      <th>2019-08-23</th>\n",
       "      <td>997</td>\n",
       "    </tr>\n",
       "    <tr>\n",
       "      <th>2019-08-24</th>\n",
       "      <td>827</td>\n",
       "    </tr>\n",
       "    <tr>\n",
       "      <th>2019-08-25</th>\n",
       "      <td>72</td>\n",
       "    </tr>\n",
       "    <tr>\n",
       "      <th>2019-08-26</th>\n",
       "      <td>430</td>\n",
       "    </tr>\n",
       "    <tr>\n",
       "      <th>2019-08-27</th>\n",
       "      <td>790</td>\n",
       "    </tr>\n",
       "    <tr>\n",
       "      <th>2019-08-28</th>\n",
       "      <td>888</td>\n",
       "    </tr>\n",
       "    <tr>\n",
       "      <th>2019-08-29</th>\n",
       "      <td>549</td>\n",
       "    </tr>\n",
       "    <tr>\n",
       "      <th>2019-08-30</th>\n",
       "      <td>307</td>\n",
       "    </tr>\n",
       "    <tr>\n",
       "      <th>...</th>\n",
       "      <td>...</td>\n",
       "    </tr>\n",
       "    <tr>\n",
       "      <th>2019-11-01</th>\n",
       "      <td>80</td>\n",
       "    </tr>\n",
       "    <tr>\n",
       "      <th>2019-11-02</th>\n",
       "      <td>787</td>\n",
       "    </tr>\n",
       "    <tr>\n",
       "      <th>2019-11-03</th>\n",
       "      <td>800</td>\n",
       "    </tr>\n",
       "    <tr>\n",
       "      <th>2019-11-04</th>\n",
       "      <td>441</td>\n",
       "    </tr>\n",
       "    <tr>\n",
       "      <th>2019-11-05</th>\n",
       "      <td>152</td>\n",
       "    </tr>\n",
       "    <tr>\n",
       "      <th>2019-11-06</th>\n",
       "      <td>731</td>\n",
       "    </tr>\n",
       "    <tr>\n",
       "      <th>2019-11-07</th>\n",
       "      <td>762</td>\n",
       "    </tr>\n",
       "    <tr>\n",
       "      <th>2019-11-08</th>\n",
       "      <td>451</td>\n",
       "    </tr>\n",
       "    <tr>\n",
       "      <th>2019-11-09</th>\n",
       "      <td>377</td>\n",
       "    </tr>\n",
       "    <tr>\n",
       "      <th>2019-11-10</th>\n",
       "      <td>182</td>\n",
       "    </tr>\n",
       "    <tr>\n",
       "      <th>2019-11-11</th>\n",
       "      <td>455</td>\n",
       "    </tr>\n",
       "    <tr>\n",
       "      <th>2019-11-12</th>\n",
       "      <td>314</td>\n",
       "    </tr>\n",
       "    <tr>\n",
       "      <th>2019-11-13</th>\n",
       "      <td>725</td>\n",
       "    </tr>\n",
       "    <tr>\n",
       "      <th>2019-11-14</th>\n",
       "      <td>905</td>\n",
       "    </tr>\n",
       "    <tr>\n",
       "      <th>2019-11-15</th>\n",
       "      <td>943</td>\n",
       "    </tr>\n",
       "    <tr>\n",
       "      <th>2019-11-16</th>\n",
       "      <td>44</td>\n",
       "    </tr>\n",
       "    <tr>\n",
       "      <th>2019-11-17</th>\n",
       "      <td>290</td>\n",
       "    </tr>\n",
       "    <tr>\n",
       "      <th>2019-11-18</th>\n",
       "      <td>903</td>\n",
       "    </tr>\n",
       "    <tr>\n",
       "      <th>2019-11-19</th>\n",
       "      <td>818</td>\n",
       "    </tr>\n",
       "    <tr>\n",
       "      <th>2019-11-20</th>\n",
       "      <td>397</td>\n",
       "    </tr>\n",
       "    <tr>\n",
       "      <th>2019-11-21</th>\n",
       "      <td>25</td>\n",
       "    </tr>\n",
       "    <tr>\n",
       "      <th>2019-11-22</th>\n",
       "      <td>67</td>\n",
       "    </tr>\n",
       "    <tr>\n",
       "      <th>2019-11-23</th>\n",
       "      <td>163</td>\n",
       "    </tr>\n",
       "    <tr>\n",
       "      <th>2019-11-24</th>\n",
       "      <td>784</td>\n",
       "    </tr>\n",
       "    <tr>\n",
       "      <th>2019-11-25</th>\n",
       "      <td>705</td>\n",
       "    </tr>\n",
       "    <tr>\n",
       "      <th>2019-11-26</th>\n",
       "      <td>595</td>\n",
       "    </tr>\n",
       "    <tr>\n",
       "      <th>2019-11-27</th>\n",
       "      <td>294</td>\n",
       "    </tr>\n",
       "    <tr>\n",
       "      <th>2019-11-28</th>\n",
       "      <td>216</td>\n",
       "    </tr>\n",
       "    <tr>\n",
       "      <th>2019-11-29</th>\n",
       "      <td>131</td>\n",
       "    </tr>\n",
       "    <tr>\n",
       "      <th>2019-11-30</th>\n",
       "      <td>338</td>\n",
       "    </tr>\n",
       "  </tbody>\n",
       "</table>\n",
       "<p>122 rows × 1 columns</p>\n",
       "</div>"
      ],
      "text/plain": [
       "            count\n",
       "date             \n",
       "2019-08-01    317\n",
       "2019-08-02    693\n",
       "2019-08-03    166\n",
       "2019-08-04    363\n",
       "2019-08-05     69\n",
       "2019-08-06    665\n",
       "2019-08-07    547\n",
       "2019-08-08    617\n",
       "2019-08-09    840\n",
       "2019-08-10    957\n",
       "2019-08-11    747\n",
       "2019-08-12    528\n",
       "2019-08-13    383\n",
       "2019-08-14    962\n",
       "2019-08-15    942\n",
       "2019-08-16    529\n",
       "2019-08-17    153\n",
       "2019-08-18    198\n",
       "2019-08-19    598\n",
       "2019-08-20    353\n",
       "2019-08-21    303\n",
       "2019-08-22     66\n",
       "2019-08-23    997\n",
       "2019-08-24    827\n",
       "2019-08-25     72\n",
       "2019-08-26    430\n",
       "2019-08-27    790\n",
       "2019-08-28    888\n",
       "2019-08-29    549\n",
       "2019-08-30    307\n",
       "...           ...\n",
       "2019-11-01     80\n",
       "2019-11-02    787\n",
       "2019-11-03    800\n",
       "2019-11-04    441\n",
       "2019-11-05    152\n",
       "2019-11-06    731\n",
       "2019-11-07    762\n",
       "2019-11-08    451\n",
       "2019-11-09    377\n",
       "2019-11-10    182\n",
       "2019-11-11    455\n",
       "2019-11-12    314\n",
       "2019-11-13    725\n",
       "2019-11-14    905\n",
       "2019-11-15    943\n",
       "2019-11-16     44\n",
       "2019-11-17    290\n",
       "2019-11-18    903\n",
       "2019-11-19    818\n",
       "2019-11-20    397\n",
       "2019-11-21     25\n",
       "2019-11-22     67\n",
       "2019-11-23    163\n",
       "2019-11-24    784\n",
       "2019-11-25    705\n",
       "2019-11-26    595\n",
       "2019-11-27    294\n",
       "2019-11-28    216\n",
       "2019-11-29    131\n",
       "2019-11-30    338\n",
       "\n",
       "[122 rows x 1 columns]"
      ]
     },
     "execution_count": 166,
     "metadata": {},
     "output_type": "execute_result"
    }
   ],
   "source": [
    "sample['2019-08':'2019-11']"
   ]
  },
  {
   "cell_type": "markdown",
   "metadata": {},
   "source": [
    "```python\n",
    "sample['2019-08-15'] # 이렇게 할순 없음 왜냐면 이러면 column으로 생각해서... slicing \n",
    "```"
   ]
  },
  {
   "cell_type": "code",
   "execution_count": 167,
   "metadata": {
    "ExecuteTime": {
     "end_time": "2019-07-19T07:39:00.901543Z",
     "start_time": "2019-07-19T07:39:00.895792Z"
    }
   },
   "outputs": [
    {
     "data": {
      "text/plain": [
       "count    942\n",
       "Name: 2019-08-15 00:00:00, dtype: int64"
      ]
     },
     "execution_count": 167,
     "metadata": {},
     "output_type": "execute_result"
    }
   ],
   "source": [
    "sample.loc['2019-08-15']"
   ]
  },
  {
   "cell_type": "code",
   "execution_count": 168,
   "metadata": {
    "ExecuteTime": {
     "end_time": "2019-07-19T07:39:01.644220Z",
     "start_time": "2019-07-19T07:39:01.636436Z"
    }
   },
   "outputs": [
    {
     "name": "stdout",
     "output_type": "stream",
     "text": [
      "<class 'pandas.core.frame.DataFrame'>\n",
      "DatetimeIndex: 500 entries, 2019-07-01 to 2020-11-11\n",
      "Data columns (total 1 columns):\n",
      "count    500 non-null int64\n",
      "dtypes: int64(1)\n",
      "memory usage: 27.8 KB\n"
     ]
    }
   ],
   "source": [
    "sample.info()"
   ]
  },
  {
   "cell_type": "markdown",
   "metadata": {},
   "source": [
    "### strftime()으로 날짜 타입의 변수를 문자열로 변환하기"
   ]
  },
  {
   "cell_type": "code",
   "execution_count": 169,
   "metadata": {
    "ExecuteTime": {
     "end_time": "2019-07-19T07:39:02.910742Z",
     "start_time": "2019-07-19T07:39:02.906981Z"
    }
   },
   "outputs": [
    {
     "data": {
      "text/plain": [
       "'2019-07-19'"
      ]
     },
     "execution_count": 169,
     "metadata": {},
     "output_type": "execute_result"
    }
   ],
   "source": [
    "# now 변수를 2018-05-25 형식으로 출력\n",
    "now.strftime('%Y-%m-%d')"
   ]
  },
  {
   "cell_type": "code",
   "execution_count": 170,
   "metadata": {
    "ExecuteTime": {
     "end_time": "2019-07-19T07:39:03.543760Z",
     "start_time": "2019-07-19T07:39:03.539569Z"
    }
   },
   "outputs": [
    {
     "data": {
      "text/plain": [
       "'2019/07/19 16:38:42.134425'"
      ]
     },
     "execution_count": 170,
     "metadata": {},
     "output_type": "execute_result"
    }
   ],
   "source": [
    "# 실습 - now 변수를 2018/05/25 11:20:30.231452 형식으로 출력\n",
    "now.strftime('%Y/%m/%d %H:%M:%S.%f')"
   ]
  },
  {
   "cell_type": "code",
   "execution_count": 171,
   "metadata": {
    "ExecuteTime": {
     "end_time": "2019-07-19T07:39:04.044514Z",
     "start_time": "2019-07-19T07:39:04.039853Z"
    }
   },
   "outputs": [
    {
     "data": {
      "text/plain": [
       "'2019년 7월 19일'"
      ]
     },
     "execution_count": 171,
     "metadata": {},
     "output_type": "execute_result"
    }
   ],
   "source": [
    "# 실습 2. now 변수를 2018년 5월 25일로 출력\n",
    "# now.strftime('%연') 한글 인코딩이 안됨\n",
    "# now.strftime('%Y년 %m월 %d일') # 인코딩 문제로 strftime 함수가 비정상 동작\n",
    "# 이런 경우에는 format()을 이용하여 출력하는 것을 권장\n",
    "'{0}년 {1}월 {2}일'.format(now.year, now.month, now.day)"
   ]
  },
  {
   "cell_type": "code",
   "execution_count": 172,
   "metadata": {
    "ExecuteTime": {
     "end_time": "2019-07-19T07:39:04.660531Z",
     "start_time": "2019-07-19T07:39:04.656165Z"
    }
   },
   "outputs": [
    {
     "data": {
      "text/plain": [
       "'2019년 7월 19일'"
      ]
     },
     "execution_count": 172,
     "metadata": {},
     "output_type": "execute_result"
    }
   ],
   "source": [
    "'{0.year}년 {0.month}월 {0.day}일'.format(now)"
   ]
  },
  {
   "cell_type": "code",
   "execution_count": 173,
   "metadata": {
    "ExecuteTime": {
     "end_time": "2019-07-19T07:39:05.074917Z",
     "start_time": "2019-07-19T07:39:05.070815Z"
    }
   },
   "outputs": [
    {
     "data": {
      "text/plain": [
       "'28주차'"
      ]
     },
     "execution_count": 173,
     "metadata": {},
     "output_type": "execute_result"
    }
   ],
   "source": [
    "# 심화 - week number, weeekday 정보가 필요할 때\n",
    "# %U : week number(sun to mon)\n",
    "now.strftime('%U') + '주차'"
   ]
  },
  {
   "cell_type": "code",
   "execution_count": 174,
   "metadata": {
    "ExecuteTime": {
     "end_time": "2019-07-19T07:39:05.528328Z",
     "start_time": "2019-07-19T07:39:05.524482Z"
    }
   },
   "outputs": [
    {
     "data": {
      "text/plain": [
       "'29주차'"
      ]
     },
     "execution_count": 174,
     "metadata": {},
     "output_type": "execute_result"
    }
   ],
   "source": [
    "# %V : ISO 8601 week number (mon to sun)\n",
    "now.strftime('%V') + '주차'"
   ]
  },
  {
   "cell_type": "code",
   "execution_count": 175,
   "metadata": {
    "ExecuteTime": {
     "end_time": "2019-07-19T07:39:05.957128Z",
     "start_time": "2019-07-19T07:39:05.953039Z"
    }
   },
   "outputs": [
    {
     "data": {
      "text/plain": [
       "'Fri'"
      ]
     },
     "execution_count": 175,
     "metadata": {},
     "output_type": "execute_result"
    }
   ],
   "source": [
    "# %a : weekday\n",
    "now.strftime('%a')"
   ]
  },
  {
   "cell_type": "code",
   "execution_count": 176,
   "metadata": {
    "ExecuteTime": {
     "end_time": "2019-07-19T07:39:06.449920Z",
     "start_time": "2019-07-19T07:39:06.445753Z"
    }
   },
   "outputs": [
    {
     "data": {
      "text/plain": [
       "'5'"
      ]
     },
     "execution_count": 176,
     "metadata": {},
     "output_type": "execute_result"
    }
   ],
   "source": [
    "# %w : weekday(0,1,2,3,4...0:sun)\n",
    "now.strftime('%w')"
   ]
  },
  {
   "cell_type": "markdown",
   "metadata": {},
   "source": [
    "### strptime()으로 문자열을 날짜 타입으로 변환하기"
   ]
  },
  {
   "cell_type": "code",
   "execution_count": 183,
   "metadata": {
    "ExecuteTime": {
     "end_time": "2019-07-19T07:40:22.841789Z",
     "start_time": "2019-07-19T07:40:22.835816Z"
    }
   },
   "outputs": [
    {
     "data": {
      "text/plain": [
       "datetime.datetime(2019, 8, 15, 0, 0)"
      ]
     },
     "execution_count": 183,
     "metadata": {},
     "output_type": "execute_result"
    }
   ],
   "source": [
    "sample = sample.reset_index()\n",
    "date_str = '19/8/15'\n",
    "datetime.strptime(date_str,'%y/%m/%d')"
   ]
  },
  {
   "cell_type": "code",
   "execution_count": 184,
   "metadata": {
    "ExecuteTime": {
     "end_time": "2019-07-19T07:40:23.702295Z",
     "start_time": "2019-07-19T07:40:23.698108Z"
    }
   },
   "outputs": [
    {
     "data": {
      "text/plain": [
       "datetime.datetime(2019, 7, 19, 16, 38, 42, 134425)"
      ]
     },
     "execution_count": 184,
     "metadata": {},
     "output_type": "execute_result"
    }
   ],
   "source": [
    "now"
   ]
  },
  {
   "cell_type": "code",
   "execution_count": 185,
   "metadata": {
    "ExecuteTime": {
     "end_time": "2019-07-19T07:40:24.061235Z",
     "start_time": "2019-07-19T07:40:24.055645Z"
    },
    "scrolled": true
   },
   "outputs": [
    {
     "data": {
      "text/plain": [
       "'26'"
      ]
     },
     "execution_count": 185,
     "metadata": {},
     "output_type": "execute_result"
    }
   ],
   "source": [
    "sample.date[0].strftime('%U')"
   ]
  },
  {
   "cell_type": "code",
   "execution_count": 186,
   "metadata": {
    "ExecuteTime": {
     "end_time": "2019-07-19T07:40:24.788170Z",
     "start_time": "2019-07-19T07:40:24.778146Z"
    }
   },
   "outputs": [
    {
     "data": {
      "text/plain": [
       "0    26\n",
       "1    26\n",
       "2    26\n",
       "3    26\n",
       "4    26\n",
       "Name: date, dtype: object"
      ]
     },
     "execution_count": 186,
     "metadata": {},
     "output_type": "execute_result"
    }
   ],
   "source": [
    "sample['date'].map(lambda x : x.strftime('%U'))[:5]"
   ]
  },
  {
   "cell_type": "markdown",
   "metadata": {},
   "source": [
    "## 예제 실습\n",
    "### 예제1"
   ]
  },
  {
   "cell_type": "code",
   "execution_count": 194,
   "metadata": {
    "ExecuteTime": {
     "end_time": "2019-07-19T07:48:20.936943Z",
     "start_time": "2019-07-19T07:48:20.904317Z"
    },
    "scrolled": false
   },
   "outputs": [
    {
     "data": {
      "text/html": [
       "<div>\n",
       "<style scoped>\n",
       "    .dataframe tbody tr th:only-of-type {\n",
       "        vertical-align: middle;\n",
       "    }\n",
       "\n",
       "    .dataframe tbody tr th {\n",
       "        vertical-align: top;\n",
       "    }\n",
       "\n",
       "    .dataframe thead th {\n",
       "        text-align: right;\n",
       "    }\n",
       "</style>\n",
       "<table border=\"1\" class=\"dataframe\">\n",
       "  <thead>\n",
       "    <tr style=\"text-align: right;\">\n",
       "      <th></th>\n",
       "      <th>date</th>\n",
       "      <th>count</th>\n",
       "      <th>wn</th>\n",
       "      <th>wd</th>\n",
       "      <th>wn2</th>\n",
       "      <th>wd2</th>\n",
       "    </tr>\n",
       "  </thead>\n",
       "  <tbody>\n",
       "    <tr>\n",
       "      <th>0</th>\n",
       "      <td>2019-07-01</td>\n",
       "      <td>469</td>\n",
       "      <td>26</td>\n",
       "      <td>Mon</td>\n",
       "      <td>26</td>\n",
       "      <td>Mon</td>\n",
       "    </tr>\n",
       "    <tr>\n",
       "      <th>1</th>\n",
       "      <td>2019-07-02</td>\n",
       "      <td>567</td>\n",
       "      <td>26</td>\n",
       "      <td>Tue</td>\n",
       "      <td>26</td>\n",
       "      <td>Tue</td>\n",
       "    </tr>\n",
       "    <tr>\n",
       "      <th>2</th>\n",
       "      <td>2019-07-03</td>\n",
       "      <td>998</td>\n",
       "      <td>26</td>\n",
       "      <td>Wed</td>\n",
       "      <td>26</td>\n",
       "      <td>Wed</td>\n",
       "    </tr>\n",
       "    <tr>\n",
       "      <th>3</th>\n",
       "      <td>2019-07-04</td>\n",
       "      <td>241</td>\n",
       "      <td>26</td>\n",
       "      <td>Thu</td>\n",
       "      <td>26</td>\n",
       "      <td>Thu</td>\n",
       "    </tr>\n",
       "    <tr>\n",
       "      <th>4</th>\n",
       "      <td>2019-07-05</td>\n",
       "      <td>386</td>\n",
       "      <td>26</td>\n",
       "      <td>Fri</td>\n",
       "      <td>26</td>\n",
       "      <td>Fri</td>\n",
       "    </tr>\n",
       "  </tbody>\n",
       "</table>\n",
       "</div>"
      ],
      "text/plain": [
       "        date  count  wn   wd wn2  wd2\n",
       "0 2019-07-01    469  26  Mon  26  Mon\n",
       "1 2019-07-02    567  26  Tue  26  Tue\n",
       "2 2019-07-03    998  26  Wed  26  Wed\n",
       "3 2019-07-04    241  26  Thu  26  Thu\n",
       "4 2019-07-05    386  26  Fri  26  Fri"
      ]
     },
     "execution_count": 194,
     "metadata": {},
     "output_type": "execute_result"
    }
   ],
   "source": [
    "# sample에 week number랑 week day 컬럼을 추가\n",
    "# week number 별로 count 컬럼의 합과\n",
    "# week day 별로 count 컬럼의 합을 구하기\n",
    "# apply(lambda x : x.strftime('%U'))\n",
    "sample['wn'] = sample['date'].map(lambda x : x.strftime('%U'))\n",
    "sample['wn2']  = sample.date.dt.strftime('%U') # Series.dt 사용하기\n",
    "sample['wd'] = sample['date'].map(lambda x : x.strftime('%a'))\n",
    "sample['wd2']  = sample.date.dt.strftime('%a')\n",
    "sample.head()"
   ]
  },
  {
   "cell_type": "code",
   "execution_count": 191,
   "metadata": {
    "ExecuteTime": {
     "end_time": "2019-07-19T07:44:44.723059Z",
     "start_time": "2019-07-19T07:44:44.404309Z"
    }
   },
   "outputs": [
    {
     "data": {
      "image/png": "[encoded data removed]",
      "text/plain": [
       "<Figure size 432x288 with 1 Axes>"
      ]
     },
     "metadata": {
      "needs_background": "light"
     },
     "output_type": "display_data"
    },
    {
     "data": {
      "image/png": "[encoded data removed]",
      "text/plain": [
       "<Figure size 432x288 with 1 Axes>"
      ]
     },
     "metadata": {
      "needs_background": "light"
     },
     "output_type": "display_data"
    }
   ],
   "source": [
    "sample.pivot_table(index='wn',aggfunc='sum',values='count').plot(style='--',color='r')\n",
    "sample.pivot_table(index='wd',aggfunc='sum',values='count').plot(kind='bar',style=':',color='b')\n",
    "plt.show()"
   ]
  },
  {
   "cell_type": "markdown",
   "metadata": {},
   "source": [
    "### 예제2 "
   ]
  },
  {
   "cell_type": "code",
   "execution_count": 211,
   "metadata": {
    "ExecuteTime": {
     "end_time": "2019-07-19T08:12:52.119320Z",
     "start_time": "2019-07-19T08:12:52.114299Z"
    }
   },
   "outputs": [],
   "source": [
    "df = DataFrame({'date':['2019-07-01','2019-07-07','2019-07-11','2019-07-13','2019-07-15',\n",
    "                        '2019-07-18','2019-07-20','2019-07-21','2019-07-25','2019-07-29'],\n",
    "                'count' : random.sample(range(1,100),10)})"
   ]
  },
  {
   "cell_type": "code",
   "execution_count": 212,
   "metadata": {
    "ExecuteTime": {
     "end_time": "2019-07-19T08:12:52.446541Z",
     "start_time": "2019-07-19T08:12:52.439794Z"
    }
   },
   "outputs": [
    {
     "data": {
      "text/plain": [
       "0   2019-07-01\n",
       "1   2019-07-07\n",
       "2   2019-07-11\n",
       "3   2019-07-13\n",
       "4   2019-07-15\n",
       "5   2019-07-18\n",
       "6   2019-07-20\n",
       "7   2019-07-21\n",
       "8   2019-07-25\n",
       "9   2019-07-29\n",
       "Name: date, dtype: datetime64[ns]"
      ]
     },
     "execution_count": 212,
     "metadata": {},
     "output_type": "execute_result"
    }
   ],
   "source": [
    "pd.to_datetime(df['date'])"
   ]
  },
  {
   "cell_type": "code",
   "execution_count": 216,
   "metadata": {
    "ExecuteTime": {
     "end_time": "2019-07-19T08:13:35.367530Z",
     "start_time": "2019-07-19T08:13:35.356594Z"
    }
   },
   "outputs": [
    {
     "data": {
      "text/html": [
       "<div>\n",
       "<style scoped>\n",
       "    .dataframe tbody tr th:only-of-type {\n",
       "        vertical-align: middle;\n",
       "    }\n",
       "\n",
       "    .dataframe tbody tr th {\n",
       "        vertical-align: top;\n",
       "    }\n",
       "\n",
       "    .dataframe thead th {\n",
       "        text-align: right;\n",
       "    }\n",
       "</style>\n",
       "<table border=\"1\" class=\"dataframe\">\n",
       "  <thead>\n",
       "    <tr style=\"text-align: right;\">\n",
       "      <th></th>\n",
       "      <th>count</th>\n",
       "      <th>date2</th>\n",
       "    </tr>\n",
       "    <tr>\n",
       "      <th>date</th>\n",
       "      <th></th>\n",
       "      <th></th>\n",
       "    </tr>\n",
       "  </thead>\n",
       "  <tbody>\n",
       "    <tr>\n",
       "      <th>2019-07-01</th>\n",
       "      <td>28</td>\n",
       "      <td>2019-01-01 00:07:00</td>\n",
       "    </tr>\n",
       "    <tr>\n",
       "      <th>2019-07-07</th>\n",
       "      <td>79</td>\n",
       "      <td>2019-01-07 00:07:00</td>\n",
       "    </tr>\n",
       "    <tr>\n",
       "      <th>2019-07-11</th>\n",
       "      <td>46</td>\n",
       "      <td>2019-01-11 00:07:00</td>\n",
       "    </tr>\n",
       "    <tr>\n",
       "      <th>2019-07-13</th>\n",
       "      <td>45</td>\n",
       "      <td>2019-01-13 00:07:00</td>\n",
       "    </tr>\n",
       "    <tr>\n",
       "      <th>2019-07-15</th>\n",
       "      <td>65</td>\n",
       "      <td>2019-01-15 00:07:00</td>\n",
       "    </tr>\n",
       "    <tr>\n",
       "      <th>2019-07-18</th>\n",
       "      <td>6</td>\n",
       "      <td>2019-01-18 00:07:00</td>\n",
       "    </tr>\n",
       "    <tr>\n",
       "      <th>2019-07-20</th>\n",
       "      <td>38</td>\n",
       "      <td>2019-01-20 00:07:00</td>\n",
       "    </tr>\n",
       "    <tr>\n",
       "      <th>2019-07-21</th>\n",
       "      <td>87</td>\n",
       "      <td>2019-01-21 00:07:00</td>\n",
       "    </tr>\n",
       "    <tr>\n",
       "      <th>2019-07-25</th>\n",
       "      <td>12</td>\n",
       "      <td>2019-01-25 00:07:00</td>\n",
       "    </tr>\n",
       "    <tr>\n",
       "      <th>2019-07-29</th>\n",
       "      <td>94</td>\n",
       "      <td>2019-01-29 00:07:00</td>\n",
       "    </tr>\n",
       "  </tbody>\n",
       "</table>\n",
       "</div>"
      ],
      "text/plain": [
       "            count               date2\n",
       "date                                 \n",
       "2019-07-01     28 2019-01-01 00:07:00\n",
       "2019-07-07     79 2019-01-07 00:07:00\n",
       "2019-07-11     46 2019-01-11 00:07:00\n",
       "2019-07-13     45 2019-01-13 00:07:00\n",
       "2019-07-15     65 2019-01-15 00:07:00\n",
       "2019-07-18      6 2019-01-18 00:07:00\n",
       "2019-07-20     38 2019-01-20 00:07:00\n",
       "2019-07-21     87 2019-01-21 00:07:00\n",
       "2019-07-25     12 2019-01-25 00:07:00\n",
       "2019-07-29     94 2019-01-29 00:07:00"
      ]
     },
     "execution_count": 216,
     "metadata": {},
     "output_type": "execute_result"
    }
   ],
   "source": [
    "# df에서의 date를 string에서 datetime 로 변환\n",
    "df['date2'] = df.date.map(lambda x : datetime.strptime(x,'%Y-%M-%d'))\n",
    "df.set_index('date')"
   ]
  },
  {
   "cell_type": "markdown",
   "metadata": {},
   "source": [
    "## 푸드코트 주문 데이터 분석"
   ]
  },
  {
   "cell_type": "code",
   "execution_count": 218,
   "metadata": {
    "ExecuteTime": {
     "end_time": "2019-07-19T08:13:51.914906Z",
     "start_time": "2019-07-19T08:13:51.162930Z"
    }
   },
   "outputs": [],
   "source": [
    "# 데이터 읽기\n",
    "식당 = pd.read_excel('data/food_order.xlsx')"
   ]
  },
  {
   "cell_type": "code",
   "execution_count": 219,
   "metadata": {
    "ExecuteTime": {
     "end_time": "2019-07-19T08:13:53.044065Z",
     "start_time": "2019-07-19T08:13:52.995405Z"
    }
   },
   "outputs": [
    {
     "data": {
      "text/html": [
       "<div>\n",
       "<style scoped>\n",
       "    .dataframe tbody tr th:only-of-type {\n",
       "        vertical-align: middle;\n",
       "    }\n",
       "\n",
       "    .dataframe tbody tr th {\n",
       "        vertical-align: top;\n",
       "    }\n",
       "\n",
       "    .dataframe thead th {\n",
       "        text-align: right;\n",
       "    }\n",
       "</style>\n",
       "<table border=\"1\" class=\"dataframe\">\n",
       "  <thead>\n",
       "    <tr style=\"text-align: right;\">\n",
       "      <th></th>\n",
       "      <th>date</th>\n",
       "      <th>dine_type</th>\n",
       "      <th>corner</th>\n",
       "      <th>menu</th>\n",
       "      <th>is_sold_out</th>\n",
       "      <th>use_count</th>\n",
       "      <th>pred_count</th>\n",
       "      <th>additional</th>\n",
       "      <th>good</th>\n",
       "      <th>ok</th>\n",
       "      <th>bad</th>\n",
       "      <th>diff_use_pred</th>\n",
       "      <th>year</th>\n",
       "      <th>month</th>\n",
       "      <th>day</th>\n",
       "      <th>wday</th>\n",
       "    </tr>\n",
       "  </thead>\n",
       "  <tbody>\n",
       "    <tr>\n",
       "      <th>0</th>\n",
       "      <td>2013-08-06</td>\n",
       "      <td>dinner</td>\n",
       "      <td>grill &amp; fry</td>\n",
       "      <td>훈제연어벤또(200개)</td>\n",
       "      <td>F</td>\n",
       "      <td>213</td>\n",
       "      <td>0</td>\n",
       "      <td>0</td>\n",
       "      <td>0</td>\n",
       "      <td>0</td>\n",
       "      <td>0</td>\n",
       "      <td>-213</td>\n",
       "      <td>2013</td>\n",
       "      <td>8</td>\n",
       "      <td>6</td>\n",
       "      <td>1</td>\n",
       "    </tr>\n",
       "    <tr>\n",
       "      <th>1</th>\n",
       "      <td>2013-08-06</td>\n",
       "      <td>dinner</td>\n",
       "      <td>rice &amp; soup 1</td>\n",
       "      <td>뚝배기 우거지 갈비탕</td>\n",
       "      <td>F</td>\n",
       "      <td>261</td>\n",
       "      <td>0</td>\n",
       "      <td>0</td>\n",
       "      <td>0</td>\n",
       "      <td>0</td>\n",
       "      <td>0</td>\n",
       "      <td>-261</td>\n",
       "      <td>2013</td>\n",
       "      <td>8</td>\n",
       "      <td>6</td>\n",
       "      <td>1</td>\n",
       "    </tr>\n",
       "    <tr>\n",
       "      <th>2</th>\n",
       "      <td>2013-08-06</td>\n",
       "      <td>lunch</td>\n",
       "      <td>noodle bar</td>\n",
       "      <td>판모밀정식</td>\n",
       "      <td>F</td>\n",
       "      <td>267</td>\n",
       "      <td>0</td>\n",
       "      <td>0</td>\n",
       "      <td>0</td>\n",
       "      <td>0</td>\n",
       "      <td>0</td>\n",
       "      <td>-267</td>\n",
       "      <td>2013</td>\n",
       "      <td>8</td>\n",
       "      <td>6</td>\n",
       "      <td>1</td>\n",
       "    </tr>\n",
       "    <tr>\n",
       "      <th>3</th>\n",
       "      <td>2013-08-06</td>\n",
       "      <td>breakfast</td>\n",
       "      <td>rice &amp; soup 1</td>\n",
       "      <td>설렁탕정식</td>\n",
       "      <td>F</td>\n",
       "      <td>1</td>\n",
       "      <td>0</td>\n",
       "      <td>0</td>\n",
       "      <td>0</td>\n",
       "      <td>0</td>\n",
       "      <td>0</td>\n",
       "      <td>-1</td>\n",
       "      <td>2013</td>\n",
       "      <td>8</td>\n",
       "      <td>6</td>\n",
       "      <td>1</td>\n",
       "    </tr>\n",
       "    <tr>\n",
       "      <th>4</th>\n",
       "      <td>2013-08-06</td>\n",
       "      <td>lunch</td>\n",
       "      <td>rice &amp; soup 1</td>\n",
       "      <td>A. 부대찌개정식</td>\n",
       "      <td>F</td>\n",
       "      <td>376</td>\n",
       "      <td>0</td>\n",
       "      <td>0</td>\n",
       "      <td>0</td>\n",
       "      <td>0</td>\n",
       "      <td>0</td>\n",
       "      <td>-376</td>\n",
       "      <td>2013</td>\n",
       "      <td>8</td>\n",
       "      <td>6</td>\n",
       "      <td>1</td>\n",
       "    </tr>\n",
       "    <tr>\n",
       "      <th>5</th>\n",
       "      <td>2013-08-12</td>\n",
       "      <td>dinner</td>\n",
       "      <td>noodle bar</td>\n",
       "      <td>차슈라멘</td>\n",
       "      <td>F</td>\n",
       "      <td>179</td>\n",
       "      <td>0</td>\n",
       "      <td>0</td>\n",
       "      <td>0</td>\n",
       "      <td>0</td>\n",
       "      <td>0</td>\n",
       "      <td>-179</td>\n",
       "      <td>2013</td>\n",
       "      <td>8</td>\n",
       "      <td>12</td>\n",
       "      <td>0</td>\n",
       "    </tr>\n",
       "    <tr>\n",
       "      <th>6</th>\n",
       "      <td>2013-08-12</td>\n",
       "      <td>breakfast</td>\n",
       "      <td>rice &amp; soup 1</td>\n",
       "      <td>뚝배기순대국</td>\n",
       "      <td>F</td>\n",
       "      <td>26</td>\n",
       "      <td>0</td>\n",
       "      <td>0</td>\n",
       "      <td>0</td>\n",
       "      <td>0</td>\n",
       "      <td>0</td>\n",
       "      <td>-26</td>\n",
       "      <td>2013</td>\n",
       "      <td>8</td>\n",
       "      <td>12</td>\n",
       "      <td>0</td>\n",
       "    </tr>\n",
       "    <tr>\n",
       "      <th>7</th>\n",
       "      <td>2013-08-12</td>\n",
       "      <td>lunch</td>\n",
       "      <td>rice &amp; soup 1</td>\n",
       "      <td>A:누룽지장각백숙</td>\n",
       "      <td>F</td>\n",
       "      <td>504</td>\n",
       "      <td>0</td>\n",
       "      <td>0</td>\n",
       "      <td>0</td>\n",
       "      <td>0</td>\n",
       "      <td>0</td>\n",
       "      <td>-504</td>\n",
       "      <td>2013</td>\n",
       "      <td>8</td>\n",
       "      <td>12</td>\n",
       "      <td>0</td>\n",
       "    </tr>\n",
       "    <tr>\n",
       "      <th>8</th>\n",
       "      <td>2013-08-12</td>\n",
       "      <td>lunch</td>\n",
       "      <td>noodle bar</td>\n",
       "      <td>유니자장면</td>\n",
       "      <td>F</td>\n",
       "      <td>167</td>\n",
       "      <td>0</td>\n",
       "      <td>0</td>\n",
       "      <td>0</td>\n",
       "      <td>0</td>\n",
       "      <td>0</td>\n",
       "      <td>-167</td>\n",
       "      <td>2013</td>\n",
       "      <td>8</td>\n",
       "      <td>12</td>\n",
       "      <td>0</td>\n",
       "    </tr>\n",
       "    <tr>\n",
       "      <th>9</th>\n",
       "      <td>2013-08-12</td>\n",
       "      <td>dinner</td>\n",
       "      <td>rice &amp; soup 1</td>\n",
       "      <td>김치날치알밥</td>\n",
       "      <td>F</td>\n",
       "      <td>216</td>\n",
       "      <td>0</td>\n",
       "      <td>0</td>\n",
       "      <td>0</td>\n",
       "      <td>0</td>\n",
       "      <td>0</td>\n",
       "      <td>-216</td>\n",
       "      <td>2013</td>\n",
       "      <td>8</td>\n",
       "      <td>12</td>\n",
       "      <td>0</td>\n",
       "    </tr>\n",
       "    <tr>\n",
       "      <th>10</th>\n",
       "      <td>2013-08-12</td>\n",
       "      <td>dinner</td>\n",
       "      <td>grill &amp; fry</td>\n",
       "      <td>그릴드함박정식</td>\n",
       "      <td>F</td>\n",
       "      <td>336</td>\n",
       "      <td>0</td>\n",
       "      <td>0</td>\n",
       "      <td>0</td>\n",
       "      <td>0</td>\n",
       "      <td>0</td>\n",
       "      <td>-336</td>\n",
       "      <td>2013</td>\n",
       "      <td>8</td>\n",
       "      <td>12</td>\n",
       "      <td>0</td>\n",
       "    </tr>\n",
       "    <tr>\n",
       "      <th>11</th>\n",
       "      <td>2013-08-12</td>\n",
       "      <td>lunch</td>\n",
       "      <td>grill &amp; fry</td>\n",
       "      <td>가츠엔정식</td>\n",
       "      <td>F</td>\n",
       "      <td>359</td>\n",
       "      <td>0</td>\n",
       "      <td>0</td>\n",
       "      <td>0</td>\n",
       "      <td>0</td>\n",
       "      <td>0</td>\n",
       "      <td>-359</td>\n",
       "      <td>2013</td>\n",
       "      <td>8</td>\n",
       "      <td>12</td>\n",
       "      <td>0</td>\n",
       "    </tr>\n",
       "    <tr>\n",
       "      <th>12</th>\n",
       "      <td>2013-08-13</td>\n",
       "      <td>lunch</td>\n",
       "      <td>rice &amp; soup 1</td>\n",
       "      <td>A: 누룽지장각백숙</td>\n",
       "      <td>F</td>\n",
       "      <td>532</td>\n",
       "      <td>0</td>\n",
       "      <td>0</td>\n",
       "      <td>0</td>\n",
       "      <td>0</td>\n",
       "      <td>0</td>\n",
       "      <td>-532</td>\n",
       "      <td>2013</td>\n",
       "      <td>8</td>\n",
       "      <td>13</td>\n",
       "      <td>1</td>\n",
       "    </tr>\n",
       "    <tr>\n",
       "      <th>13</th>\n",
       "      <td>2013-08-13</td>\n",
       "      <td>lunch</td>\n",
       "      <td>grill &amp; fry</td>\n",
       "      <td>닭날개벤또</td>\n",
       "      <td>F</td>\n",
       "      <td>234</td>\n",
       "      <td>0</td>\n",
       "      <td>0</td>\n",
       "      <td>0</td>\n",
       "      <td>0</td>\n",
       "      <td>0</td>\n",
       "      <td>-234</td>\n",
       "      <td>2013</td>\n",
       "      <td>8</td>\n",
       "      <td>13</td>\n",
       "      <td>1</td>\n",
       "    </tr>\n",
       "    <tr>\n",
       "      <th>14</th>\n",
       "      <td>2013-08-13</td>\n",
       "      <td>dinner</td>\n",
       "      <td>rice &amp; soup 1</td>\n",
       "      <td>분차덮밥</td>\n",
       "      <td>F</td>\n",
       "      <td>457</td>\n",
       "      <td>0</td>\n",
       "      <td>0</td>\n",
       "      <td>0</td>\n",
       "      <td>0</td>\n",
       "      <td>0</td>\n",
       "      <td>-457</td>\n",
       "      <td>2013</td>\n",
       "      <td>8</td>\n",
       "      <td>13</td>\n",
       "      <td>1</td>\n",
       "    </tr>\n",
       "    <tr>\n",
       "      <th>15</th>\n",
       "      <td>2013-08-13</td>\n",
       "      <td>dinner</td>\n",
       "      <td>noodle bar</td>\n",
       "      <td>열무물냉면</td>\n",
       "      <td>F</td>\n",
       "      <td>136</td>\n",
       "      <td>0</td>\n",
       "      <td>0</td>\n",
       "      <td>0</td>\n",
       "      <td>0</td>\n",
       "      <td>0</td>\n",
       "      <td>-136</td>\n",
       "      <td>2013</td>\n",
       "      <td>8</td>\n",
       "      <td>13</td>\n",
       "      <td>1</td>\n",
       "    </tr>\n",
       "    <tr>\n",
       "      <th>16</th>\n",
       "      <td>2013-08-13</td>\n",
       "      <td>dinner</td>\n",
       "      <td>burger&amp;pizza</td>\n",
       "      <td>오곡버거</td>\n",
       "      <td>F</td>\n",
       "      <td>115</td>\n",
       "      <td>0</td>\n",
       "      <td>0</td>\n",
       "      <td>0</td>\n",
       "      <td>0</td>\n",
       "      <td>0</td>\n",
       "      <td>-115</td>\n",
       "      <td>2013</td>\n",
       "      <td>8</td>\n",
       "      <td>13</td>\n",
       "      <td>1</td>\n",
       "    </tr>\n",
       "    <tr>\n",
       "      <th>17</th>\n",
       "      <td>2013-08-13</td>\n",
       "      <td>breakfast</td>\n",
       "      <td>rice &amp; soup 1</td>\n",
       "      <td>사골우거지탕</td>\n",
       "      <td>F</td>\n",
       "      <td>26</td>\n",
       "      <td>0</td>\n",
       "      <td>0</td>\n",
       "      <td>0</td>\n",
       "      <td>0</td>\n",
       "      <td>0</td>\n",
       "      <td>-26</td>\n",
       "      <td>2013</td>\n",
       "      <td>8</td>\n",
       "      <td>13</td>\n",
       "      <td>1</td>\n",
       "    </tr>\n",
       "    <tr>\n",
       "      <th>18</th>\n",
       "      <td>2013-08-13</td>\n",
       "      <td>lunch</td>\n",
       "      <td>noodle bar</td>\n",
       "      <td>유니자장면(밥)</td>\n",
       "      <td>F</td>\n",
       "      <td>214</td>\n",
       "      <td>0</td>\n",
       "      <td>0</td>\n",
       "      <td>0</td>\n",
       "      <td>0</td>\n",
       "      <td>0</td>\n",
       "      <td>-214</td>\n",
       "      <td>2013</td>\n",
       "      <td>8</td>\n",
       "      <td>13</td>\n",
       "      <td>1</td>\n",
       "    </tr>\n",
       "    <tr>\n",
       "      <th>19</th>\n",
       "      <td>2013-08-14</td>\n",
       "      <td>lunch</td>\n",
       "      <td>grill &amp; fry</td>\n",
       "      <td>닭날개벤또</td>\n",
       "      <td>F</td>\n",
       "      <td>135</td>\n",
       "      <td>0</td>\n",
       "      <td>0</td>\n",
       "      <td>0</td>\n",
       "      <td>0</td>\n",
       "      <td>0</td>\n",
       "      <td>-135</td>\n",
       "      <td>2013</td>\n",
       "      <td>8</td>\n",
       "      <td>14</td>\n",
       "      <td>2</td>\n",
       "    </tr>\n",
       "    <tr>\n",
       "      <th>20</th>\n",
       "      <td>2013-08-14</td>\n",
       "      <td>breakfast</td>\n",
       "      <td>rice &amp; soup 1</td>\n",
       "      <td>다슬기해장국</td>\n",
       "      <td>F</td>\n",
       "      <td>27</td>\n",
       "      <td>0</td>\n",
       "      <td>0</td>\n",
       "      <td>0</td>\n",
       "      <td>0</td>\n",
       "      <td>0</td>\n",
       "      <td>-27</td>\n",
       "      <td>2013</td>\n",
       "      <td>8</td>\n",
       "      <td>14</td>\n",
       "      <td>2</td>\n",
       "    </tr>\n",
       "    <tr>\n",
       "      <th>21</th>\n",
       "      <td>2013-08-14</td>\n",
       "      <td>dinner</td>\n",
       "      <td>grill &amp; fry</td>\n",
       "      <td>치킨데리야끼스테이크</td>\n",
       "      <td>F</td>\n",
       "      <td>229</td>\n",
       "      <td>0</td>\n",
       "      <td>0</td>\n",
       "      <td>0</td>\n",
       "      <td>0</td>\n",
       "      <td>0</td>\n",
       "      <td>-229</td>\n",
       "      <td>2013</td>\n",
       "      <td>8</td>\n",
       "      <td>14</td>\n",
       "      <td>2</td>\n",
       "    </tr>\n",
       "    <tr>\n",
       "      <th>22</th>\n",
       "      <td>2013-08-14</td>\n",
       "      <td>lunch</td>\n",
       "      <td>rice &amp; soup 1</td>\n",
       "      <td>A: 쇠고기영양탕</td>\n",
       "      <td>F</td>\n",
       "      <td>567</td>\n",
       "      <td>0</td>\n",
       "      <td>0</td>\n",
       "      <td>0</td>\n",
       "      <td>0</td>\n",
       "      <td>0</td>\n",
       "      <td>-567</td>\n",
       "      <td>2013</td>\n",
       "      <td>8</td>\n",
       "      <td>14</td>\n",
       "      <td>2</td>\n",
       "    </tr>\n",
       "    <tr>\n",
       "      <th>23</th>\n",
       "      <td>2013-08-14</td>\n",
       "      <td>lunch</td>\n",
       "      <td>noodle bar</td>\n",
       "      <td>가평잣국수</td>\n",
       "      <td>F</td>\n",
       "      <td>98</td>\n",
       "      <td>0</td>\n",
       "      <td>0</td>\n",
       "      <td>0</td>\n",
       "      <td>0</td>\n",
       "      <td>0</td>\n",
       "      <td>-98</td>\n",
       "      <td>2013</td>\n",
       "      <td>8</td>\n",
       "      <td>14</td>\n",
       "      <td>2</td>\n",
       "    </tr>\n",
       "    <tr>\n",
       "      <th>24</th>\n",
       "      <td>2013-08-14</td>\n",
       "      <td>dinner</td>\n",
       "      <td>rice &amp; soup 1</td>\n",
       "      <td>훈제오리&amp;부추생채</td>\n",
       "      <td>F</td>\n",
       "      <td>280</td>\n",
       "      <td>0</td>\n",
       "      <td>0</td>\n",
       "      <td>0</td>\n",
       "      <td>0</td>\n",
       "      <td>0</td>\n",
       "      <td>-280</td>\n",
       "      <td>2013</td>\n",
       "      <td>8</td>\n",
       "      <td>14</td>\n",
       "      <td>2</td>\n",
       "    </tr>\n",
       "    <tr>\n",
       "      <th>25</th>\n",
       "      <td>2013-08-14</td>\n",
       "      <td>dinner</td>\n",
       "      <td>after school</td>\n",
       "      <td>라면세트</td>\n",
       "      <td>F</td>\n",
       "      <td>114</td>\n",
       "      <td>0</td>\n",
       "      <td>0</td>\n",
       "      <td>0</td>\n",
       "      <td>0</td>\n",
       "      <td>0</td>\n",
       "      <td>-114</td>\n",
       "      <td>2013</td>\n",
       "      <td>8</td>\n",
       "      <td>14</td>\n",
       "      <td>2</td>\n",
       "    </tr>\n",
       "    <tr>\n",
       "      <th>26</th>\n",
       "      <td>2013-08-19</td>\n",
       "      <td>lunch</td>\n",
       "      <td>grill &amp; fry</td>\n",
       "      <td>카레라이스&amp;단각구이</td>\n",
       "      <td>F</td>\n",
       "      <td>314</td>\n",
       "      <td>0</td>\n",
       "      <td>0</td>\n",
       "      <td>0</td>\n",
       "      <td>0</td>\n",
       "      <td>0</td>\n",
       "      <td>-314</td>\n",
       "      <td>2013</td>\n",
       "      <td>8</td>\n",
       "      <td>19</td>\n",
       "      <td>0</td>\n",
       "    </tr>\n",
       "    <tr>\n",
       "      <th>27</th>\n",
       "      <td>2013-08-19</td>\n",
       "      <td>dinner</td>\n",
       "      <td>rice &amp; soup 1</td>\n",
       "      <td>삼겹살김치찜</td>\n",
       "      <td>F</td>\n",
       "      <td>441</td>\n",
       "      <td>0</td>\n",
       "      <td>0</td>\n",
       "      <td>0</td>\n",
       "      <td>0</td>\n",
       "      <td>0</td>\n",
       "      <td>-441</td>\n",
       "      <td>2013</td>\n",
       "      <td>8</td>\n",
       "      <td>19</td>\n",
       "      <td>0</td>\n",
       "    </tr>\n",
       "    <tr>\n",
       "      <th>28</th>\n",
       "      <td>2013-08-19</td>\n",
       "      <td>lunch</td>\n",
       "      <td>after school</td>\n",
       "      <td>라면+롤밥 &amp;고급음료</td>\n",
       "      <td>F</td>\n",
       "      <td>225</td>\n",
       "      <td>0</td>\n",
       "      <td>0</td>\n",
       "      <td>0</td>\n",
       "      <td>0</td>\n",
       "      <td>0</td>\n",
       "      <td>-225</td>\n",
       "      <td>2013</td>\n",
       "      <td>8</td>\n",
       "      <td>19</td>\n",
       "      <td>0</td>\n",
       "    </tr>\n",
       "    <tr>\n",
       "      <th>29</th>\n",
       "      <td>2013-08-19</td>\n",
       "      <td>lunch</td>\n",
       "      <td>burger&amp;pizza</td>\n",
       "      <td>흑미버거</td>\n",
       "      <td>F</td>\n",
       "      <td>204</td>\n",
       "      <td>0</td>\n",
       "      <td>0</td>\n",
       "      <td>0</td>\n",
       "      <td>0</td>\n",
       "      <td>0</td>\n",
       "      <td>-204</td>\n",
       "      <td>2013</td>\n",
       "      <td>8</td>\n",
       "      <td>19</td>\n",
       "      <td>0</td>\n",
       "    </tr>\n",
       "    <tr>\n",
       "      <th>...</th>\n",
       "      <td>...</td>\n",
       "      <td>...</td>\n",
       "      <td>...</td>\n",
       "      <td>...</td>\n",
       "      <td>...</td>\n",
       "      <td>...</td>\n",
       "      <td>...</td>\n",
       "      <td>...</td>\n",
       "      <td>...</td>\n",
       "      <td>...</td>\n",
       "      <td>...</td>\n",
       "      <td>...</td>\n",
       "      <td>...</td>\n",
       "      <td>...</td>\n",
       "      <td>...</td>\n",
       "      <td>...</td>\n",
       "    </tr>\n",
       "    <tr>\n",
       "      <th>6795</th>\n",
       "      <td>2015-07-23</td>\n",
       "      <td>dinner</td>\n",
       "      <td>noodle bar</td>\n",
       "      <td>두부버섯탕수</td>\n",
       "      <td>F</td>\n",
       "      <td>66</td>\n",
       "      <td>0</td>\n",
       "      <td>0</td>\n",
       "      <td>15</td>\n",
       "      <td>5</td>\n",
       "      <td>3</td>\n",
       "      <td>-66</td>\n",
       "      <td>2015</td>\n",
       "      <td>7</td>\n",
       "      <td>23</td>\n",
       "      <td>3</td>\n",
       "    </tr>\n",
       "    <tr>\n",
       "      <th>6796</th>\n",
       "      <td>2015-07-23</td>\n",
       "      <td>dinner</td>\n",
       "      <td>take out</td>\n",
       "      <td>오므라이스</td>\n",
       "      <td>F</td>\n",
       "      <td>115</td>\n",
       "      <td>0</td>\n",
       "      <td>0</td>\n",
       "      <td>0</td>\n",
       "      <td>0</td>\n",
       "      <td>0</td>\n",
       "      <td>-115</td>\n",
       "      <td>2015</td>\n",
       "      <td>7</td>\n",
       "      <td>23</td>\n",
       "      <td>3</td>\n",
       "    </tr>\n",
       "    <tr>\n",
       "      <th>6797</th>\n",
       "      <td>2015-07-23</td>\n",
       "      <td>lunch</td>\n",
       "      <td>rice &amp; soup 2</td>\n",
       "      <td>쇠고기영양탕</td>\n",
       "      <td>F</td>\n",
       "      <td>158</td>\n",
       "      <td>0</td>\n",
       "      <td>0</td>\n",
       "      <td>28</td>\n",
       "      <td>9</td>\n",
       "      <td>1</td>\n",
       "      <td>-158</td>\n",
       "      <td>2015</td>\n",
       "      <td>7</td>\n",
       "      <td>23</td>\n",
       "      <td>3</td>\n",
       "    </tr>\n",
       "    <tr>\n",
       "      <th>6798</th>\n",
       "      <td>2015-07-23</td>\n",
       "      <td>lunch</td>\n",
       "      <td>burger&amp;pizza</td>\n",
       "      <td>왕돈가스</td>\n",
       "      <td>F</td>\n",
       "      <td>332</td>\n",
       "      <td>0</td>\n",
       "      <td>0</td>\n",
       "      <td>75</td>\n",
       "      <td>19</td>\n",
       "      <td>2</td>\n",
       "      <td>-332</td>\n",
       "      <td>2015</td>\n",
       "      <td>7</td>\n",
       "      <td>23</td>\n",
       "      <td>3</td>\n",
       "    </tr>\n",
       "    <tr>\n",
       "      <th>6799</th>\n",
       "      <td>2015-07-23</td>\n",
       "      <td>dinner</td>\n",
       "      <td>after school</td>\n",
       "      <td>베이컨마늘라면</td>\n",
       "      <td>F</td>\n",
       "      <td>122</td>\n",
       "      <td>0</td>\n",
       "      <td>0</td>\n",
       "      <td>20</td>\n",
       "      <td>6</td>\n",
       "      <td>1</td>\n",
       "      <td>-122</td>\n",
       "      <td>2015</td>\n",
       "      <td>7</td>\n",
       "      <td>23</td>\n",
       "      <td>3</td>\n",
       "    </tr>\n",
       "    <tr>\n",
       "      <th>6800</th>\n",
       "      <td>2015-07-23</td>\n",
       "      <td>lunch</td>\n",
       "      <td>take out</td>\n",
       "      <td>닭가슴살크랜베리샐러드</td>\n",
       "      <td>F</td>\n",
       "      <td>309</td>\n",
       "      <td>0</td>\n",
       "      <td>0</td>\n",
       "      <td>2</td>\n",
       "      <td>0</td>\n",
       "      <td>1</td>\n",
       "      <td>-309</td>\n",
       "      <td>2015</td>\n",
       "      <td>7</td>\n",
       "      <td>23</td>\n",
       "      <td>3</td>\n",
       "    </tr>\n",
       "    <tr>\n",
       "      <th>6801</th>\n",
       "      <td>2015-07-24</td>\n",
       "      <td>dinner</td>\n",
       "      <td>take out</td>\n",
       "      <td>스팸구공탄라이스*미니샐러드</td>\n",
       "      <td>F</td>\n",
       "      <td>77</td>\n",
       "      <td>0</td>\n",
       "      <td>0</td>\n",
       "      <td>0</td>\n",
       "      <td>0</td>\n",
       "      <td>0</td>\n",
       "      <td>-77</td>\n",
       "      <td>2015</td>\n",
       "      <td>7</td>\n",
       "      <td>24</td>\n",
       "      <td>4</td>\n",
       "    </tr>\n",
       "    <tr>\n",
       "      <th>6802</th>\n",
       "      <td>2015-07-24</td>\n",
       "      <td>lunch</td>\n",
       "      <td>grill &amp; fry</td>\n",
       "      <td>오므라이스</td>\n",
       "      <td>F</td>\n",
       "      <td>303</td>\n",
       "      <td>0</td>\n",
       "      <td>0</td>\n",
       "      <td>50</td>\n",
       "      <td>25</td>\n",
       "      <td>16</td>\n",
       "      <td>-303</td>\n",
       "      <td>2015</td>\n",
       "      <td>7</td>\n",
       "      <td>24</td>\n",
       "      <td>4</td>\n",
       "    </tr>\n",
       "    <tr>\n",
       "      <th>6803</th>\n",
       "      <td>2015-07-24</td>\n",
       "      <td>dinner</td>\n",
       "      <td>rice &amp; soup 1</td>\n",
       "      <td>돼지고기고추장볶음</td>\n",
       "      <td>T</td>\n",
       "      <td>148</td>\n",
       "      <td>0</td>\n",
       "      <td>0</td>\n",
       "      <td>0</td>\n",
       "      <td>0</td>\n",
       "      <td>0</td>\n",
       "      <td>-148</td>\n",
       "      <td>2015</td>\n",
       "      <td>7</td>\n",
       "      <td>24</td>\n",
       "      <td>4</td>\n",
       "    </tr>\n",
       "    <tr>\n",
       "      <th>6804</th>\n",
       "      <td>2015-07-24</td>\n",
       "      <td>dinner</td>\n",
       "      <td>burger&amp;pizza</td>\n",
       "      <td>어니언버거</td>\n",
       "      <td>F</td>\n",
       "      <td>33</td>\n",
       "      <td>0</td>\n",
       "      <td>0</td>\n",
       "      <td>0</td>\n",
       "      <td>0</td>\n",
       "      <td>0</td>\n",
       "      <td>-33</td>\n",
       "      <td>2015</td>\n",
       "      <td>7</td>\n",
       "      <td>24</td>\n",
       "      <td>4</td>\n",
       "    </tr>\n",
       "    <tr>\n",
       "      <th>6805</th>\n",
       "      <td>2015-07-24</td>\n",
       "      <td>lunch</td>\n",
       "      <td>burger&amp;pizza</td>\n",
       "      <td>허니버터피자</td>\n",
       "      <td>F</td>\n",
       "      <td>110</td>\n",
       "      <td>0</td>\n",
       "      <td>0</td>\n",
       "      <td>40</td>\n",
       "      <td>5</td>\n",
       "      <td>1</td>\n",
       "      <td>-110</td>\n",
       "      <td>2015</td>\n",
       "      <td>7</td>\n",
       "      <td>24</td>\n",
       "      <td>4</td>\n",
       "    </tr>\n",
       "    <tr>\n",
       "      <th>6806</th>\n",
       "      <td>2015-07-24</td>\n",
       "      <td>dinner</td>\n",
       "      <td>after school</td>\n",
       "      <td>삼양라면</td>\n",
       "      <td>F</td>\n",
       "      <td>72</td>\n",
       "      <td>0</td>\n",
       "      <td>0</td>\n",
       "      <td>0</td>\n",
       "      <td>0</td>\n",
       "      <td>0</td>\n",
       "      <td>-72</td>\n",
       "      <td>2015</td>\n",
       "      <td>7</td>\n",
       "      <td>24</td>\n",
       "      <td>4</td>\n",
       "    </tr>\n",
       "    <tr>\n",
       "      <th>6807</th>\n",
       "      <td>2015-07-24</td>\n",
       "      <td>lunch</td>\n",
       "      <td>rice &amp; soup 2</td>\n",
       "      <td>훈제오리채소볶음</td>\n",
       "      <td>F</td>\n",
       "      <td>207</td>\n",
       "      <td>0</td>\n",
       "      <td>0</td>\n",
       "      <td>56</td>\n",
       "      <td>17</td>\n",
       "      <td>5</td>\n",
       "      <td>-207</td>\n",
       "      <td>2015</td>\n",
       "      <td>7</td>\n",
       "      <td>24</td>\n",
       "      <td>4</td>\n",
       "    </tr>\n",
       "    <tr>\n",
       "      <th>6808</th>\n",
       "      <td>2015-07-24</td>\n",
       "      <td>dinner</td>\n",
       "      <td>grill &amp; fry</td>\n",
       "      <td>스팸김치볶음밥</td>\n",
       "      <td>F</td>\n",
       "      <td>131</td>\n",
       "      <td>0</td>\n",
       "      <td>0</td>\n",
       "      <td>0</td>\n",
       "      <td>0</td>\n",
       "      <td>0</td>\n",
       "      <td>-131</td>\n",
       "      <td>2015</td>\n",
       "      <td>7</td>\n",
       "      <td>24</td>\n",
       "      <td>4</td>\n",
       "    </tr>\n",
       "    <tr>\n",
       "      <th>6809</th>\n",
       "      <td>2015-07-24</td>\n",
       "      <td>breakfast</td>\n",
       "      <td>take out</td>\n",
       "      <td>샌드위치콤보&amp;음료&amp;과일</td>\n",
       "      <td>F</td>\n",
       "      <td>53</td>\n",
       "      <td>0</td>\n",
       "      <td>0</td>\n",
       "      <td>0</td>\n",
       "      <td>0</td>\n",
       "      <td>0</td>\n",
       "      <td>-53</td>\n",
       "      <td>2015</td>\n",
       "      <td>7</td>\n",
       "      <td>24</td>\n",
       "      <td>4</td>\n",
       "    </tr>\n",
       "    <tr>\n",
       "      <th>6810</th>\n",
       "      <td>2015-07-24</td>\n",
       "      <td>lunch</td>\n",
       "      <td>take out</td>\n",
       "      <td>자몽&amp;망고샐러드</td>\n",
       "      <td>F</td>\n",
       "      <td>301</td>\n",
       "      <td>0</td>\n",
       "      <td>0</td>\n",
       "      <td>1</td>\n",
       "      <td>1</td>\n",
       "      <td>0</td>\n",
       "      <td>-301</td>\n",
       "      <td>2015</td>\n",
       "      <td>7</td>\n",
       "      <td>24</td>\n",
       "      <td>4</td>\n",
       "    </tr>\n",
       "    <tr>\n",
       "      <th>6811</th>\n",
       "      <td>2015-07-24</td>\n",
       "      <td>dinner</td>\n",
       "      <td>noodle bar</td>\n",
       "      <td>쇠고기청경채볶음</td>\n",
       "      <td>F</td>\n",
       "      <td>46</td>\n",
       "      <td>0</td>\n",
       "      <td>0</td>\n",
       "      <td>0</td>\n",
       "      <td>0</td>\n",
       "      <td>0</td>\n",
       "      <td>-46</td>\n",
       "      <td>2015</td>\n",
       "      <td>7</td>\n",
       "      <td>24</td>\n",
       "      <td>4</td>\n",
       "    </tr>\n",
       "    <tr>\n",
       "      <th>6812</th>\n",
       "      <td>2015-07-24</td>\n",
       "      <td>lunch</td>\n",
       "      <td>after school</td>\n",
       "      <td>파송송계란라면</td>\n",
       "      <td>F</td>\n",
       "      <td>153</td>\n",
       "      <td>0</td>\n",
       "      <td>0</td>\n",
       "      <td>33</td>\n",
       "      <td>8</td>\n",
       "      <td>7</td>\n",
       "      <td>-153</td>\n",
       "      <td>2015</td>\n",
       "      <td>7</td>\n",
       "      <td>24</td>\n",
       "      <td>4</td>\n",
       "    </tr>\n",
       "    <tr>\n",
       "      <th>6813</th>\n",
       "      <td>2015-07-24</td>\n",
       "      <td>breakfast</td>\n",
       "      <td>rice &amp; soup 1</td>\n",
       "      <td>호박새우젓국*청량고추</td>\n",
       "      <td>F</td>\n",
       "      <td>60</td>\n",
       "      <td>0</td>\n",
       "      <td>0</td>\n",
       "      <td>11</td>\n",
       "      <td>1</td>\n",
       "      <td>1</td>\n",
       "      <td>-60</td>\n",
       "      <td>2015</td>\n",
       "      <td>7</td>\n",
       "      <td>24</td>\n",
       "      <td>4</td>\n",
       "    </tr>\n",
       "    <tr>\n",
       "      <th>6814</th>\n",
       "      <td>2015-07-24</td>\n",
       "      <td>lunch</td>\n",
       "      <td>rice &amp; soup 1</td>\n",
       "      <td>(뚝)돈가스김치나베</td>\n",
       "      <td>F</td>\n",
       "      <td>276</td>\n",
       "      <td>0</td>\n",
       "      <td>0</td>\n",
       "      <td>42</td>\n",
       "      <td>34</td>\n",
       "      <td>14</td>\n",
       "      <td>-276</td>\n",
       "      <td>2015</td>\n",
       "      <td>7</td>\n",
       "      <td>24</td>\n",
       "      <td>4</td>\n",
       "    </tr>\n",
       "    <tr>\n",
       "      <th>6815</th>\n",
       "      <td>2015-07-24</td>\n",
       "      <td>lunch</td>\n",
       "      <td>noodle bar</td>\n",
       "      <td>콩국수</td>\n",
       "      <td>F</td>\n",
       "      <td>223</td>\n",
       "      <td>0</td>\n",
       "      <td>0</td>\n",
       "      <td>59</td>\n",
       "      <td>13</td>\n",
       "      <td>10</td>\n",
       "      <td>-223</td>\n",
       "      <td>2015</td>\n",
       "      <td>7</td>\n",
       "      <td>24</td>\n",
       "      <td>4</td>\n",
       "    </tr>\n",
       "    <tr>\n",
       "      <th>6816</th>\n",
       "      <td>2015-07-27</td>\n",
       "      <td>lunch</td>\n",
       "      <td>burger&amp;pizza</td>\n",
       "      <td>매콤돈가스</td>\n",
       "      <td>T</td>\n",
       "      <td>282</td>\n",
       "      <td>0</td>\n",
       "      <td>0</td>\n",
       "      <td>0</td>\n",
       "      <td>0</td>\n",
       "      <td>0</td>\n",
       "      <td>-282</td>\n",
       "      <td>2015</td>\n",
       "      <td>7</td>\n",
       "      <td>27</td>\n",
       "      <td>0</td>\n",
       "    </tr>\n",
       "    <tr>\n",
       "      <th>6817</th>\n",
       "      <td>2015-07-27</td>\n",
       "      <td>lunch</td>\n",
       "      <td>after school</td>\n",
       "      <td>라볶이</td>\n",
       "      <td>F</td>\n",
       "      <td>123</td>\n",
       "      <td>0</td>\n",
       "      <td>0</td>\n",
       "      <td>0</td>\n",
       "      <td>0</td>\n",
       "      <td>0</td>\n",
       "      <td>-123</td>\n",
       "      <td>2015</td>\n",
       "      <td>7</td>\n",
       "      <td>27</td>\n",
       "      <td>0</td>\n",
       "    </tr>\n",
       "    <tr>\n",
       "      <th>6818</th>\n",
       "      <td>2015-07-27</td>\n",
       "      <td>breakfast</td>\n",
       "      <td>rice &amp; soup 1</td>\n",
       "      <td>북어국*청량고추</td>\n",
       "      <td>F</td>\n",
       "      <td>79</td>\n",
       "      <td>0</td>\n",
       "      <td>0</td>\n",
       "      <td>0</td>\n",
       "      <td>0</td>\n",
       "      <td>0</td>\n",
       "      <td>-79</td>\n",
       "      <td>2015</td>\n",
       "      <td>7</td>\n",
       "      <td>27</td>\n",
       "      <td>0</td>\n",
       "    </tr>\n",
       "    <tr>\n",
       "      <th>6819</th>\n",
       "      <td>2015-07-27</td>\n",
       "      <td>lunch</td>\n",
       "      <td>rice &amp; soup 1</td>\n",
       "      <td>(뚝)삼겹살김치찌개</td>\n",
       "      <td>F</td>\n",
       "      <td>321</td>\n",
       "      <td>0</td>\n",
       "      <td>0</td>\n",
       "      <td>0</td>\n",
       "      <td>0</td>\n",
       "      <td>0</td>\n",
       "      <td>-321</td>\n",
       "      <td>2015</td>\n",
       "      <td>7</td>\n",
       "      <td>27</td>\n",
       "      <td>0</td>\n",
       "    </tr>\n",
       "    <tr>\n",
       "      <th>6820</th>\n",
       "      <td>2015-07-27</td>\n",
       "      <td>lunch</td>\n",
       "      <td>grill &amp; fry</td>\n",
       "      <td>돼지고기채소비빔밥</td>\n",
       "      <td>F</td>\n",
       "      <td>268</td>\n",
       "      <td>0</td>\n",
       "      <td>0</td>\n",
       "      <td>0</td>\n",
       "      <td>0</td>\n",
       "      <td>0</td>\n",
       "      <td>-268</td>\n",
       "      <td>2015</td>\n",
       "      <td>7</td>\n",
       "      <td>27</td>\n",
       "      <td>0</td>\n",
       "    </tr>\n",
       "    <tr>\n",
       "      <th>6821</th>\n",
       "      <td>2015-07-27</td>\n",
       "      <td>lunch</td>\n",
       "      <td>rice &amp; soup 2</td>\n",
       "      <td>생오리고추장불고기&amp;부추생채</td>\n",
       "      <td>F</td>\n",
       "      <td>264</td>\n",
       "      <td>0</td>\n",
       "      <td>0</td>\n",
       "      <td>0</td>\n",
       "      <td>0</td>\n",
       "      <td>0</td>\n",
       "      <td>-264</td>\n",
       "      <td>2015</td>\n",
       "      <td>7</td>\n",
       "      <td>27</td>\n",
       "      <td>0</td>\n",
       "    </tr>\n",
       "    <tr>\n",
       "      <th>6822</th>\n",
       "      <td>2015-07-27</td>\n",
       "      <td>breakfast</td>\n",
       "      <td>take out</td>\n",
       "      <td>샌드위치콤보&amp;음료&amp;과일</td>\n",
       "      <td>F</td>\n",
       "      <td>58</td>\n",
       "      <td>0</td>\n",
       "      <td>0</td>\n",
       "      <td>0</td>\n",
       "      <td>0</td>\n",
       "      <td>0</td>\n",
       "      <td>-58</td>\n",
       "      <td>2015</td>\n",
       "      <td>7</td>\n",
       "      <td>27</td>\n",
       "      <td>0</td>\n",
       "    </tr>\n",
       "    <tr>\n",
       "      <th>6823</th>\n",
       "      <td>2015-07-27</td>\n",
       "      <td>lunch</td>\n",
       "      <td>noodle bar</td>\n",
       "      <td>김치비빔국수</td>\n",
       "      <td>F</td>\n",
       "      <td>202</td>\n",
       "      <td>0</td>\n",
       "      <td>0</td>\n",
       "      <td>0</td>\n",
       "      <td>0</td>\n",
       "      <td>0</td>\n",
       "      <td>-202</td>\n",
       "      <td>2015</td>\n",
       "      <td>7</td>\n",
       "      <td>27</td>\n",
       "      <td>0</td>\n",
       "    </tr>\n",
       "    <tr>\n",
       "      <th>6824</th>\n",
       "      <td>2015-07-27</td>\n",
       "      <td>lunch</td>\n",
       "      <td>take out</td>\n",
       "      <td>닭가슴살크랜베리샐러드</td>\n",
       "      <td>F</td>\n",
       "      <td>304</td>\n",
       "      <td>0</td>\n",
       "      <td>0</td>\n",
       "      <td>0</td>\n",
       "      <td>0</td>\n",
       "      <td>0</td>\n",
       "      <td>-304</td>\n",
       "      <td>2015</td>\n",
       "      <td>7</td>\n",
       "      <td>27</td>\n",
       "      <td>0</td>\n",
       "    </tr>\n",
       "  </tbody>\n",
       "</table>\n",
       "<p>6825 rows × 16 columns</p>\n",
       "</div>"
      ],
      "text/plain": [
       "           date  dine_type         corner            menu is_sold_out  \\\n",
       "0    2013-08-06     dinner    grill & fry    훈제연어벤또(200개)           F   \n",
       "1    2013-08-06     dinner  rice & soup 1     뚝배기 우거지 갈비탕           F   \n",
       "2    2013-08-06      lunch     noodle bar           판모밀정식           F   \n",
       "3    2013-08-06  breakfast  rice & soup 1           설렁탕정식           F   \n",
       "4    2013-08-06      lunch  rice & soup 1       A. 부대찌개정식           F   \n",
       "5    2013-08-12     dinner     noodle bar            차슈라멘           F   \n",
       "6    2013-08-12  breakfast  rice & soup 1          뚝배기순대국           F   \n",
       "7    2013-08-12      lunch  rice & soup 1       A:누룽지장각백숙           F   \n",
       "8    2013-08-12      lunch     noodle bar           유니자장면           F   \n",
       "9    2013-08-12     dinner  rice & soup 1          김치날치알밥           F   \n",
       "10   2013-08-12     dinner    grill & fry         그릴드함박정식           F   \n",
       "11   2013-08-12      lunch    grill & fry           가츠엔정식           F   \n",
       "12   2013-08-13      lunch  rice & soup 1      A: 누룽지장각백숙           F   \n",
       "13   2013-08-13      lunch    grill & fry           닭날개벤또           F   \n",
       "14   2013-08-13     dinner  rice & soup 1            분차덮밥           F   \n",
       "15   2013-08-13     dinner     noodle bar           열무물냉면           F   \n",
       "16   2013-08-13     dinner   burger&pizza            오곡버거           F   \n",
       "17   2013-08-13  breakfast  rice & soup 1          사골우거지탕           F   \n",
       "18   2013-08-13      lunch     noodle bar        유니자장면(밥)           F   \n",
       "19   2013-08-14      lunch    grill & fry           닭날개벤또           F   \n",
       "20   2013-08-14  breakfast  rice & soup 1          다슬기해장국           F   \n",
       "21   2013-08-14     dinner    grill & fry      치킨데리야끼스테이크           F   \n",
       "22   2013-08-14      lunch  rice & soup 1       A: 쇠고기영양탕           F   \n",
       "23   2013-08-14      lunch     noodle bar           가평잣국수           F   \n",
       "24   2013-08-14     dinner  rice & soup 1       훈제오리&부추생채           F   \n",
       "25   2013-08-14     dinner   after school            라면세트           F   \n",
       "26   2013-08-19      lunch    grill & fry      카레라이스&단각구이           F   \n",
       "27   2013-08-19     dinner  rice & soup 1          삼겹살김치찜           F   \n",
       "28   2013-08-19      lunch   after school     라면+롤밥 &고급음료           F   \n",
       "29   2013-08-19      lunch   burger&pizza            흑미버거           F   \n",
       "...         ...        ...            ...             ...         ...   \n",
       "6795 2015-07-23     dinner     noodle bar          두부버섯탕수           F   \n",
       "6796 2015-07-23     dinner       take out           오므라이스           F   \n",
       "6797 2015-07-23      lunch  rice & soup 2          쇠고기영양탕           F   \n",
       "6798 2015-07-23      lunch   burger&pizza            왕돈가스           F   \n",
       "6799 2015-07-23     dinner   after school         베이컨마늘라면           F   \n",
       "6800 2015-07-23      lunch       take out     닭가슴살크랜베리샐러드           F   \n",
       "6801 2015-07-24     dinner       take out  스팸구공탄라이스*미니샐러드           F   \n",
       "6802 2015-07-24      lunch    grill & fry           오므라이스           F   \n",
       "6803 2015-07-24     dinner  rice & soup 1       돼지고기고추장볶음           T   \n",
       "6804 2015-07-24     dinner   burger&pizza           어니언버거           F   \n",
       "6805 2015-07-24      lunch   burger&pizza          허니버터피자           F   \n",
       "6806 2015-07-24     dinner   after school            삼양라면           F   \n",
       "6807 2015-07-24      lunch  rice & soup 2        훈제오리채소볶음           F   \n",
       "6808 2015-07-24     dinner    grill & fry         스팸김치볶음밥           F   \n",
       "6809 2015-07-24  breakfast       take out    샌드위치콤보&음료&과일           F   \n",
       "6810 2015-07-24      lunch       take out        자몽&망고샐러드           F   \n",
       "6811 2015-07-24     dinner     noodle bar        쇠고기청경채볶음           F   \n",
       "6812 2015-07-24      lunch   after school         파송송계란라면           F   \n",
       "6813 2015-07-24  breakfast  rice & soup 1     호박새우젓국*청량고추           F   \n",
       "6814 2015-07-24      lunch  rice & soup 1      (뚝)돈가스김치나베           F   \n",
       "6815 2015-07-24      lunch     noodle bar             콩국수           F   \n",
       "6816 2015-07-27      lunch   burger&pizza           매콤돈가스           T   \n",
       "6817 2015-07-27      lunch   after school             라볶이           F   \n",
       "6818 2015-07-27  breakfast  rice & soup 1        북어국*청량고추           F   \n",
       "6819 2015-07-27      lunch  rice & soup 1      (뚝)삼겹살김치찌개           F   \n",
       "6820 2015-07-27      lunch    grill & fry       돼지고기채소비빔밥           F   \n",
       "6821 2015-07-27      lunch  rice & soup 2  생오리고추장불고기&부추생채           F   \n",
       "6822 2015-07-27  breakfast       take out    샌드위치콤보&음료&과일           F   \n",
       "6823 2015-07-27      lunch     noodle bar          김치비빔국수           F   \n",
       "6824 2015-07-27      lunch       take out     닭가슴살크랜베리샐러드           F   \n",
       "\n",
       "      use_count  pred_count  additional  good  ok  bad  diff_use_pred  year  \\\n",
       "0           213           0           0     0   0    0           -213  2013   \n",
       "1           261           0           0     0   0    0           -261  2013   \n",
       "2           267           0           0     0   0    0           -267  2013   \n",
       "3             1           0           0     0   0    0             -1  2013   \n",
       "4           376           0           0     0   0    0           -376  2013   \n",
       "5           179           0           0     0   0    0           -179  2013   \n",
       "6            26           0           0     0   0    0            -26  2013   \n",
       "7           504           0           0     0   0    0           -504  2013   \n",
       "8           167           0           0     0   0    0           -167  2013   \n",
       "9           216           0           0     0   0    0           -216  2013   \n",
       "10          336           0           0     0   0    0           -336  2013   \n",
       "11          359           0           0     0   0    0           -359  2013   \n",
       "12          532           0           0     0   0    0           -532  2013   \n",
       "13          234           0           0     0   0    0           -234  2013   \n",
       "14          457           0           0     0   0    0           -457  2013   \n",
       "15          136           0           0     0   0    0           -136  2013   \n",
       "16          115           0           0     0   0    0           -115  2013   \n",
       "17           26           0           0     0   0    0            -26  2013   \n",
       "18          214           0           0     0   0    0           -214  2013   \n",
       "19          135           0           0     0   0    0           -135  2013   \n",
       "20           27           0           0     0   0    0            -27  2013   \n",
       "21          229           0           0     0   0    0           -229  2013   \n",
       "22          567           0           0     0   0    0           -567  2013   \n",
       "23           98           0           0     0   0    0            -98  2013   \n",
       "24          280           0           0     0   0    0           -280  2013   \n",
       "25          114           0           0     0   0    0           -114  2013   \n",
       "26          314           0           0     0   0    0           -314  2013   \n",
       "27          441           0           0     0   0    0           -441  2013   \n",
       "28          225           0           0     0   0    0           -225  2013   \n",
       "29          204           0           0     0   0    0           -204  2013   \n",
       "...         ...         ...         ...   ...  ..  ...            ...   ...   \n",
       "6795         66           0           0    15   5    3            -66  2015   \n",
       "6796        115           0           0     0   0    0           -115  2015   \n",
       "6797        158           0           0    28   9    1           -158  2015   \n",
       "6798        332           0           0    75  19    2           -332  2015   \n",
       "6799        122           0           0    20   6    1           -122  2015   \n",
       "6800        309           0           0     2   0    1           -309  2015   \n",
       "6801         77           0           0     0   0    0            -77  2015   \n",
       "6802        303           0           0    50  25   16           -303  2015   \n",
       "6803        148           0           0     0   0    0           -148  2015   \n",
       "6804         33           0           0     0   0    0            -33  2015   \n",
       "6805        110           0           0    40   5    1           -110  2015   \n",
       "6806         72           0           0     0   0    0            -72  2015   \n",
       "6807        207           0           0    56  17    5           -207  2015   \n",
       "6808        131           0           0     0   0    0           -131  2015   \n",
       "6809         53           0           0     0   0    0            -53  2015   \n",
       "6810        301           0           0     1   1    0           -301  2015   \n",
       "6811         46           0           0     0   0    0            -46  2015   \n",
       "6812        153           0           0    33   8    7           -153  2015   \n",
       "6813         60           0           0    11   1    1            -60  2015   \n",
       "6814        276           0           0    42  34   14           -276  2015   \n",
       "6815        223           0           0    59  13   10           -223  2015   \n",
       "6816        282           0           0     0   0    0           -282  2015   \n",
       "6817        123           0           0     0   0    0           -123  2015   \n",
       "6818         79           0           0     0   0    0            -79  2015   \n",
       "6819        321           0           0     0   0    0           -321  2015   \n",
       "6820        268           0           0     0   0    0           -268  2015   \n",
       "6821        264           0           0     0   0    0           -264  2015   \n",
       "6822         58           0           0     0   0    0            -58  2015   \n",
       "6823        202           0           0     0   0    0           -202  2015   \n",
       "6824        304           0           0     0   0    0           -304  2015   \n",
       "\n",
       "      month  day  wday  \n",
       "0         8    6     1  \n",
       "1         8    6     1  \n",
       "2         8    6     1  \n",
       "3         8    6     1  \n",
       "4         8    6     1  \n",
       "5         8   12     0  \n",
       "6         8   12     0  \n",
       "7         8   12     0  \n",
       "8         8   12     0  \n",
       "9         8   12     0  \n",
       "10        8   12     0  \n",
       "11        8   12     0  \n",
       "12        8   13     1  \n",
       "13        8   13     1  \n",
       "14        8   13     1  \n",
       "15        8   13     1  \n",
       "16        8   13     1  \n",
       "17        8   13     1  \n",
       "18        8   13     1  \n",
       "19        8   14     2  \n",
       "20        8   14     2  \n",
       "21        8   14     2  \n",
       "22        8   14     2  \n",
       "23        8   14     2  \n",
       "24        8   14     2  \n",
       "25        8   14     2  \n",
       "26        8   19     0  \n",
       "27        8   19     0  \n",
       "28        8   19     0  \n",
       "29        8   19     0  \n",
       "...     ...  ...   ...  \n",
       "6795      7   23     3  \n",
       "6796      7   23     3  \n",
       "6797      7   23     3  \n",
       "6798      7   23     3  \n",
       "6799      7   23     3  \n",
       "6800      7   23     3  \n",
       "6801      7   24     4  \n",
       "6802      7   24     4  \n",
       "6803      7   24     4  \n",
       "6804      7   24     4  \n",
       "6805      7   24     4  \n",
       "6806      7   24     4  \n",
       "6807      7   24     4  \n",
       "6808      7   24     4  \n",
       "6809      7   24     4  \n",
       "6810      7   24     4  \n",
       "6811      7   24     4  \n",
       "6812      7   24     4  \n",
       "6813      7   24     4  \n",
       "6814      7   24     4  \n",
       "6815      7   24     4  \n",
       "6816      7   27     0  \n",
       "6817      7   27     0  \n",
       "6818      7   27     0  \n",
       "6819      7   27     0  \n",
       "6820      7   27     0  \n",
       "6821      7   27     0  \n",
       "6822      7   27     0  \n",
       "6823      7   27     0  \n",
       "6824      7   27     0  \n",
       "\n",
       "[6825 rows x 16 columns]"
      ]
     },
     "execution_count": 219,
     "metadata": {},
     "output_type": "execute_result"
    }
   ],
   "source": [
    "# 데이터 조회\n",
    "식당"
   ]
  },
  {
   "cell_type": "code",
   "execution_count": null,
   "metadata": {},
   "outputs": [],
   "source": [
    "# 'date' 컬럼을 index label로 지정\n"
   ]
  },
  {
   "cell_type": "code",
   "execution_count": null,
   "metadata": {
    "scrolled": false
   },
   "outputs": [],
   "source": [
    "# 2014년 데이터만 선택하여 출력\n"
   ]
  },
  {
   "cell_type": "code",
   "execution_count": null,
   "metadata": {},
   "outputs": [],
   "source": [
    "# 2015년 1월 데이터만 선택하여 출력\n"
   ]
  },
  {
   "cell_type": "code",
   "execution_count": null,
   "metadata": {},
   "outputs": [],
   "source": [
    "# 2014년 8월 1일부터 2014년 9월 25일까지 데이터만 출력\n"
   ]
  },
  {
   "cell_type": "code",
   "execution_count": null,
   "metadata": {},
   "outputs": [],
   "source": [
    "# 2015년 6월 30일 데이터만 출력\n"
   ]
  },
  {
   "cell_type": "markdown",
   "metadata": {},
   "source": [
    "### date_range()를 활용한 고급 기법\n",
    "https://pandas.pydata.org/pandas-docs/stable/generated/pandas.date_range.html"
   ]
  },
  {
   "cell_type": "code",
   "execution_count": null,
   "metadata": {},
   "outputs": [],
   "source": [
    "# 특정 기간의 날짜 생성\n"
   ]
  },
  {
   "cell_type": "code",
   "execution_count": null,
   "metadata": {},
   "outputs": [],
   "source": [
    "# start 날짜를 기준으로 periods 갯수만큼 날짜 생성\n"
   ]
  },
  {
   "cell_type": "code",
   "execution_count": null,
   "metadata": {},
   "outputs": [],
   "source": [
    "#특정 주기로 날짜를 생성 - freq 인자\n",
    "# 상세 내용은 https://pandas.pydata.org/pandas-docs/stable/timeseries.html#timeseries-offset-aliases 확인\n",
    "\n",
    "\n",
    "# D: 일단위\n",
    "# W: 주 단위 (일요일만 선택)\n",
    "# W-MON: 주 단위이되, 월요일만 선택\n",
    "# W-TUE: 주 단위이되, 화요일만 선택. WED, THU, FRI, SAT, SUN 모두 가능\n",
    "# M: 매달 마지막날만 선택\n",
    "# MS: 매달 첫째날만 선택\n",
    "# B: 주중만 선택 (Business day)"
   ]
  },
  {
   "cell_type": "code",
   "execution_count": null,
   "metadata": {},
   "outputs": [],
   "source": [
    "# 식당 데이터 중 월요일 데이터만 선택하여 출력\n",
    "# date_range()를 이용하여, 2013-08-06~ 2015-07-27까지 \n",
    "# 1) 매주 월요일만 가지고 있는 리스트 생성\n",
    "#매주월요일 = pd.date_range(start = '2013-08-06', end = '2015-7-27', freq = 'W-MON')\n"
   ]
  },
  {
   "cell_type": "code",
   "execution_count": null,
   "metadata": {},
   "outputs": [],
   "source": [
    "# 2) 조건 색인을 이용하여, 매주월요일 데이터만 선택하여 출력\n"
   ]
  },
  {
   "cell_type": "markdown",
   "metadata": {},
   "source": [
    "### 3. 전체 기간 동안, 가장 많은 판매량을 올렸던 날 찾기"
   ]
  },
  {
   "cell_type": "code",
   "execution_count": null,
   "metadata": {},
   "outputs": [],
   "source": [
    "# 분석 실습\n",
    "# 1. 전체 기간 동안, 가장 많은 판매량을 올렸던 날 찾기\n",
    "# 2. 전체 기간 동안, 아침, 점심, 저녁 메뉴로 가장 인기 있었던 메뉴를 각각 착기\n",
    "# 3. 2014년 한 해 동안 가장 많은 판매량을 올린 메뉴 찾기\n",
    "# 4. 2014년 한 해 동안 각 코너 별로 판매량을 그래프로 표현"
   ]
  },
  {
   "cell_type": "code",
   "execution_count": null,
   "metadata": {},
   "outputs": [],
   "source": []
  },
  {
   "cell_type": "markdown",
   "metadata": {},
   "source": [
    "### 4. (실습 1) 전체 기간 동안, 아침, 점심, 저녁 메뉴로 가장 인기 있었던 메뉴를 각각 착기"
   ]
  },
  {
   "cell_type": "code",
   "execution_count": null,
   "metadata": {},
   "outputs": [],
   "source": []
  },
  {
   "cell_type": "code",
   "execution_count": null,
   "metadata": {},
   "outputs": [],
   "source": []
  },
  {
   "cell_type": "markdown",
   "metadata": {},
   "source": [
    "### 5. (실습 2) 2014년 한 해 동안, 각 코너 별  월별 판매량을 그래프로 시각화하기 "
   ]
  },
  {
   "cell_type": "code",
   "execution_count": null,
   "metadata": {},
   "outputs": [],
   "source": []
  },
  {
   "cell_type": "code",
   "execution_count": null,
   "metadata": {},
   "outputs": [],
   "source": []
  },
  {
   "cell_type": "code",
   "execution_count": null,
   "metadata": {},
   "outputs": [],
   "source": []
  },
  {
   "cell_type": "markdown",
   "metadata": {},
   "source": [
    "### 6. (실습 3) 매진을 가장 많이 기록한 상위 10개 메뉴와 매진횟수를 출력"
   ]
  },
  {
   "cell_type": "code",
   "execution_count": null,
   "metadata": {},
   "outputs": [],
   "source": []
  }
 ],
 "metadata": {
  "kernelspec": {
   "display_name": "Python 3",
   "language": "python",
   "name": "python3"
  },
  "language_info": {
   "codemirror_mode": {
    "name": "ipython",
    "version": 3
   },
   "file_extension": ".py",
   "mimetype": "text/x-python",
   "name": "python",
   "nbconvert_exporter": "python",
   "pygments_lexer": "ipython3",
   "version": "3.6.8"
  },
  "toc": {
   "base_numbering": 1,
   "nav_menu": {},
   "number_sections": true,
   "sideBar": true,
   "skip_h1_title": true,
   "title_cell": "Table of Contents",
   "title_sidebar": "Contents",
   "toc_cell": false,
   "toc_position": {},
   "toc_section_display": true,
   "toc_window_display": true
  }
 },
 "nbformat": 4,
 "nbformat_minor": 2
}
