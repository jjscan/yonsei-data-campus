{
 "cells": [
  {
   "cell_type": "markdown",
   "metadata": {},
   "source": [
    "# 파이썬의 과학기술 분야 Ecosystem\n",
    "<img src=\"img/1강/파이썬과학기술라이브러리.jpg\" alt=\"datetime\" style=\"width: 1200px;\"/>\n",
    "# 1. Pandas 소개\n",
    "<img src=\"img/1강/6pandas소개.jpg\" alt=\"datetime\" style=\"width: 1200px;\"/>\n",
    "# [ Pandas API 공식 문서 ]\n",
    "## http://pandas.pydata.org/pandas-docs/stable/api.html"
   ]
  },
  {
   "cell_type": "markdown",
   "metadata": {},
   "source": [
    "# 2. Pandas 주요 데이터 타입"
   ]
  },
  {
   "cell_type": "markdown",
   "metadata": {},
   "source": [
    "## 2.1. Series (시리즈)\n",
    "<img src=\"img/1강/Series소개.jpg\" alt=\"datetime\" style=\"width: 1200px;\"/>"
   ]
  },
  {
   "cell_type": "code",
   "execution_count": 5,
   "metadata": {},
   "outputs": [],
   "source": []
  },
  {
   "cell_type": "markdown",
   "metadata": {},
   "source": [
    "## 2.1.1 Series 생성"
   ]
  },
  {
   "cell_type": "markdown",
   "metadata": {},
   "source": [
    "## 2.2.2. Series 색인"
   ]
  },
  {
   "cell_type": "markdown",
   "metadata": {},
   "source": [
    "# 인덱스 슬라이싱 (숫자 인덱스)\n",
    "<img src=\"img/1강/3문자열슬라이싱.jpg\" alt=\"datetime\" style=\"width: 800px;\"/>"
   ]
  },
  {
   "cell_type": "markdown",
   "metadata": {},
   "source": [
    "### 1) :을 기점으로 왼쪽에 start index, 오른쪽에 end index 지정\n",
    "### 2) start index 보다 크거나 같고, end index보다 작은 항목을 선택\n",
    "### 3) 예를 들어, a[2:5]는 a[[2,3,4]]와 동일\n",
    "### 4) start index와 end index는 생략 가능하며, 생략 시 start index는 첫 인덱스, end index는 끝 인덱스로 지정됨.\n",
    "### 5) 음수 인덱스는 끝에서 시작되는 역인덱스임."
   ]
  },
  {
   "cell_type": "markdown",
   "metadata": {},
   "source": [
    "# 조건을 활용한 인덱스 선택 (조건 색인)\n",
    "# 매우 많이 활용되므로, 꼭 알고 있어야 함!\n",
    "<img src=\"img/1강/조건색인.jpg\" alt=\"datetime\" style=\"width: 1000px;\"/>"
   ]
  },
  {
   "cell_type": "markdown",
   "metadata": {},
   "source": [
    "## 2.2.3. Series 속성 조회 및 주요 함수\n",
    "<img src=\"img/1강/Series주요속성및함수.jpg\" alt=\"datetime\" style=\"width: 1000px;\"/>"
   ]
  },
  {
   "cell_type": "markdown",
   "metadata": {},
   "source": [
    "### 속성 (Attributes)"
   ]
  },
  {
   "cell_type": "markdown",
   "metadata": {},
   "source": [
    "### 주요 함수"
   ]
  },
  {
   "cell_type": "markdown",
   "metadata": {},
   "source": [
    "=============================================================\n",
    "# 실습 문제 "
   ]
  },
  {
   "cell_type": "code",
   "execution_count": 76,
   "metadata": {},
   "outputs": [],
   "source": [
    "import random"
   ]
  },
  {
   "cell_type": "code",
   "execution_count": 77,
   "metadata": {
    "collapsed": true
   },
   "outputs": [
    {
     "data": {
      "text/plain": [
       "A    89\n",
       "B    55\n",
       "C     4\n",
       "D    35\n",
       "E    46\n",
       "F    72\n",
       "G    29\n",
       "H    12\n",
       "I    32\n",
       "J    79\n",
       "K    23\n",
       "L    21\n",
       "M    30\n",
       "N    43\n",
       "O    70\n",
       "P    57\n",
       "Q    50\n",
       "R    36\n",
       "S    78\n",
       "T    75\n",
       "U    61\n",
       "V    65\n",
       "W    73\n",
       "X    19\n",
       "Y    94\n",
       "Z    24\n",
       "dtype: int64"
      ]
     },
     "execution_count": 77,
     "metadata": {},
     "output_type": "execute_result"
    }
   ],
   "source": [
    "# 실습 데이터 생성\n",
    "sample = random.sample(range(1,100),26) # 1~100사이의 값을 26개 생성하여 list로 반환\n",
    "data = Series(sample, index = list('ABCDEFGHIJKLMNOPQRSTUVWXYZ'))\n",
    "data"
   ]
  },
  {
   "cell_type": "code",
   "execution_count": null,
   "metadata": {
    "collapsed": true
   },
   "outputs": [],
   "source": [
    "# 1) 인덱스 라벨이 'K' 항목의 값 출력\n"
   ]
  },
  {
   "cell_type": "code",
   "execution_count": null,
   "metadata": {
    "collapsed": true
   },
   "outputs": [],
   "source": [
    "# 2) 인덱스 라벨이 'A','F','C' 항목의 값 출력\n"
   ]
  },
  {
   "cell_type": "code",
   "execution_count": null,
   "metadata": {
    "collapsed": true
   },
   "outputs": [],
   "source": [
    "# 3) 5번 인덱스부터 15번 인덱스까지의 항목 출력\n"
   ]
  },
  {
   "cell_type": "code",
   "execution_count": null,
   "metadata": {
    "collapsed": true
   },
   "outputs": [],
   "source": [
    "# 4) 뒤에서 5개 항목 출력\n"
   ]
  },
  {
   "cell_type": "code",
   "execution_count": null,
   "metadata": {
    "collapsed": true
   },
   "outputs": [],
   "source": [
    "# 5) data의 항목의 갯수를 출력\n"
   ]
  },
  {
   "cell_type": "code",
   "execution_count": null,
   "metadata": {
    "collapsed": true
   },
   "outputs": [],
   "source": [
    "# 6) data 항목 값들의 평균보다 큰 항목만 출력 \n",
    "## Hint. data 항목 값들의 평균은 data.mean()으로 구할 수 있다.\n"
   ]
  },
  {
   "cell_type": "code",
   "execution_count": null,
   "metadata": {
    "collapsed": true
   },
   "outputs": [],
   "source": [
    "# 7) data의 항목 값 중에 50이 있는지 확인하여, 있으면 True, 없으면 False를 출력\n"
   ]
  },
  {
   "cell_type": "code",
   "execution_count": null,
   "metadata": {
    "collapsed": true
   },
   "outputs": [],
   "source": [
    "# 8) data의 인덱스 라벨과 각 항목 값을 아래와 같이 출력\n",
    "# index: A, value: XX\n",
    "# index: B, value: XX\n",
    "# index: C, value: XX\n"
   ]
  }
 ],
 "metadata": {
  "kernelspec": {
   "display_name": "Python 3",
   "language": "python",
   "name": "python3"
  },
  "language_info": {
   "codemirror_mode": {
    "name": "ipython",
    "version": 3
   },
   "file_extension": ".py",
   "mimetype": "text/x-python",
   "name": "python",
   "nbconvert_exporter": "python",
   "pygments_lexer": "ipython3",
   "version": "3.7.1"
  },
  "toc": {
   "base_numbering": 1,
   "nav_menu": {},
   "number_sections": true,
   "sideBar": true,
   "skip_h1_title": false,
   "title_cell": "Table of Contents",
   "title_sidebar": "Contents",
   "toc_cell": false,
   "toc_position": {},
   "toc_section_display": true,
   "toc_window_display": false
  }
 },
 "nbformat": 4,
 "nbformat_minor": 2
}
